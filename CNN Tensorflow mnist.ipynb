{
 "cells": [
  {
   "cell_type": "code",
   "execution_count": 20,
   "metadata": {},
   "outputs": [],
   "source": [
    "import tensorflow as tf\n",
    "import numpy as np\n",
    "import matplotlib.pyplot as plt\n",
    "import h5py"
   ]
  },
  {
   "cell_type": "code",
   "execution_count": 21,
   "metadata": {},
   "outputs": [],
   "source": [
    "def load_dataset():\n",
    "    train_dataset = h5py.File('../train_signs.h5', \"r\")\n",
    "    train_set_x_orig = np.array(train_dataset[\"train_set_x\"][:]) # your train set features\n",
    "    train_set_y_orig = np.array(train_dataset[\"train_set_y\"][:]) # your train set labels\n",
    "\n",
    "    test_dataset = h5py.File('../test_signs.h5', \"r\")\n",
    "    test_set_x_orig = np.array(test_dataset[\"test_set_x\"][:]) # your test set features\n",
    "    test_set_y_orig = np.array(test_dataset[\"test_set_y\"][:]) # your test set labels\n",
    "\n",
    "    classes = np.array(test_dataset[\"list_classes\"][:]) # the list of classes\n",
    "    \n",
    "    train_set_y_orig = train_set_y_orig.reshape((1, train_set_y_orig.shape[0]))\n",
    "    test_set_y_orig = test_set_y_orig.reshape((1, test_set_y_orig.shape[0]))\n",
    "    \n",
    "    return train_set_x_orig, train_set_y_orig, test_set_x_orig, test_set_y_orig, classes"
   ]
  },
  {
   "cell_type": "code",
   "execution_count": 22,
   "metadata": {},
   "outputs": [],
   "source": [
    "X_train_orig, Y_train_orig, X_test_orig, Y_test_orig, classes = load_dataset()"
   ]
  },
  {
   "cell_type": "code",
   "execution_count": 23,
   "metadata": {},
   "outputs": [
    {
     "data": {
      "text/plain": [
       "(1080, 64, 64, 3)"
      ]
     },
     "execution_count": 23,
     "metadata": {},
     "output_type": "execute_result"
    }
   ],
   "source": [
    "X_train_orig.shape"
   ]
  },
  {
   "cell_type": "code",
   "execution_count": 24,
   "metadata": {},
   "outputs": [
    {
     "data": {
      "text/plain": [
       "(1, 1080)"
      ]
     },
     "execution_count": 24,
     "metadata": {},
     "output_type": "execute_result"
    }
   ],
   "source": [
    "Y_train_orig.shape"
   ]
  },
  {
   "cell_type": "code",
   "execution_count": 25,
   "metadata": {},
   "outputs": [],
   "source": [
    "X_train=X_train_orig\n",
    "Y_train=Y_train_orig.T"
   ]
  },
  {
   "cell_type": "code",
   "execution_count": 26,
   "metadata": {},
   "outputs": [
    {
     "name": "stdout",
     "output_type": "stream",
     "text": [
      "(1080, 64, 64, 3)\n",
      "(1080, 1)\n"
     ]
    }
   ],
   "source": [
    "print (X_train.shape)\n",
    "print (Y_train.shape)"
   ]
  },
  {
   "cell_type": "code",
   "execution_count": 27,
   "metadata": {},
   "outputs": [],
   "source": [
    "def convert_to_one_hot(Y, C):\n",
    "    Y = np.eye(C)[Y.reshape(-1)].T\n",
    "    return Y"
   ]
  },
  {
   "cell_type": "code",
   "execution_count": 28,
   "metadata": {},
   "outputs": [
    {
     "name": "stdout",
     "output_type": "stream",
     "text": [
      "(6, 1080)\n"
     ]
    }
   ],
   "source": [
    "Y_train=convert_to_one_hot(Y_train, 6)\n",
    "print (Y_train.shape)\n"
   ]
  },
  {
   "cell_type": "code",
   "execution_count": 29,
   "metadata": {},
   "outputs": [
    {
     "name": "stdout",
     "output_type": "stream",
     "text": [
      "(1080, 6)\n"
     ]
    }
   ],
   "source": [
    "Y_train=Y_train.T\n",
    "print (Y_train.shape)\n",
    "X_train = X_train_orig/255\n"
   ]
  },
  {
   "cell_type": "code",
   "execution_count": 30,
   "metadata": {},
   "outputs": [
    {
     "name": "stdout",
     "output_type": "stream",
     "text": [
      "(120, 64, 64, 3)\n",
      "(1, 120)\n"
     ]
    }
   ],
   "source": [
    "X_test=X_test_orig/255\n",
    "print(X_test.shape)\n",
    "print (Y_test_orig.shape)"
   ]
  },
  {
   "cell_type": "code",
   "execution_count": 31,
   "metadata": {},
   "outputs": [
    {
     "name": "stdout",
     "output_type": "stream",
     "text": [
      "(120, 6)\n"
     ]
    }
   ],
   "source": [
    "Y_test=convert_to_one_hot(Y_test_orig,6)\n",
    "Y_test=Y_test.T\n",
    "print (Y_test.shape)"
   ]
  },
  {
   "cell_type": "code",
   "execution_count": 32,
   "metadata": {},
   "outputs": [],
   "source": [
    "tf.reset_default_graph()\n",
    "x=tf.placeholder(tf.float32, shape=[None, 64,64,3])\n",
    "y=tf.placeholder(tf.float32, shape=[None, 6])"
   ]
  },
  {
   "cell_type": "code",
   "execution_count": 33,
   "metadata": {},
   "outputs": [],
   "source": [
    "W1=tf.get_variable(\"W1\",shape=[4,4,3,8],dtype=tf.float32,initializer=tf.contrib.layers.xavier_initializer())\n",
    "W2=tf.get_variable(\"W2\",shape=[2,2,8,16],dtype=tf.float32,initializer=tf.contrib.layers.xavier_initializer())"
   ]
  },
  {
   "cell_type": "code",
   "execution_count": 34,
   "metadata": {},
   "outputs": [],
   "source": [
    "z1=tf.nn.conv2d(x,W1,strides=[1,1,1,1],padding='SAME')\n",
    "a1=tf.nn.relu(z1)\n",
    "p1=tf.nn.max_pool(a1,ksize=[1,8,8,1],strides=[1,8,8,1],padding='SAME')\n",
    "z2=tf.nn.conv2d(p1,W2,strides=[1,1,1,1],padding='SAME')\n",
    "a2=tf.nn.relu(z2)\n",
    "p2=tf.nn.max_pool(a2,ksize=[1,4,4,1],strides=[1,4,4,1],padding='SAME')\n",
    "\n",
    "p=tf.contrib.layers.flatten(p2)\n",
    "z3=tf.contrib.layers.fully_connected(p,6,activation_fn=None)\n"
   ]
  },
  {
   "cell_type": "code",
   "execution_count": 35,
   "metadata": {},
   "outputs": [],
   "source": [
    "cost=tf.reduce_mean(tf.nn.softmax_cross_entropy_with_logits( logits=z3, labels=y))\n",
    "optimizer=tf.train.AdamOptimizer(0.009).minimize(cost)"
   ]
  },
  {
   "cell_type": "code",
   "execution_count": null,
   "metadata": {},
   "outputs": [],
   "source": []
  },
  {
   "cell_type": "code",
   "execution_count": 36,
   "metadata": {},
   "outputs": [
    {
     "name": "stdout",
     "output_type": "stream",
     "text": [
      "Cost after epoch 0: 1.863419\n",
      "Cost after epoch 1: 1.789062\n",
      "Cost after epoch 2: 1.796920\n",
      "Cost after epoch 3: 1.794109\n",
      "Cost after epoch 4: 1.790303\n",
      "Cost after epoch 5: 1.789416\n",
      "Cost after epoch 6: 1.790927\n",
      "Cost after epoch 7: 1.790393\n",
      "Cost after epoch 8: 1.788706\n",
      "Cost after epoch 9: 1.786367\n",
      "Cost after epoch 10: 1.784553\n",
      "Cost after epoch 11: 1.783780\n",
      "Cost after epoch 12: 1.781944\n",
      "Cost after epoch 13: 1.779004\n",
      "Cost after epoch 14: 1.775996\n",
      "Cost after epoch 15: 1.773175\n",
      "Cost after epoch 16: 1.769244\n",
      "Cost after epoch 17: 1.764660\n",
      "Cost after epoch 18: 1.758409\n",
      "Cost after epoch 19: 1.749828\n",
      "Cost after epoch 20: 1.741842\n",
      "Cost after epoch 21: 1.730837\n",
      "Cost after epoch 22: 1.720982\n",
      "Cost after epoch 23: 1.707078\n",
      "Cost after epoch 24: 1.698973\n",
      "Cost after epoch 25: 1.679195\n",
      "Cost after epoch 26: 1.665466\n",
      "Cost after epoch 27: 1.642042\n",
      "Cost after epoch 28: 1.634576\n",
      "Cost after epoch 29: 1.605117\n",
      "Cost after epoch 30: 1.592451\n",
      "Cost after epoch 31: 1.558734\n",
      "Cost after epoch 32: 1.547498\n",
      "Cost after epoch 33: 1.511535\n",
      "Cost after epoch 34: 1.490136\n",
      "Cost after epoch 35: 1.456703\n",
      "Cost after epoch 36: 1.428071\n",
      "Cost after epoch 37: 1.407183\n",
      "Cost after epoch 38: 1.369820\n",
      "Cost after epoch 39: 1.343997\n",
      "Cost after epoch 40: 1.316037\n",
      "Cost after epoch 41: 1.277379\n",
      "Cost after epoch 42: 1.257436\n",
      "Cost after epoch 43: 1.252962\n",
      "Cost after epoch 44: 1.194365\n",
      "Cost after epoch 45: 1.188474\n",
      "Cost after epoch 46: 1.166023\n",
      "Cost after epoch 47: 1.128090\n",
      "Cost after epoch 48: 1.120874\n",
      "Cost after epoch 49: 1.073686\n",
      "Cost after epoch 50: 1.074818\n",
      "Cost after epoch 51: 1.029382\n",
      "Cost after epoch 52: 1.012367\n",
      "Cost after epoch 53: 0.998152\n",
      "Cost after epoch 54: 0.979457\n",
      "Cost after epoch 55: 0.993803\n",
      "Cost after epoch 56: 0.946117\n",
      "Cost after epoch 57: 0.925157\n",
      "Cost after epoch 58: 0.931093\n",
      "Cost after epoch 59: 0.881365\n",
      "Cost after epoch 60: 0.890267\n",
      "Cost after epoch 61: 0.864063\n",
      "Cost after epoch 62: 0.886393\n",
      "Cost after epoch 63: 0.861713\n",
      "Cost after epoch 64: 0.830404\n",
      "Cost after epoch 65: 0.813433\n",
      "Cost after epoch 66: 0.806512\n",
      "Cost after epoch 67: 0.810275\n",
      "Cost after epoch 68: 0.769940\n",
      "Cost after epoch 69: 0.761753\n",
      "Cost after epoch 70: 0.756383\n",
      "Cost after epoch 71: 0.749803\n",
      "Cost after epoch 72: 0.726037\n",
      "Cost after epoch 73: 0.715303\n",
      "Cost after epoch 74: 0.710552\n",
      "Cost after epoch 75: 0.707012\n",
      "Cost after epoch 76: 0.687789\n",
      "Cost after epoch 77: 0.676220\n",
      "Cost after epoch 78: 0.660120\n",
      "Cost after epoch 79: 0.665557\n",
      "Cost after epoch 80: 0.654624\n",
      "Cost after epoch 81: 0.642136\n",
      "Cost after epoch 82: 0.627135\n",
      "Cost after epoch 83: 0.620346\n",
      "Cost after epoch 84: 0.620899\n",
      "Cost after epoch 85: 0.607067\n",
      "Cost after epoch 86: 0.597122\n",
      "Cost after epoch 87: 0.590356\n",
      "Cost after epoch 88: 0.585466\n",
      "Cost after epoch 89: 0.576069\n",
      "Cost after epoch 90: 0.567185\n",
      "Cost after epoch 91: 0.558962\n",
      "Cost after epoch 92: 0.552060\n",
      "Cost after epoch 93: 0.547094\n",
      "Cost after epoch 94: 0.544198\n",
      "Cost after epoch 95: 0.542683\n",
      "Cost after epoch 96: 0.546332\n",
      "Cost after epoch 97: 0.545189\n",
      "Cost after epoch 98: 0.539868\n",
      "Cost after epoch 99: 0.519736\n",
      "Cost after epoch 100: 0.503981\n",
      "Cost after epoch 101: 0.499341\n",
      "Cost after epoch 102: 0.502127\n",
      "Cost after epoch 103: 0.502989\n",
      "Cost after epoch 104: 0.486234\n",
      "Cost after epoch 105: 0.475349\n",
      "Cost after epoch 106: 0.472674\n",
      "Cost after epoch 107: 0.472153\n",
      "Cost after epoch 108: 0.469362\n",
      "Cost after epoch 109: 0.458100\n",
      "Cost after epoch 110: 0.451581\n",
      "Cost after epoch 111: 0.448587\n",
      "Cost after epoch 112: 0.443756\n",
      "Cost after epoch 113: 0.439789\n",
      "Cost after epoch 114: 0.432279\n",
      "Cost after epoch 115: 0.425929\n",
      "Cost after epoch 116: 0.422154\n",
      "Cost after epoch 117: 0.418314\n",
      "Cost after epoch 118: 0.415504\n",
      "Cost after epoch 119: 0.412434\n",
      "Cost after epoch 120: 0.407163\n",
      "Cost after epoch 121: 0.401824\n",
      "Cost after epoch 122: 0.396595\n",
      "Cost after epoch 123: 0.390897\n",
      "Cost after epoch 124: 0.386587\n",
      "Cost after epoch 125: 0.383014\n",
      "Cost after epoch 126: 0.379463\n",
      "Cost after epoch 127: 0.376894\n",
      "Cost after epoch 128: 0.374950\n",
      "Cost after epoch 129: 0.373366\n",
      "Cost after epoch 130: 0.370276\n",
      "Cost after epoch 131: 0.367411\n",
      "Cost after epoch 132: 0.361461\n",
      "Cost after epoch 133: 0.358139\n",
      "Cost after epoch 134: 0.355318\n",
      "Cost after epoch 135: 0.353662\n",
      "Cost after epoch 136: 0.351431\n",
      "Cost after epoch 137: 0.348258\n",
      "Cost after epoch 138: 0.345834\n",
      "Cost after epoch 139: 0.342014\n",
      "Cost after epoch 140: 0.341420\n",
      "Cost after epoch 141: 0.335584\n",
      "Cost after epoch 142: 0.328308\n",
      "Cost after epoch 143: 0.321459\n",
      "Cost after epoch 144: 0.320310\n",
      "Cost after epoch 145: 0.322204\n",
      "Cost after epoch 146: 0.319640\n",
      "Cost after epoch 147: 0.314170\n",
      "Cost after epoch 148: 0.307148\n",
      "Cost after epoch 149: 0.305075\n",
      "Cost after epoch 150: 0.306064\n",
      "Cost after epoch 151: 0.304931\n",
      "Cost after epoch 152: 0.298587\n",
      "Cost after epoch 153: 0.292737\n",
      "Cost after epoch 154: 0.291757\n",
      "Cost after epoch 155: 0.293136\n",
      "Cost after epoch 156: 0.292491\n",
      "Cost after epoch 157: 0.288622\n",
      "Cost after epoch 158: 0.286553\n",
      "Cost after epoch 159: 0.287323\n",
      "Cost after epoch 160: 0.291844\n",
      "Cost after epoch 161: 0.287803\n",
      "Cost after epoch 162: 0.281572\n",
      "Cost after epoch 163: 0.270927\n",
      "Cost after epoch 164: 0.268792\n",
      "Cost after epoch 165: 0.270960\n",
      "Cost after epoch 166: 0.267713\n",
      "Cost after epoch 167: 0.262484\n",
      "Cost after epoch 168: 0.261510\n",
      "Cost after epoch 169: 0.262215\n",
      "Cost after epoch 170: 0.257823\n",
      "Cost after epoch 171: 0.252336\n",
      "Cost after epoch 172: 0.251230\n",
      "Cost after epoch 173: 0.250710\n",
      "Cost after epoch 174: 0.247476\n",
      "Cost after epoch 175: 0.244680\n",
      "Cost after epoch 176: 0.244321\n",
      "Cost after epoch 177: 0.243595\n",
      "Cost after epoch 178: 0.241216\n",
      "Cost after epoch 179: 0.237239\n",
      "Cost after epoch 180: 0.234232\n",
      "Cost after epoch 181: 0.232692\n",
      "Cost after epoch 182: 0.231628\n",
      "Cost after epoch 183: 0.230680\n",
      "Cost after epoch 184: 0.229723\n",
      "Cost after epoch 185: 0.230318\n",
      "Cost after epoch 186: 0.230277\n",
      "Cost after epoch 187: 0.230280\n",
      "Cost after epoch 188: 0.224831\n",
      "Cost after epoch 189: 0.218889\n",
      "Cost after epoch 190: 0.217340\n",
      "Cost after epoch 191: 0.218708\n",
      "Cost after epoch 192: 0.217876\n",
      "Cost after epoch 193: 0.213414\n",
      "Cost after epoch 194: 0.209627\n",
      "Cost after epoch 195: 0.208724\n",
      "Cost after epoch 196: 0.210307\n",
      "Cost after epoch 197: 0.213652\n",
      "Cost after epoch 198: 0.214027\n",
      "Cost after epoch 199: 0.211636\n",
      "Cost after epoch 200: 0.203353\n",
      "Cost after epoch 201: 0.199635\n",
      "Cost after epoch 202: 0.202068\n",
      "Cost after epoch 203: 0.201752\n",
      "Cost after epoch 204: 0.197173\n",
      "Cost after epoch 205: 0.193385\n",
      "Cost after epoch 206: 0.193642\n",
      "Cost after epoch 207: 0.194361\n",
      "Cost after epoch 208: 0.192049\n",
      "Cost after epoch 209: 0.188737\n",
      "Cost after epoch 210: 0.187276\n",
      "Cost after epoch 211: 0.187156\n",
      "Cost after epoch 212: 0.186625\n",
      "Cost after epoch 213: 0.184001\n",
      "Cost after epoch 214: 0.181433\n",
      "Cost after epoch 215: 0.179963\n",
      "Cost after epoch 216: 0.179567\n",
      "Cost after epoch 217: 0.178635\n",
      "Cost after epoch 218: 0.176681\n",
      "Cost after epoch 219: 0.174630\n",
      "Cost after epoch 220: 0.173381\n",
      "Cost after epoch 221: 0.172763\n",
      "Cost after epoch 222: 0.171926\n",
      "Cost after epoch 223: 0.170576\n",
      "Cost after epoch 224: 0.169628\n",
      "Cost after epoch 225: 0.170339\n",
      "Cost after epoch 226: 0.172996\n",
      "Cost after epoch 227: 0.181338\n",
      "Cost after epoch 228: 0.192216\n",
      "Cost after epoch 229: 0.214554\n",
      "Cost after epoch 230: 0.222948\n",
      "Cost after epoch 231: 0.198292\n",
      "Cost after epoch 232: 0.160999\n",
      "Cost after epoch 233: 0.180931\n",
      "Cost after epoch 234: 0.199884\n",
      "Cost after epoch 235: 0.167719\n",
      "Cost after epoch 236: 0.167115\n",
      "Cost after epoch 237: 0.186747\n",
      "Cost after epoch 238: 0.170236\n",
      "Cost after epoch 239: 0.164526\n",
      "Cost after epoch 240: 0.179157\n",
      "Cost after epoch 241: 0.170757\n",
      "Cost after epoch 242: 0.160936\n",
      "Cost after epoch 243: 0.177170\n",
      "Cost after epoch 244: 0.164735\n",
      "Cost after epoch 245: 0.158000\n",
      "Cost after epoch 246: 0.174106\n",
      "Cost after epoch 247: 0.151454\n",
      "Cost after epoch 248: 0.159258\n",
      "Cost after epoch 249: 0.159868\n",
      "Cost after epoch 250: 0.145186\n",
      "Cost after epoch 251: 0.158307\n",
      "Cost after epoch 252: 0.143754\n",
      "Cost after epoch 253: 0.150753\n",
      "Cost after epoch 254: 0.149800\n",
      "Cost after epoch 255: 0.140803\n",
      "Cost after epoch 256: 0.149172\n",
      "Cost after epoch 257: 0.139629\n",
      "Cost after epoch 258: 0.144104\n",
      "Cost after epoch 259: 0.142072\n",
      "Cost after epoch 260: 0.136610\n",
      "Cost after epoch 261: 0.140400\n",
      "Cost after epoch 262: 0.136568\n",
      "Cost after epoch 263: 0.138115\n",
      "Cost after epoch 264: 0.135923\n",
      "Cost after epoch 265: 0.133067\n",
      "Cost after epoch 266: 0.133631\n",
      "Cost after epoch 267: 0.133206\n"
     ]
    },
    {
     "name": "stdout",
     "output_type": "stream",
     "text": [
      "Cost after epoch 268: 0.131563\n",
      "Cost after epoch 269: 0.130265\n",
      "Cost after epoch 270: 0.129264\n",
      "Cost after epoch 271: 0.127059\n",
      "Cost after epoch 272: 0.128322\n",
      "Cost after epoch 273: 0.126496\n",
      "Cost after epoch 274: 0.125459\n",
      "Cost after epoch 275: 0.125355\n",
      "Cost after epoch 276: 0.122439\n",
      "Cost after epoch 277: 0.123807\n",
      "Cost after epoch 278: 0.122515\n",
      "Cost after epoch 279: 0.121144\n",
      "Cost after epoch 280: 0.121465\n",
      "Cost after epoch 281: 0.118950\n",
      "Cost after epoch 282: 0.118935\n",
      "Cost after epoch 283: 0.118384\n",
      "Cost after epoch 284: 0.117154\n",
      "Cost after epoch 285: 0.117076\n",
      "Cost after epoch 286: 0.115728\n",
      "Cost after epoch 287: 0.114986\n",
      "Cost after epoch 288: 0.114308\n",
      "Cost after epoch 289: 0.113579\n",
      "Cost after epoch 290: 0.113056\n",
      "Cost after epoch 291: 0.112284\n",
      "Cost after epoch 292: 0.111663\n",
      "Cost after epoch 293: 0.110726\n",
      "Cost after epoch 294: 0.110075\n",
      "Cost after epoch 295: 0.109458\n",
      "Cost after epoch 296: 0.108615\n",
      "Cost after epoch 297: 0.108278\n",
      "Cost after epoch 298: 0.107612\n",
      "Cost after epoch 299: 0.107004\n",
      "0.9824074\n",
      "0.825\n"
     ]
    }
   ],
   "source": [
    "init=tf.global_variables_initializer()\n",
    "with tf.Session() as sess:\n",
    "    \n",
    "    sess.run(init)\n",
    "    cos=0\n",
    "    for epoch in range(300):\n",
    "        _,cost_=sess.run([optimizer,cost],feed_dict={x:X_train, y:Y_train})\n",
    "        cos=cost_\n",
    "        print (\"Cost after epoch %i: %f\" % (epoch, cos))\n",
    "        \n",
    "    predict_op=tf.argmax(z3,1)\n",
    "    #print(predict_op.shape)\n",
    "    #print (tf.argmax(y, 1).shape)\n",
    "    correct_prediction = tf.equal(predict_op, tf.argmax(y, 1))\n",
    "    accuracy = tf.reduce_mean(tf.cast(correct_prediction, \"float\"))\n",
    "    train_accuracy = accuracy.eval({x: X_train, y: Y_train})\n",
    "    test_accuracy = accuracy.eval({x: X_test, y: Y_test})\n",
    "    print(train_accuracy)\n",
    "    print (test_accuracy)"
   ]
  },
  {
   "cell_type": "code",
   "execution_count": 37,
   "metadata": {},
   "outputs": [
    {
     "name": "stdout",
     "output_type": "stream",
     "text": [
      "0.9824074\n"
     ]
    }
   ],
   "source": [
    "print (train_accuracy)"
   ]
  },
  {
   "cell_type": "code",
   "execution_count": 39,
   "metadata": {},
   "outputs": [
    {
     "name": "stdout",
     "output_type": "stream",
     "text": [
      "Cost after epoch 0: 1.946557\n",
      "Cost after epoch 1: 1.811894\n",
      "Cost after epoch 2: 1.802021\n",
      "Cost after epoch 3: 1.803209\n",
      "Cost after epoch 4: 1.796831\n",
      "Cost after epoch 5: 1.790282\n",
      "Cost after epoch 6: 1.788901\n",
      "Cost after epoch 7: 1.788493\n",
      "Cost after epoch 8: 1.787221\n",
      "Cost after epoch 9: 1.785748\n",
      "Cost after epoch 10: 1.784229\n",
      "Cost after epoch 11: 1.782375\n",
      "Cost after epoch 12: 1.780360\n",
      "Cost after epoch 13: 1.778495\n",
      "Cost after epoch 14: 1.775382\n",
      "Cost after epoch 15: 1.771788\n",
      "Cost after epoch 16: 1.767779\n",
      "Cost after epoch 17: 1.762056\n",
      "Cost after epoch 18: 1.756683\n",
      "Cost after epoch 19: 1.749743\n",
      "Cost after epoch 20: 1.739931\n",
      "Cost after epoch 21: 1.730112\n",
      "Cost after epoch 22: 1.720192\n",
      "Cost after epoch 23: 1.707597\n",
      "Cost after epoch 24: 1.693243\n",
      "Cost after epoch 25: 1.676512\n",
      "Cost after epoch 26: 1.660060\n",
      "Cost after epoch 27: 1.639099\n",
      "Cost after epoch 28: 1.623904\n",
      "Cost after epoch 29: 1.605115\n",
      "Cost after epoch 30: 1.579848\n",
      "Cost after epoch 31: 1.563470\n",
      "Cost after epoch 32: 1.538649\n",
      "Cost after epoch 33: 1.517359\n",
      "Cost after epoch 34: 1.497380\n",
      "Cost after epoch 35: 1.470091\n",
      "Cost after epoch 36: 1.445829\n",
      "Cost after epoch 37: 1.419066\n",
      "Cost after epoch 38: 1.388730\n",
      "Cost after epoch 39: 1.359013\n",
      "Cost after epoch 40: 1.326533\n",
      "Cost after epoch 41: 1.295192\n",
      "Cost after epoch 42: 1.268997\n",
      "Cost after epoch 43: 1.334947\n",
      "Cost after epoch 44: 1.316384\n",
      "Cost after epoch 45: 1.214741\n",
      "Cost after epoch 46: 1.234110\n",
      "Cost after epoch 47: 1.207172\n",
      "Cost after epoch 48: 1.197084\n",
      "Cost after epoch 49: 1.191457\n",
      "Cost after epoch 50: 1.161471\n",
      "Cost after epoch 51: 1.144252\n",
      "Cost after epoch 52: 1.121537\n",
      "Cost after epoch 53: 1.093406\n",
      "Cost after epoch 54: 1.073668\n",
      "Cost after epoch 55: 1.062447\n",
      "Cost after epoch 56: 1.033103\n",
      "Cost after epoch 57: 1.037179\n",
      "Cost after epoch 58: 1.014050\n",
      "Cost after epoch 59: 0.997477\n",
      "Cost after epoch 60: 0.990907\n",
      "Cost after epoch 61: 0.968431\n",
      "Cost after epoch 62: 0.953166\n",
      "Cost after epoch 63: 0.943240\n",
      "Cost after epoch 64: 0.938554\n",
      "Cost after epoch 65: 0.920604\n",
      "Cost after epoch 66: 0.906327\n",
      "Cost after epoch 67: 0.896231\n",
      "Cost after epoch 68: 0.881252\n",
      "Cost after epoch 69: 0.874571\n",
      "Cost after epoch 70: 0.858600\n",
      "Cost after epoch 71: 0.843725\n",
      "Cost after epoch 72: 0.835751\n",
      "Cost after epoch 73: 0.821561\n",
      "Cost after epoch 74: 0.814729\n",
      "Cost after epoch 75: 0.803669\n",
      "Cost after epoch 76: 0.790957\n",
      "Cost after epoch 77: 0.781732\n",
      "Cost after epoch 78: 0.770904\n",
      "Cost after epoch 79: 0.760546\n",
      "Cost after epoch 80: 0.751920\n",
      "Cost after epoch 81: 0.743823\n",
      "Cost after epoch 82: 0.735208\n",
      "Cost after epoch 83: 0.733606\n",
      "Cost after epoch 84: 0.731273\n",
      "Cost after epoch 85: 0.723558\n",
      "Cost after epoch 86: 0.716944\n",
      "Cost after epoch 87: 0.697338\n",
      "Cost after epoch 88: 0.679170\n",
      "Cost after epoch 89: 0.678378\n",
      "Cost after epoch 90: 0.678587\n",
      "Cost after epoch 91: 0.667019\n",
      "Cost after epoch 92: 0.653111\n",
      "Cost after epoch 93: 0.644101\n",
      "Cost after epoch 94: 0.644863\n",
      "Cost after epoch 95: 0.643606\n",
      "Cost after epoch 96: 0.628712\n",
      "Cost after epoch 97: 0.613726\n",
      "Cost after epoch 98: 0.612402\n",
      "Cost after epoch 99: 0.610101\n",
      "0.80185187\n",
      "0.75\n"
     ]
    }
   ],
   "source": [
    "init=tf.global_variables_initializer()\n",
    "with tf.Session() as sess:\n",
    "    \n",
    "    sess.run(init)\n",
    "    cos=0\n",
    "    for epoch in range(100):\n",
    "        _,cost_=sess.run([optimizer,cost],feed_dict={x:X_train, y:Y_train})\n",
    "        cos=cost_\n",
    "        print (\"Cost after epoch %i: %f\" % (epoch, cos))\n",
    "        \n",
    "    predict_op=tf.argmax(z3,1)\n",
    "    #print(predict_op.shape)\n",
    "    #print (tf.argmax(y, 1).shape)\n",
    "    correct_prediction = tf.equal(predict_op, tf.argmax(y, 1))\n",
    "    accuracy = tf.reduce_mean(tf.cast(correct_prediction, \"float\"))\n",
    "    train_accuracy = accuracy.eval({x: X_train, y: Y_train})\n",
    "    test_accuracy = accuracy.eval({x: X_test, y: Y_test})\n",
    "    print(train_accuracy)\n",
    "    print (test_accuracy)"
   ]
  },
  {
   "cell_type": "code",
   "execution_count": null,
   "metadata": {},
   "outputs": [],
   "source": []
  }
 ],
 "metadata": {
  "kernelspec": {
   "display_name": "Python 3",
   "language": "python",
   "name": "python3"
  },
  "language_info": {
   "codemirror_mode": {
    "name": "ipython",
    "version": 3
   },
   "file_extension": ".py",
   "mimetype": "text/x-python",
   "name": "python",
   "nbconvert_exporter": "python",
   "pygments_lexer": "ipython3",
   "version": "3.6.6"
  }
 },
 "nbformat": 4,
 "nbformat_minor": 2
}
