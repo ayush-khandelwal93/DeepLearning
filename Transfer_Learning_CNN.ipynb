{
  "nbformat": 4,
  "nbformat_minor": 0,
  "metadata": {
    "colab": {
      "name": "Transfer Learning CNN.ipynb",
      "version": "0.3.2",
      "provenance": []
    },
    "kernelspec": {
      "name": "python3",
      "display_name": "Python 3"
    },
    "accelerator": "GPU"
  },
  "cells": [
    {
      "metadata": {
        "id": "Cmns1RBWPWxc",
        "colab_type": "code",
        "colab": {}
      },
      "cell_type": "code",
      "source": [
        "import tensorflow as tf\n",
        "import tensornets as nets"
      ],
      "execution_count": 0,
      "outputs": []
    },
    {
      "metadata": {
        "id": "SM70mggtPdUc",
        "colab_type": "code",
        "colab": {
          "base_uri": "https://localhost:8080/",
          "height": 176
        },
        "outputId": "e4a4ccf7-43a3-4954-c098-f30aec501965"
      },
      "cell_type": "code",
      "source": [
        "!pip install tensornets\n"
      ],
      "execution_count": 6,
      "outputs": [
        {
          "output_type": "stream",
          "text": [
            "Collecting tensornets\n",
            "  Using cached https://files.pythonhosted.org/packages/1c/89/0e3b4ee23371ee66aa07c575ca2e7b64eb7ecf751a9d579b78a8cee314b1/tensornets-0.3.6.tar.gz\n",
            "Building wheels for collected packages: tensornets\n",
            "  Running setup.py bdist_wheel for tensornets ... \u001b[?25l-\b \b\\\b \b|\b \b/\b \b-\b \b\\\b \b|\b \bdone\n",
            "\u001b[?25h  Stored in directory: /root/.cache/pip/wheels/12/56/86/d29c1f3743caf453be8f1b9615f170a12d22e8bbf200c19a36\n",
            "Successfully built tensornets\n",
            "Installing collected packages: tensornets\n",
            "Successfully installed tensornets-0.3.6\n"
          ],
          "name": "stdout"
        }
      ]
    },
    {
      "metadata": {
        "id": "xnm_wrYBPsrc",
        "colab_type": "code",
        "colab": {
          "base_uri": "https://localhost:8080/",
          "height": 124
        },
        "outputId": "9ace563f-df3b-474a-a8d3-d1659ad1f2fd"
      },
      "cell_type": "code",
      "source": [
        "!pip  install Cython"
      ],
      "execution_count": 5,
      "outputs": [
        {
          "output_type": "stream",
          "text": [
            "Collecting Cython\n",
            "\u001b[?25l  Downloading https://files.pythonhosted.org/packages/a2/e0/0592be5b851c8013aa253592606ca265862d27444d908e029fd75d563c9c/Cython-0.29.1-cp36-cp36m-manylinux1_x86_64.whl (2.1MB)\n",
            "\r\u001b[K    0% |▏                               | 10kB 20.7MB/s eta 0:00:01\r\u001b[K    0% |▎                               | 20kB 4.4MB/s eta 0:00:01\r\u001b[K    1% |▌                               | 30kB 6.2MB/s eta 0:00:01\r\u001b[K    1% |▋                               | 40kB 4.0MB/s eta 0:00:01\r\u001b[K    2% |▉                               | 51kB 4.9MB/s eta 0:00:01\r\u001b[K    2% |█                               | 61kB 5.8MB/s eta 0:00:01\r\u001b[K    3% |█                               | 71kB 6.4MB/s eta 0:00:01\r\u001b[K    3% |█▎                              | 81kB 7.2MB/s eta 0:00:01\r\u001b[K    4% |█▍                              | 92kB 7.9MB/s eta 0:00:01\r\u001b[K    4% |█▋                              | 102kB 6.5MB/s eta 0:00:01\r\u001b[K    5% |█▊                              | 112kB 6.6MB/s eta 0:00:01\r\u001b[K    5% |██                              | 122kB 8.9MB/s eta 0:00:01\r\u001b[K    6% |██                              | 133kB 8.8MB/s eta 0:00:01\r\u001b[K    6% |██▏                             | 143kB 15.5MB/s eta 0:00:01\r\u001b[K    7% |██▍                             | 153kB 15.6MB/s eta 0:00:01\r\u001b[K    7% |██▌                             | 163kB 15.6MB/s eta 0:00:01\r\u001b[K    8% |██▊                             | 174kB 16.0MB/s eta 0:00:01\r\u001b[K    8% |██▉                             | 184kB 16.3MB/s eta 0:00:01\r\u001b[K    9% |███                             | 194kB 16.4MB/s eta 0:00:01\r\u001b[K    9% |███▏                            | 204kB 40.6MB/s eta 0:00:01\r\u001b[K    10% |███▎                            | 215kB 18.9MB/s eta 0:00:01\r\u001b[K    10% |███▌                            | 225kB 18.7MB/s eta 0:00:01\r\u001b[K    11% |███▋                            | 235kB 19.1MB/s eta 0:00:01\r\u001b[K    11% |███▉                            | 245kB 18.5MB/s eta 0:00:01\r\u001b[K    12% |████                            | 256kB 18.5MB/s eta 0:00:01\r\u001b[K    12% |████▏                           | 266kB 17.1MB/s eta 0:00:01\r\u001b[K    13% |████▎                           | 276kB 17.7MB/s eta 0:00:01\r\u001b[K    13% |████▍                           | 286kB 17.8MB/s eta 0:00:01\r\u001b[K    14% |████▋                           | 296kB 17.7MB/s eta 0:00:01\r\u001b[K    14% |████▊                           | 307kB 18.3MB/s eta 0:00:01\r\u001b[K    15% |█████                           | 317kB 39.7MB/s eta 0:00:01\r\u001b[K    15% |█████                           | 327kB 40.4MB/s eta 0:00:01\r\u001b[K    16% |█████▏                          | 337kB 41.2MB/s eta 0:00:01\r\u001b[K    16% |█████▍                          | 348kB 40.1MB/s eta 0:00:01\r\u001b[K    17% |█████▌                          | 358kB 40.7MB/s eta 0:00:01\r\u001b[K    17% |█████▊                          | 368kB 49.8MB/s eta 0:00:01\r\u001b[K    18% |█████▉                          | 378kB 49.6MB/s eta 0:00:01\r\u001b[K    18% |██████                          | 389kB 50.6MB/s eta 0:00:01\r\u001b[K    19% |██████▏                         | 399kB 32.7MB/s eta 0:00:01\r\u001b[K    19% |██████▎                         | 409kB 31.9MB/s eta 0:00:01\r\u001b[K    20% |██████▌                         | 419kB 32.2MB/s eta 0:00:01\r\u001b[K    20% |██████▋                         | 430kB 31.8MB/s eta 0:00:01\r\u001b[K    21% |██████▉                         | 440kB 31.6MB/s eta 0:00:01\r\u001b[K    21% |███████                         | 450kB 32.5MB/s eta 0:00:01\r\u001b[K    22% |███████▏                        | 460kB 30.1MB/s eta 0:00:01\r\u001b[K    22% |███████▎                        | 471kB 30.1MB/s eta 0:00:01\r\u001b[K    23% |███████▍                        | 481kB 30.2MB/s eta 0:00:01\r\u001b[K    23% |███████▋                        | 491kB 29.8MB/s eta 0:00:01\r\u001b[K    24% |███████▊                        | 501kB 45.0MB/s eta 0:00:01\r\u001b[K    24% |████████                        | 512kB 44.2MB/s eta 0:00:01\r\u001b[K    25% |████████                        | 522kB 44.6MB/s eta 0:00:01\r\u001b[K    25% |████████▎                       | 532kB 46.1MB/s eta 0:00:01\r\u001b[K    26% |████████▍                       | 542kB 45.8MB/s eta 0:00:01\r\u001b[K    26% |████████▌                       | 552kB 50.1MB/s eta 0:00:01\r\u001b[K    27% |████████▊                       | 563kB 57.1MB/s eta 0:00:01\r\u001b[K    27% |████████▉                       | 573kB 56.2MB/s eta 0:00:01\r\u001b[K    28% |█████████                       | 583kB 56.9MB/s eta 0:00:01\r\u001b[K    28% |█████████▏                      | 593kB 57.9MB/s eta 0:00:01\r\u001b[K    29% |█████████▍                      | 604kB 57.3MB/s eta 0:00:01\r\u001b[K    29% |█████████▌                      | 614kB 61.4MB/s eta 0:00:01\r\u001b[K    30% |█████████▋                      | 624kB 60.2MB/s eta 0:00:01\r\u001b[K    30% |█████████▉                      | 634kB 60.0MB/s eta 0:00:01\r\u001b[K    31% |██████████                      | 645kB 60.0MB/s eta 0:00:01\r\u001b[K    31% |██████████▏                     | 655kB 58.1MB/s eta 0:00:01\r\u001b[K    32% |██████████▎                     | 665kB 42.5MB/s eta 0:00:01\r\u001b[K    32% |██████████▍                     | 675kB 42.3MB/s eta 0:00:01\r\u001b[K    33% |██████████▋                     | 686kB 42.2MB/s eta 0:00:01\r\u001b[K    33% |██████████▊                     | 696kB 42.4MB/s eta 0:00:01\r\u001b[K    34% |███████████                     | 706kB 42.0MB/s eta 0:00:01\r\u001b[K    34% |███████████                     | 716kB 41.7MB/s eta 0:00:01\r\u001b[K    35% |███████████▎                    | 727kB 41.3MB/s eta 0:00:01\r\u001b[K    35% |███████████▍                    | 737kB 39.7MB/s eta 0:00:01\r\u001b[K    36% |███████████▌                    | 747kB 39.7MB/s eta 0:00:01\r\u001b[K    36% |███████████▊                    | 757kB 38.5MB/s eta 0:00:01\r\u001b[K    37% |███████████▉                    | 768kB 49.7MB/s eta 0:00:01\r\u001b[K    37% |████████████                    | 778kB 49.7MB/s eta 0:00:01\r\u001b[K    38% |████████████▏                   | 788kB 49.0MB/s eta 0:00:01\r\u001b[K    38% |████████████▍                   | 798kB 48.6MB/s eta 0:00:01\r\u001b[K    39% |████████████▌                   | 808kB 49.0MB/s eta 0:00:01\r\u001b[K    39% |████████████▋                   | 819kB 49.5MB/s eta 0:00:01\r\u001b[K    40% |████████████▉                   | 829kB 51.0MB/s eta 0:00:01\r\u001b[K    40% |█████████████                   | 839kB 53.3MB/s eta 0:00:01\r\u001b[K    41% |█████████████▏                  | 849kB 53.8MB/s eta 0:00:01\r\u001b[K    41% |█████████████▎                  | 860kB 51.4MB/s eta 0:00:01\r\u001b[K    42% |█████████████▌                  | 870kB 50.6MB/s eta 0:00:01\r\u001b[K    42% |█████████████▋                  | 880kB 51.2MB/s eta 0:00:01\r\u001b[K    43% |█████████████▊                  | 890kB 51.3MB/s eta 0:00:01\r\u001b[K    43% |██████████████                  | 901kB 50.9MB/s eta 0:00:01\r\u001b[K    44% |██████████████                  | 911kB 51.5MB/s eta 0:00:01\r\u001b[K    44% |██████████████▎                 | 921kB 51.8MB/s eta 0:00:01\r\u001b[K    45% |██████████████▍                 | 931kB 49.4MB/s eta 0:00:01\r\u001b[K    45% |██████████████▋                 | 942kB 49.0MB/s eta 0:00:01\r\u001b[K    45% |██████████████▊                 | 952kB 48.8MB/s eta 0:00:01\r\u001b[K    46% |██████████████▉                 | 962kB 52.7MB/s eta 0:00:01\r\u001b[K    46% |███████████████                 | 972kB 53.6MB/s eta 0:00:01\r\u001b[K    47% |███████████████▏                | 983kB 52.0MB/s eta 0:00:01\r\u001b[K    47% |███████████████▍                | 993kB 52.6MB/s eta 0:00:01\r\u001b[K    48% |███████████████▌                | 1.0MB 52.6MB/s eta 0:00:01\r\u001b[K    48% |███████████████▋                | 1.0MB 51.0MB/s eta 0:00:01\r\u001b[K    49% |███████████████▉                | 1.0MB 50.2MB/s eta 0:00:01\r\u001b[K    49% |████████████████                | 1.0MB 51.9MB/s eta 0:00:01\r\u001b[K    50% |████████████████▏               | 1.0MB 53.3MB/s eta 0:00:01\r\u001b[K    50% |████████████████▎               | 1.1MB 52.6MB/s eta 0:00:01\r\u001b[K    51% |████████████████▌               | 1.1MB 50.6MB/s eta 0:00:01\r\u001b[K    51% |████████████████▋               | 1.1MB 51.6MB/s eta 0:00:01\r\u001b[K    52% |████████████████▊               | 1.1MB 52.8MB/s eta 0:00:01\r\u001b[K    52% |█████████████████               | 1.1MB 43.5MB/s eta 0:00:01\r\u001b[K    53% |█████████████████               | 1.1MB 43.5MB/s eta 0:00:01\r\u001b[K    53% |█████████████████▎              | 1.1MB 44.3MB/s eta 0:00:01\r\u001b[K    54% |█████████████████▍              | 1.1MB 44.6MB/s eta 0:00:01\r\u001b[K    54% |█████████████████▋              | 1.1MB 44.8MB/s eta 0:00:01\r\u001b[K    55% |█████████████████▊              | 1.1MB 43.9MB/s eta 0:00:01\r\u001b[K    55% |█████████████████▉              | 1.2MB 44.7MB/s eta 0:00:01\r\u001b[K    56% |██████████████████              | 1.2MB 47.4MB/s eta 0:00:01\r\u001b[K    56% |██████████████████▏             | 1.2MB 47.9MB/s eta 0:00:01\r\u001b[K    57% |██████████████████▍             | 1.2MB 48.2MB/s eta 0:00:01\r\u001b[K    57% |██████████████████▌             | 1.2MB 59.1MB/s eta 0:00:01\r\u001b[K    58% |██████████████████▊             | 1.2MB 57.8MB/s eta 0:00:01\r\u001b[K    58% |██████████████████▉             | 1.2MB 57.0MB/s eta 0:00:01\r\u001b[K    59% |███████████████████             | 1.2MB 56.9MB/s eta 0:00:01\r\u001b[K    59% |███████████████████▏            | 1.2MB 57.1MB/s eta 0:00:01\r\u001b[K    60% |███████████████████▎            | 1.2MB 57.5MB/s eta 0:00:01\r\u001b[K    60% |███████████████████▌            | 1.3MB 57.6MB/s eta 0:00:01\r\u001b[K    61% |███████████████████▋            | 1.3MB 57.0MB/s eta 0:00:01\r\u001b[K    61% |███████████████████▉            | 1.3MB 56.2MB/s eta 0:00:01\r\u001b[K    62% |████████████████████            | 1.3MB 56.8MB/s eta 0:00:01\r\u001b[K    62% |████████████████████            | 1.3MB 57.0MB/s eta 0:00:01\r\u001b[K    63% |████████████████████▎           | 1.3MB 58.7MB/s eta 0:00:01\r\u001b[K    63% |████████████████████▍           | 1.3MB 59.6MB/s eta 0:00:01\r\u001b[K    64% |████████████████████▋           | 1.3MB 60.0MB/s eta 0:00:01\r\u001b[K    64% |████████████████████▊           | 1.3MB 60.4MB/s eta 0:00:01\r\u001b[K    65% |████████████████████▉           | 1.4MB 60.9MB/s eta 0:00:01\r\u001b[K    65% |█████████████████████           | 1.4MB 59.9MB/s eta 0:00:01\r\u001b[K    66% |█████████████████████▏          | 1.4MB 60.9MB/s eta 0:00:01\r\u001b[K    66% |█████████████████████▍          | 1.4MB 60.9MB/s eta 0:00:01\r\u001b[K    67% |█████████████████████▌          | 1.4MB 59.2MB/s eta 0:00:01\r\u001b[K    67% |█████████████████████▊          | 1.4MB 37.6MB/s eta 0:00:01\r\u001b[K    68% |█████████████████████▉          | 1.4MB 37.4MB/s eta 0:00:01\r\u001b[K    68% |██████████████████████          | 1.4MB 37.6MB/s eta 0:00:01\r\u001b[K    69% |██████████████████████▏         | 1.4MB 37.4MB/s eta 0:00:01\r\u001b[K    69% |██████████████████████▎         | 1.4MB 36.9MB/s eta 0:00:01\r\u001b[K    70% |██████████████████████▌         | 1.5MB 37.0MB/s eta 0:00:01\r\u001b[K    70% |██████████████████████▋         | 1.5MB 37.2MB/s eta 0:00:01\r\u001b[K    71% |██████████████████████▉         | 1.5MB 36.9MB/s eta 0:00:01\r\u001b[K    71% |███████████████████████         | 1.5MB 36.8MB/s eta 0:00:01\r\u001b[K    72% |███████████████████████         | 1.5MB 37.3MB/s eta 0:00:01\r\u001b[K    72% |███████████████████████▎        | 1.5MB 58.6MB/s eta 0:00:01\r\u001b[K    73% |███████████████████████▍        | 1.5MB 59.4MB/s eta 0:00:01\r\u001b[K    73% |███████████████████████▋        | 1.5MB 58.9MB/s eta 0:00:01\r\u001b[K    74% |███████████████████████▊        | 1.5MB 59.3MB/s eta 0:00:01\r\u001b[K    74% |████████████████████████        | 1.5MB 59.9MB/s eta 0:00:01\r\u001b[K    75% |████████████████████████        | 1.6MB 58.9MB/s eta 0:00:01\r\u001b[K    75% |████████████████████████▏       | 1.6MB 59.0MB/s eta 0:00:01\r\u001b[K    76% |████████████████████████▍       | 1.6MB 59.4MB/s eta 0:00:01\r\u001b[K    76% |████████████████████████▌       | 1.6MB 49.7MB/s eta 0:00:01\r\u001b[K    77% |████████████████████████▊       | 1.6MB 49.5MB/s eta 0:00:01\r\u001b[K    77% |████████████████████████▉       | 1.6MB 49.6MB/s eta 0:00:01\r\u001b[K    78% |█████████████████████████       | 1.6MB 50.1MB/s eta 0:00:01\r\u001b[K    78% |█████████████████████████▏      | 1.6MB 50.4MB/s eta 0:00:01\r\u001b[K    79% |█████████████████████████▎      | 1.6MB 50.2MB/s eta 0:00:01\r\u001b[K    79% |█████████████████████████▌      | 1.6MB 50.9MB/s eta 0:00:01\r\u001b[K    80% |█████████████████████████▋      | 1.7MB 51.2MB/s eta 0:00:01\r\u001b[K    80% |█████████████████████████▉      | 1.7MB 51.8MB/s eta 0:00:01\r\u001b[K    81% |██████████████████████████      | 1.7MB 52.1MB/s eta 0:00:01\r\u001b[K    81% |██████████████████████████      | 1.7MB 63.5MB/s eta 0:00:01\r\u001b[K    82% |██████████████████████████▎     | 1.7MB 64.5MB/s eta 0:00:01\r\u001b[K    82% |██████████████████████████▍     | 1.7MB 64.6MB/s eta 0:00:01\r\u001b[K    83% |██████████████████████████▋     | 1.7MB 63.9MB/s eta 0:00:01\r\u001b[K    83% |██████████████████████████▊     | 1.7MB 63.9MB/s eta 0:00:01\r\u001b[K    84% |███████████████████████████     | 1.7MB 64.2MB/s eta 0:00:01\r\u001b[K    84% |███████████████████████████     | 1.8MB 64.4MB/s eta 0:00:01\r\u001b[K    85% |███████████████████████████▏    | 1.8MB 64.6MB/s eta 0:00:01\r\u001b[K    85% |███████████████████████████▍    | 1.8MB 63.4MB/s eta 0:00:01\r\u001b[K    86% |███████████████████████████▌    | 1.8MB 64.0MB/s eta 0:00:01\r\u001b[K    86% |███████████████████████████▊    | 1.8MB 63.5MB/s eta 0:00:01\r\u001b[K    87% |███████████████████████████▉    | 1.8MB 63.5MB/s eta 0:00:01\r\u001b[K    87% |████████████████████████████    | 1.8MB 64.6MB/s eta 0:00:01\r\u001b[K    88% |████████████████████████████▏   | 1.8MB 64.8MB/s eta 0:00:01\r\u001b[K    88% |████████████████████████████▎   | 1.8MB 64.9MB/s eta 0:00:01\r\u001b[K    89% |████████████████████████████▌   | 1.8MB 65.0MB/s eta 0:00:01\r\u001b[K    89% |████████████████████████████▋   | 1.9MB 309kB/s eta 0:00:01\r\u001b[K    90% |████████████████████████████▉   | 1.9MB 309kB/s eta 0:00:01\r\u001b[K    90% |█████████████████████████████   | 1.9MB 309kB/s eta 0:00:01\r\u001b[K    90% |█████████████████████████████▏  | 1.9MB 309kB/s eta 0:00:01\r\u001b[K    91% |█████████████████████████████▎  | 1.9MB 309kB/s eta 0:00:01\r\u001b[K    91% |█████████████████████████████▍  | 1.9MB 309kB/s eta 0:00:01\r\u001b[K    92% |█████████████████████████████▋  | 1.9MB 308kB/s eta 0:00:01\r\u001b[K    92% |█████████████████████████████▊  | 1.9MB 308kB/s eta 0:00:01\r\u001b[K    93% |██████████████████████████████  | 1.9MB 308kB/s eta 0:00:01\r\u001b[K    93% |██████████████████████████████  | 1.9MB 308kB/s eta 0:00:01\r\u001b[K    94% |██████████████████████████████▎ | 2.0MB 52.7MB/s eta 0:00:01\r\u001b[K    94% |██████████████████████████████▍ | 2.0MB 54.3MB/s eta 0:00:01\r\u001b[K    95% |██████████████████████████████▌ | 2.0MB 56.1MB/s eta 0:00:01\r\u001b[K    95% |██████████████████████████████▊ | 2.0MB 56.4MB/s eta 0:00:01\r\u001b[K    96% |██████████████████████████████▉ | 2.0MB 57.1MB/s eta 0:00:01\r\u001b[K    96% |███████████████████████████████ | 2.0MB 57.5MB/s eta 0:00:01\r\u001b[K    97% |███████████████████████████████▏| 2.0MB 37.2MB/s eta 0:00:01\r\u001b[K    97% |███████████████████████████████▎| 2.0MB 37.8MB/s eta 0:00:01\r\u001b[K    98% |███████████████████████████████▌| 2.0MB 38.1MB/s eta 0:00:01\r\u001b[K    98% |███████████████████████████████▋| 2.0MB 37.6MB/s eta 0:00:01\r\u001b[K    99% |███████████████████████████████▉| 2.1MB 37.8MB/s eta 0:00:01\r\u001b[K    99% |████████████████████████████████| 2.1MB 38.1MB/s eta 0:00:01\r\u001b[K    100% |████████████████████████████████| 2.1MB 13.2MB/s \n",
            "\u001b[?25hInstalling collected packages: Cython\n",
            "Successfully installed Cython-0.29.1\n"
          ],
          "name": "stdout"
        }
      ]
    },
    {
      "metadata": {
        "id": "GbtQf2MHQ-9H",
        "colab_type": "code",
        "colab": {}
      },
      "cell_type": "code",
      "source": [
        "inputs=tf.placeholder(tf.float32, shape=[None,224,224,3])\n",
        "outputs=tf.placeholder(tf.float32, shape=[None,6])\n"
      ],
      "execution_count": 0,
      "outputs": []
    },
    {
      "metadata": {
        "id": "tgp7qUa3R2jK",
        "colab_type": "code",
        "colab": {}
      },
      "cell_type": "code",
      "source": [
        "logits=nets.VGG19(inputs, is_training=True, classes=6)\n",
        "model=tf.identity(logits)\n",
        "\n",
        "loss=tf.losses.softmax_cross_entropy(outputs, logits)\n",
        "train= tf.train.AdamOptimizer(1e-5).minimize(loss)\n",
        "\n",
        "correct_pred=tf.equal(tf.argmax(model,1), tf.argmax(outputs,1))\n",
        "accuracy=tf.reduce_mean(tf.cast(correct_pred,tf.float32))"
      ],
      "execution_count": 0,
      "outputs": []
    },
    {
      "metadata": {
        "id": "ibwSDS6PWrji",
        "colab_type": "code",
        "colab": {}
      },
      "cell_type": "code",
      "source": [
        "with tf.Session() as sess:\n",
        "   sess.run(tf.global_variables_initializer())\n",
        "   sess.run(logits.pretrained())"
      ],
      "execution_count": 0,
      "outputs": []
    },
    {
      "metadata": {
        "id": "45ab4f7-ZXzE",
        "colab_type": "code",
        "colab": {
          "base_uri": "https://localhost:8080/",
          "height": 280
        },
        "outputId": "ff09af4f-5277-435e-c329-5e3d06f73365"
      },
      "cell_type": "code",
      "source": [
        "!pip install scikit-image"
      ],
      "execution_count": 15,
      "outputs": [
        {
          "output_type": "stream",
          "text": [
            "Requirement already satisfied: scikit-image in /usr/local/lib/python3.6/dist-packages (0.13.1)\n",
            "Requirement already satisfied: PyWavelets>=0.4.0 in /usr/local/lib/python3.6/dist-packages (from scikit-image) (1.0.1)\n",
            "Requirement already satisfied: pillow>=2.1.0 in /usr/local/lib/python3.6/dist-packages (from scikit-image) (4.0.0)\n",
            "Requirement already satisfied: networkx>=1.8 in /usr/local/lib/python3.6/dist-packages (from scikit-image) (2.2)\n",
            "Requirement already satisfied: matplotlib>=1.3.1 in /usr/local/lib/python3.6/dist-packages (from scikit-image) (2.1.2)\n",
            "Requirement already satisfied: scipy>=0.17.0 in /usr/local/lib/python3.6/dist-packages (from scikit-image) (1.1.0)\n",
            "Requirement already satisfied: six>=1.7.3 in /usr/local/lib/python3.6/dist-packages (from scikit-image) (1.11.0)\n",
            "Requirement already satisfied: numpy>=1.9.1 in /usr/local/lib/python3.6/dist-packages (from PyWavelets>=0.4.0->scikit-image) (1.14.6)\n",
            "Requirement already satisfied: olefile in /usr/local/lib/python3.6/dist-packages (from pillow>=2.1.0->scikit-image) (0.46)\n",
            "Requirement already satisfied: decorator>=4.3.0 in /usr/local/lib/python3.6/dist-packages (from networkx>=1.8->scikit-image) (4.3.0)\n",
            "Requirement already satisfied: pytz in /usr/local/lib/python3.6/dist-packages (from matplotlib>=1.3.1->scikit-image) (2018.7)\n",
            "Requirement already satisfied: pyparsing!=2.0.4,!=2.1.2,!=2.1.6,>=2.0.1 in /usr/local/lib/python3.6/dist-packages (from matplotlib>=1.3.1->scikit-image) (2.3.0)\n",
            "Requirement already satisfied: cycler>=0.10 in /usr/local/lib/python3.6/dist-packages (from matplotlib>=1.3.1->scikit-image) (0.10.0)\n",
            "Requirement already satisfied: python-dateutil>=2.1 in /usr/local/lib/python3.6/dist-packages (from matplotlib>=1.3.1->scikit-image) (2.5.3)\n"
          ],
          "name": "stdout"
        }
      ]
    },
    {
      "metadata": {
        "id": "Bze8OGr5f7bK",
        "colab_type": "code",
        "colab": {
          "resources": {
            "http://localhost:8080/nbextensions/google.colab/files.js": {
              "data": "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",
              "ok": true,
              "headers": [
                [
                  "content-type",
                  "application/javascript"
                ]
              ],
              "status": 200,
              "status_text": "OK"
            }
          },
          "base_uri": "https://localhost:8080/",
          "height": 115
        },
        "outputId": "6efffccc-fb00-4447-ce5c-d5609e7a4f2f"
      },
      "cell_type": "code",
      "source": [
        "from google.colab import files\n",
        "uploaded=files.upload()"
      ],
      "execution_count": 16,
      "outputs": [
        {
          "output_type": "display_data",
          "data": {
            "text/html": [
              "\n",
              "     <input type=\"file\" id=\"files-9800aa4e-6eac-4cad-ba79-b90e59d3cc83\" name=\"files[]\" multiple disabled />\n",
              "     <output id=\"result-9800aa4e-6eac-4cad-ba79-b90e59d3cc83\">\n",
              "      Upload widget is only available when the cell has been executed in the\n",
              "      current browser session. Please rerun this cell to enable.\n",
              "      </output>\n",
              "      <script src=\"/nbextensions/google.colab/files.js\"></script> "
            ],
            "text/plain": [
              "<IPython.core.display.HTML object>"
            ]
          },
          "metadata": {
            "tags": []
          }
        },
        {
          "output_type": "stream",
          "text": [
            "Saving test_signs.h5 to test_signs.h5\n",
            "Saving train_signs.h5 to train_signs.h5\n"
          ],
          "name": "stdout"
        }
      ]
    },
    {
      "metadata": {
        "id": "f0w90g3ZiLqC",
        "colab_type": "code",
        "colab": {}
      },
      "cell_type": "code",
      "source": [
        "import h5py\n",
        "import numpy as np\n",
        "def load_dataset():\n",
        "    train_dataset = h5py.File('train_signs.h5', \"r\")\n",
        "    train_set_x_orig = np.array(train_dataset[\"train_set_x\"][:]) # your train set features\n",
        "    train_set_y_orig = np.array(train_dataset[\"train_set_y\"][:]) # your train set labels\n",
        "\n",
        "    test_dataset = h5py.File('test_signs.h5', \"r\")\n",
        "    test_set_x_orig = np.array(test_dataset[\"test_set_x\"][:]) # your test set features\n",
        "    test_set_y_orig = np.array(test_dataset[\"test_set_y\"][:]) # your test set labels\n",
        "\n",
        "    classes = np.array(test_dataset[\"list_classes\"][:]) # the list of classes\n",
        "    \n",
        "    train_set_y_orig = train_set_y_orig.reshape((1, train_set_y_orig.shape[0]))\n",
        "    test_set_y_orig = test_set_y_orig.reshape((1, test_set_y_orig.shape[0]))\n",
        "    \n",
        "    return train_set_x_orig, train_set_y_orig, test_set_x_orig, test_set_y_orig, classes\n",
        "\n",
        "  \n",
        "X_train_orig, Y_train_orig, X_test_orig, Y_test_orig, classes = load_dataset()  "
      ],
      "execution_count": 0,
      "outputs": []
    },
    {
      "metadata": {
        "id": "kFcdaDzGkDC5",
        "colab_type": "code",
        "colab": {
          "base_uri": "https://localhost:8080/",
          "height": 366
        },
        "outputId": "b538c3d0-5418-4969-ee10-6be39ab06959"
      },
      "cell_type": "code",
      "source": [
        "import matplotlib.pyplot as plt\n",
        "index=1\n",
        "plt.imshow(X_test_orig[index])\n",
        "X_train_orig.shape\n"
      ],
      "execution_count": 36,
      "outputs": [
        {
          "output_type": "execute_result",
          "data": {
            "text/plain": [
              "(1080, 64, 64, 3)"
            ]
          },
          "metadata": {
            "tags": []
          },
          "execution_count": 36
        },
        {
          "output_type": "display_data",
          "data": {
            "image/png": "[encoded data removed]",
            "text/plain": [
              "<matplotlib.figure.Figure at 0x7f65de060940>"
            ]
          },
          "metadata": {
            "tags": []
          }
        }
      ]
    },
    {
      "metadata": {
        "id": "vG3rrdcqkPur",
        "colab_type": "code",
        "colab": {}
      },
      "cell_type": "code",
      "source": [
        "import skimage.transform\n",
        "\n",
        "new_X_train_orig = []\n",
        "\n",
        "for image in X_train_orig:\n",
        "  newImage = skimage.transform.resize(image, (224, 224), mode='constant')\n",
        "  new_X_train_orig.append(newImage)\n",
        "\n",
        "\n",
        "new_X_test_orig = []\n",
        "\n",
        "for image in X_test_orig:\n",
        "  newImage = skimage.transform.resize(image, (224, 224), mode='constant')\n",
        "  new_X_test_orig.append(newImage)"
      ],
      "execution_count": 0,
      "outputs": []
    },
    {
      "metadata": {
        "id": "e86TTDEionDd",
        "colab_type": "code",
        "colab": {
          "base_uri": "https://localhost:8080/",
          "height": 367
        },
        "outputId": "60bdc240-ba53-46d5-b4b5-44f9cdce741f"
      },
      "cell_type": "code",
      "source": [
        "index=1\n",
        "plt.imshow(new_X_test_orig[index])\n",
        "new_X_train_orig[index].shape"
      ],
      "execution_count": 54,
      "outputs": [
        {
          "output_type": "execute_result",
          "data": {
            "text/plain": [
              "(224, 224, 3)"
            ]
          },
          "metadata": {
            "tags": []
          },
          "execution_count": 54
        },
        {
          "output_type": "display_data",
          "data": {
            "image/png": "[encoded data removed]",
            "text/plain": [
              "<matplotlib.figure.Figure at 0x7f65dcf0a668>"
            ]
          },
          "metadata": {
            "tags": []
          }
        }
      ]
    },
    {
      "metadata": {
        "id": "R-27hf_iotIq",
        "colab_type": "code",
        "colab": {}
      },
      "cell_type": "code",
      "source": [
        "new_X_train_orig = np.array(new_X_train_orig)\n",
        "new_X_test_orig=np.array(new_X_test_orig)"
      ],
      "execution_count": 0,
      "outputs": []
    },
    {
      "metadata": {
        "id": "VYvLFmtPrEkJ",
        "colab_type": "code",
        "colab": {
          "base_uri": "https://localhost:8080/",
          "height": 52
        },
        "outputId": "85cd5834-ded1-4751-a2d3-cb0de450d8f2"
      },
      "cell_type": "code",
      "source": [
        "print (new_X_test_orig.shape)\n",
        "new_X_train_orig.shape"
      ],
      "execution_count": 40,
      "outputs": [
        {
          "output_type": "stream",
          "text": [
            "(120, 224, 224, 3)\n"
          ],
          "name": "stdout"
        },
        {
          "output_type": "execute_result",
          "data": {
            "text/plain": [
              "(1080, 224, 224, 3)"
            ]
          },
          "metadata": {
            "tags": []
          },
          "execution_count": 40
        }
      ]
    },
    {
      "metadata": {
        "id": "udOZa4_orHT2",
        "colab_type": "code",
        "colab": {}
      },
      "cell_type": "code",
      "source": [
        "def convert_to_one_hot(Y, C):\n",
        "    Y = np.eye(C)[Y.reshape(-1)].T\n",
        "    return Y"
      ],
      "execution_count": 0,
      "outputs": []
    },
    {
      "metadata": {
        "id": "0eRx16k4rb60",
        "colab_type": "code",
        "colab": {}
      },
      "cell_type": "code",
      "source": [
        "Y_train = convert_to_one_hot(Y_train_orig, 6).T\n",
        "Y_test = convert_to_one_hot(Y_test_orig, 6).T"
      ],
      "execution_count": 0,
      "outputs": []
    },
    {
      "metadata": {
        "id": "mS8-gYXwrjBQ",
        "colab_type": "code",
        "colab": {
          "base_uri": "https://localhost:8080/",
          "height": 52
        },
        "outputId": "5f3fede2-ff6a-44ae-ed65-0728b090d147"
      },
      "cell_type": "code",
      "source": [
        "print (Y_train.shape)\n",
        "Y_test.shape"
      ],
      "execution_count": 43,
      "outputs": [
        {
          "output_type": "stream",
          "text": [
            "(1080, 6)\n"
          ],
          "name": "stdout"
        },
        {
          "output_type": "execute_result",
          "data": {
            "text/plain": [
              "(120, 6)"
            ]
          },
          "metadata": {
            "tags": []
          },
          "execution_count": 43
        }
      ]
    },
    {
      "metadata": {
        "id": "FT4csvhlrnMA",
        "colab_type": "code",
        "colab": {}
      },
      "cell_type": "code",
      "source": [
        "def batch_features_labels(features, labels, batch_size):\n",
        "    \"\"\"\n",
        "    Split features and labels into batches\n",
        "    \"\"\"\n",
        "    for start in range(0, len(features), batch_size):\n",
        "        end = min(start + batch_size, len(features))\n",
        "        yield features[start:end], labels[start:end]\n"
      ],
      "execution_count": 0,
      "outputs": []
    },
    {
      "metadata": {
        "id": "0-QeOCLvr-OX",
        "colab_type": "code",
        "colab": {
          "base_uri": "https://localhost:8080/",
          "height": 499
        },
        "outputId": "05171825-5664-40ef-eaee-da8ad9cda28c"
      },
      "cell_type": "code",
      "source": [
        "total_valid_acc = 0\n",
        "\n",
        "for batch_valid_images, batch_valid_labels in batch_features_labels(new_X_train_orig, Y_train, 64):\n",
        "    total_valid_acc += sess.run(accuracy, {inputs:batch_valid_images, outputs:batch_valid_labels})\n",
        "\n",
        "total_num_batch = valid_images.shape[0]/batch_size\n",
        "\n",
        "print('Validation Accuracy: {:.6f}'.format(total_valid_acc/total_num_batch))"
      ],
      "execution_count": 53,
      "outputs": [
        {
          "output_type": "error",
          "ename": "RuntimeError",
          "evalue": "ignored",
          "traceback": [
            "\u001b[0;31m---------------------------------------------------------------------------\u001b[0m",
            "\u001b[0;31mRuntimeError\u001b[0m                              Traceback (most recent call last)",
            "\u001b[0;32m<ipython-input-53-f6789b16ad70>\u001b[0m in \u001b[0;36m<module>\u001b[0;34m()\u001b[0m\n\u001b[1;32m      2\u001b[0m \u001b[0;34m\u001b[0m\u001b[0m\n\u001b[1;32m      3\u001b[0m \u001b[0;32mfor\u001b[0m \u001b[0mbatch_valid_images\u001b[0m\u001b[0;34m,\u001b[0m \u001b[0mbatch_valid_labels\u001b[0m \u001b[0;32min\u001b[0m \u001b[0mbatch_features_labels\u001b[0m\u001b[0;34m(\u001b[0m\u001b[0mnew_X_train_orig\u001b[0m\u001b[0;34m,\u001b[0m \u001b[0mY_train\u001b[0m\u001b[0;34m,\u001b[0m \u001b[0;36m64\u001b[0m\u001b[0;34m)\u001b[0m\u001b[0;34m:\u001b[0m\u001b[0;34m\u001b[0m\u001b[0;34m\u001b[0m\u001b[0m\n\u001b[0;32m----> 4\u001b[0;31m     \u001b[0mtotal_valid_acc\u001b[0m \u001b[0;34m+=\u001b[0m \u001b[0msess\u001b[0m\u001b[0;34m.\u001b[0m\u001b[0mrun\u001b[0m\u001b[0;34m(\u001b[0m\u001b[0maccuracy\u001b[0m\u001b[0;34m,\u001b[0m \u001b[0;34m{\u001b[0m\u001b[0minputs\u001b[0m\u001b[0;34m:\u001b[0m\u001b[0mbatch_valid_images\u001b[0m\u001b[0;34m,\u001b[0m \u001b[0moutputs\u001b[0m\u001b[0;34m:\u001b[0m\u001b[0mbatch_valid_labels\u001b[0m\u001b[0;34m}\u001b[0m\u001b[0;34m)\u001b[0m\u001b[0;34m\u001b[0m\u001b[0;34m\u001b[0m\u001b[0m\n\u001b[0m\u001b[1;32m      5\u001b[0m \u001b[0;34m\u001b[0m\u001b[0m\n\u001b[1;32m      6\u001b[0m \u001b[0mtotal_num_batch\u001b[0m \u001b[0;34m=\u001b[0m \u001b[0mvalid_images\u001b[0m\u001b[0;34m.\u001b[0m\u001b[0mshape\u001b[0m\u001b[0;34m[\u001b[0m\u001b[0;36m0\u001b[0m\u001b[0;34m]\u001b[0m\u001b[0;34m/\u001b[0m\u001b[0mbatch_size\u001b[0m\u001b[0;34m\u001b[0m\u001b[0;34m\u001b[0m\u001b[0m\n",
            "\u001b[0;32m/usr/local/lib/python3.6/dist-packages/tensorflow/python/client/session.py\u001b[0m in \u001b[0;36mrun\u001b[0;34m(self, fetches, feed_dict, options, run_metadata)\u001b[0m\n\u001b[1;32m    927\u001b[0m     \u001b[0;32mtry\u001b[0m\u001b[0;34m:\u001b[0m\u001b[0;34m\u001b[0m\u001b[0;34m\u001b[0m\u001b[0m\n\u001b[1;32m    928\u001b[0m       result = self._run(None, fetches, feed_dict, options_ptr,\n\u001b[0;32m--> 929\u001b[0;31m                          run_metadata_ptr)\n\u001b[0m\u001b[1;32m    930\u001b[0m       \u001b[0;32mif\u001b[0m \u001b[0mrun_metadata\u001b[0m\u001b[0;34m:\u001b[0m\u001b[0;34m\u001b[0m\u001b[0;34m\u001b[0m\u001b[0m\n\u001b[1;32m    931\u001b[0m         \u001b[0mproto_data\u001b[0m \u001b[0;34m=\u001b[0m \u001b[0mtf_session\u001b[0m\u001b[0;34m.\u001b[0m\u001b[0mTF_GetBuffer\u001b[0m\u001b[0;34m(\u001b[0m\u001b[0mrun_metadata_ptr\u001b[0m\u001b[0;34m)\u001b[0m\u001b[0;34m\u001b[0m\u001b[0;34m\u001b[0m\u001b[0m\n",
            "\u001b[0;32m/usr/local/lib/python3.6/dist-packages/tensorflow/python/client/session.py\u001b[0m in \u001b[0;36m_run\u001b[0;34m(self, handle, fetches, feed_dict, options, run_metadata)\u001b[0m\n\u001b[1;32m   1073\u001b[0m     \u001b[0;31m# Check session.\u001b[0m\u001b[0;34m\u001b[0m\u001b[0;34m\u001b[0m\u001b[0;34m\u001b[0m\u001b[0m\n\u001b[1;32m   1074\u001b[0m     \u001b[0;32mif\u001b[0m \u001b[0mself\u001b[0m\u001b[0;34m.\u001b[0m\u001b[0m_closed\u001b[0m\u001b[0;34m:\u001b[0m\u001b[0;34m\u001b[0m\u001b[0;34m\u001b[0m\u001b[0m\n\u001b[0;32m-> 1075\u001b[0;31m       \u001b[0;32mraise\u001b[0m \u001b[0mRuntimeError\u001b[0m\u001b[0;34m(\u001b[0m\u001b[0;34m'Attempted to use a closed Session.'\u001b[0m\u001b[0;34m)\u001b[0m\u001b[0;34m\u001b[0m\u001b[0;34m\u001b[0m\u001b[0m\n\u001b[0m\u001b[1;32m   1076\u001b[0m     \u001b[0;32mif\u001b[0m \u001b[0mself\u001b[0m\u001b[0;34m.\u001b[0m\u001b[0mgraph\u001b[0m\u001b[0;34m.\u001b[0m\u001b[0mversion\u001b[0m \u001b[0;34m==\u001b[0m \u001b[0;36m0\u001b[0m\u001b[0;34m:\u001b[0m\u001b[0;34m\u001b[0m\u001b[0;34m\u001b[0m\u001b[0m\n\u001b[1;32m   1077\u001b[0m       raise RuntimeError('The Session graph is empty.  Add operations to the '\n",
            "\u001b[0;31mRuntimeError\u001b[0m: Attempted to use a closed Session."
          ]
        }
      ]
    },
    {
      "metadata": {
        "id": "QZvrlbdAsaHD",
        "colab_type": "code",
        "colab": {
          "base_uri": "https://localhost:8080/",
          "height": 330
        },
        "outputId": "358367ad-3bd9-4e07-ced1-a2a0a75033a1"
      },
      "cell_type": "code",
      "source": [
        "with tf.Session() as sess:\n",
        "   sess.run(tf.global_variables_initializer())\n",
        "   sess.run(logits.pretrained())\n",
        "   total_valid_acc = 0\n",
        "\n",
        "   for batch_valid_images, batch_valid_labels in batch_features_labels(new_X_train_orig, Y_train, 64):\n",
        "    acc = sess.run(accuracy, {inputs:batch_valid_images, outputs:batch_valid_labels})\n",
        "    total_valid_acc=total_valid_acc+acc\n",
        "    print (acc)\n",
        "\n",
        "   total_num_batch = new_X_train_orig.shape[0]/64\n",
        "\n",
        "   print('Validation Accuracy: {:.6f}'.format(total_valid_acc/total_num_batch))\n",
        "  "
      ],
      "execution_count": 58,
      "outputs": [
        {
          "output_type": "stream",
          "text": [
            "0.109375\n",
            "0.140625\n",
            "0.234375\n",
            "0.109375\n",
            "0.140625\n",
            "0.140625\n",
            "0.171875\n",
            "0.1875\n",
            "0.125\n",
            "0.140625\n",
            "0.140625\n",
            "0.171875\n",
            "0.1875\n",
            "0.09375\n",
            "0.15625\n",
            "0.140625\n",
            "0.21428572\n",
            "Validation Accuracy: 0.154365\n"
          ],
          "name": "stdout"
        }
      ]
    },
    {
      "metadata": {
        "id": "ih2OQIxBtv3I",
        "colab_type": "code",
        "colab": {
          "base_uri": "https://localhost:8080/",
          "height": 1263
        },
        "outputId": "faf7978d-5706-4d3b-dd6d-27a51c5d9095"
      },
      "cell_type": "code",
      "source": [
        "with tf.Session() as sess:\n",
        "   sess.run(tf.global_variables_initializer())\n",
        "   sess.run(logits.pretrained())\n",
        "   total_num_batch = new_X_train_orig.shape[0]/64\n",
        "   \n",
        "   for epoch in range(100):\n",
        "      total_cost=0\n",
        "      total_valid_acc = 0\n",
        "      for batch_valid_images, batch_valid_labels in batch_features_labels(new_X_train_orig, Y_train, 64):\n",
        "        \n",
        "        acc,cost = sess.run([accuracy,loss], {inputs:batch_valid_images, outputs:batch_valid_labels})\n",
        "        total_valid_acc=total_valid_acc+acc\n",
        "        total_cost=total_cost+cost\n",
        "      \n",
        "      if epoch%2==0:\n",
        "        print (\"Cost after epoch %i: %f\" % (epoch, total_cost))\n",
        "        print (\"Accuracy after epoch %i: %f\" % (epoch, total_valid_acc/total_num_batch))\n",
        "      \n",
        "\n",
        "   \n",
        "\n",
        "   #print('Validation Accuracy: {:.6f}'.format(total_valid_acc/total_num_batch))"
      ],
      "execution_count": 61,
      "outputs": [
        {
          "output_type": "stream",
          "text": [
            "Cost after epoch 0: 30.757435\n",
            "Accuracy after epoch 0: 0.154233\n",
            "Cost after epoch 2: 30.655905\n",
            "Accuracy after epoch 2: 0.167063\n",
            "Cost after epoch 4: 30.741207\n",
            "Accuracy after epoch 4: 0.173810\n",
            "Cost after epoch 6: 30.869916\n",
            "Accuracy after epoch 6: 0.157672\n",
            "Cost after epoch 8: 30.606367\n",
            "Accuracy after epoch 8: 0.184392\n",
            "Cost after epoch 10: 30.623772\n",
            "Accuracy after epoch 10: 0.178307\n",
            "Cost after epoch 12: 30.704653\n",
            "Accuracy after epoch 12: 0.164418\n",
            "Cost after epoch 14: 30.697202\n",
            "Accuracy after epoch 14: 0.178571\n"
          ],
          "name": "stdout"
        },
        {
          "output_type": "error",
          "ename": "KeyboardInterrupt",
          "evalue": "ignored",
          "traceback": [
            "\u001b[0;31m---------------------------------------------------------------------------\u001b[0m",
            "\u001b[0;31mKeyboardInterrupt\u001b[0m                         Traceback (most recent call last)",
            "\u001b[0;32m<ipython-input-61-8d09186d6e18>\u001b[0m in \u001b[0;36m<module>\u001b[0;34m()\u001b[0m\n\u001b[1;32m      9\u001b[0m       \u001b[0;32mfor\u001b[0m \u001b[0mbatch_valid_images\u001b[0m\u001b[0;34m,\u001b[0m \u001b[0mbatch_valid_labels\u001b[0m \u001b[0;32min\u001b[0m \u001b[0mbatch_features_labels\u001b[0m\u001b[0;34m(\u001b[0m\u001b[0mnew_X_train_orig\u001b[0m\u001b[0;34m,\u001b[0m \u001b[0mY_train\u001b[0m\u001b[0;34m,\u001b[0m \u001b[0;36m64\u001b[0m\u001b[0;34m)\u001b[0m\u001b[0;34m:\u001b[0m\u001b[0;34m\u001b[0m\u001b[0;34m\u001b[0m\u001b[0m\n\u001b[1;32m     10\u001b[0m \u001b[0;34m\u001b[0m\u001b[0m\n\u001b[0;32m---> 11\u001b[0;31m         \u001b[0macc\u001b[0m\u001b[0;34m,\u001b[0m\u001b[0mcost\u001b[0m \u001b[0;34m=\u001b[0m \u001b[0msess\u001b[0m\u001b[0;34m.\u001b[0m\u001b[0mrun\u001b[0m\u001b[0;34m(\u001b[0m\u001b[0;34m[\u001b[0m\u001b[0maccuracy\u001b[0m\u001b[0;34m,\u001b[0m\u001b[0mloss\u001b[0m\u001b[0;34m]\u001b[0m\u001b[0;34m,\u001b[0m \u001b[0;34m{\u001b[0m\u001b[0minputs\u001b[0m\u001b[0;34m:\u001b[0m\u001b[0mbatch_valid_images\u001b[0m\u001b[0;34m,\u001b[0m \u001b[0moutputs\u001b[0m\u001b[0;34m:\u001b[0m\u001b[0mbatch_valid_labels\u001b[0m\u001b[0;34m}\u001b[0m\u001b[0;34m)\u001b[0m\u001b[0;34m\u001b[0m\u001b[0;34m\u001b[0m\u001b[0m\n\u001b[0m\u001b[1;32m     12\u001b[0m         \u001b[0mtotal_valid_acc\u001b[0m\u001b[0;34m=\u001b[0m\u001b[0mtotal_valid_acc\u001b[0m\u001b[0;34m+\u001b[0m\u001b[0macc\u001b[0m\u001b[0;34m\u001b[0m\u001b[0;34m\u001b[0m\u001b[0m\n\u001b[1;32m     13\u001b[0m         \u001b[0mtotal_cost\u001b[0m\u001b[0;34m=\u001b[0m\u001b[0mtotal_cost\u001b[0m\u001b[0;34m+\u001b[0m\u001b[0mcost\u001b[0m\u001b[0;34m\u001b[0m\u001b[0;34m\u001b[0m\u001b[0m\n",
            "\u001b[0;32m/usr/local/lib/python3.6/dist-packages/tensorflow/python/client/session.py\u001b[0m in \u001b[0;36mrun\u001b[0;34m(self, fetches, feed_dict, options, run_metadata)\u001b[0m\n\u001b[1;32m    927\u001b[0m     \u001b[0;32mtry\u001b[0m\u001b[0;34m:\u001b[0m\u001b[0;34m\u001b[0m\u001b[0;34m\u001b[0m\u001b[0m\n\u001b[1;32m    928\u001b[0m       result = self._run(None, fetches, feed_dict, options_ptr,\n\u001b[0;32m--> 929\u001b[0;31m                          run_metadata_ptr)\n\u001b[0m\u001b[1;32m    930\u001b[0m       \u001b[0;32mif\u001b[0m \u001b[0mrun_metadata\u001b[0m\u001b[0;34m:\u001b[0m\u001b[0;34m\u001b[0m\u001b[0;34m\u001b[0m\u001b[0m\n\u001b[1;32m    931\u001b[0m         \u001b[0mproto_data\u001b[0m \u001b[0;34m=\u001b[0m \u001b[0mtf_session\u001b[0m\u001b[0;34m.\u001b[0m\u001b[0mTF_GetBuffer\u001b[0m\u001b[0;34m(\u001b[0m\u001b[0mrun_metadata_ptr\u001b[0m\u001b[0;34m)\u001b[0m\u001b[0;34m\u001b[0m\u001b[0;34m\u001b[0m\u001b[0m\n",
            "\u001b[0;32m/usr/local/lib/python3.6/dist-packages/tensorflow/python/client/session.py\u001b[0m in \u001b[0;36m_run\u001b[0;34m(self, handle, fetches, feed_dict, options, run_metadata)\u001b[0m\n\u001b[1;32m   1150\u001b[0m     \u001b[0;32mif\u001b[0m \u001b[0mfinal_fetches\u001b[0m \u001b[0;32mor\u001b[0m \u001b[0mfinal_targets\u001b[0m \u001b[0;32mor\u001b[0m \u001b[0;34m(\u001b[0m\u001b[0mhandle\u001b[0m \u001b[0;32mand\u001b[0m \u001b[0mfeed_dict_tensor\u001b[0m\u001b[0;34m)\u001b[0m\u001b[0;34m:\u001b[0m\u001b[0;34m\u001b[0m\u001b[0;34m\u001b[0m\u001b[0m\n\u001b[1;32m   1151\u001b[0m       results = self._do_run(handle, final_targets, final_fetches,\n\u001b[0;32m-> 1152\u001b[0;31m                              feed_dict_tensor, options, run_metadata)\n\u001b[0m\u001b[1;32m   1153\u001b[0m     \u001b[0;32melse\u001b[0m\u001b[0;34m:\u001b[0m\u001b[0;34m\u001b[0m\u001b[0;34m\u001b[0m\u001b[0m\n\u001b[1;32m   1154\u001b[0m       \u001b[0mresults\u001b[0m \u001b[0;34m=\u001b[0m \u001b[0;34m[\u001b[0m\u001b[0;34m]\u001b[0m\u001b[0;34m\u001b[0m\u001b[0;34m\u001b[0m\u001b[0m\n",
            "\u001b[0;32m/usr/local/lib/python3.6/dist-packages/tensorflow/python/client/session.py\u001b[0m in \u001b[0;36m_do_run\u001b[0;34m(self, handle, target_list, fetch_list, feed_dict, options, run_metadata)\u001b[0m\n\u001b[1;32m   1326\u001b[0m     \u001b[0;32mif\u001b[0m \u001b[0mhandle\u001b[0m \u001b[0;32mis\u001b[0m \u001b[0;32mNone\u001b[0m\u001b[0;34m:\u001b[0m\u001b[0;34m\u001b[0m\u001b[0;34m\u001b[0m\u001b[0m\n\u001b[1;32m   1327\u001b[0m       return self._do_call(_run_fn, feeds, fetches, targets, options,\n\u001b[0;32m-> 1328\u001b[0;31m                            run_metadata)\n\u001b[0m\u001b[1;32m   1329\u001b[0m     \u001b[0;32melse\u001b[0m\u001b[0;34m:\u001b[0m\u001b[0;34m\u001b[0m\u001b[0;34m\u001b[0m\u001b[0m\n\u001b[1;32m   1330\u001b[0m       \u001b[0;32mreturn\u001b[0m \u001b[0mself\u001b[0m\u001b[0;34m.\u001b[0m\u001b[0m_do_call\u001b[0m\u001b[0;34m(\u001b[0m\u001b[0m_prun_fn\u001b[0m\u001b[0;34m,\u001b[0m \u001b[0mhandle\u001b[0m\u001b[0;34m,\u001b[0m \u001b[0mfeeds\u001b[0m\u001b[0;34m,\u001b[0m \u001b[0mfetches\u001b[0m\u001b[0;34m)\u001b[0m\u001b[0;34m\u001b[0m\u001b[0;34m\u001b[0m\u001b[0m\n",
            "\u001b[0;32m/usr/local/lib/python3.6/dist-packages/tensorflow/python/client/session.py\u001b[0m in \u001b[0;36m_do_call\u001b[0;34m(self, fn, *args)\u001b[0m\n\u001b[1;32m   1332\u001b[0m   \u001b[0;32mdef\u001b[0m \u001b[0m_do_call\u001b[0m\u001b[0;34m(\u001b[0m\u001b[0mself\u001b[0m\u001b[0;34m,\u001b[0m \u001b[0mfn\u001b[0m\u001b[0;34m,\u001b[0m \u001b[0;34m*\u001b[0m\u001b[0margs\u001b[0m\u001b[0;34m)\u001b[0m\u001b[0;34m:\u001b[0m\u001b[0;34m\u001b[0m\u001b[0;34m\u001b[0m\u001b[0m\n\u001b[1;32m   1333\u001b[0m     \u001b[0;32mtry\u001b[0m\u001b[0;34m:\u001b[0m\u001b[0;34m\u001b[0m\u001b[0;34m\u001b[0m\u001b[0m\n\u001b[0;32m-> 1334\u001b[0;31m       \u001b[0;32mreturn\u001b[0m \u001b[0mfn\u001b[0m\u001b[0;34m(\u001b[0m\u001b[0;34m*\u001b[0m\u001b[0margs\u001b[0m\u001b[0;34m)\u001b[0m\u001b[0;34m\u001b[0m\u001b[0;34m\u001b[0m\u001b[0m\n\u001b[0m\u001b[1;32m   1335\u001b[0m     \u001b[0;32mexcept\u001b[0m \u001b[0merrors\u001b[0m\u001b[0;34m.\u001b[0m\u001b[0mOpError\u001b[0m \u001b[0;32mas\u001b[0m \u001b[0me\u001b[0m\u001b[0;34m:\u001b[0m\u001b[0;34m\u001b[0m\u001b[0;34m\u001b[0m\u001b[0m\n\u001b[1;32m   1336\u001b[0m       \u001b[0mmessage\u001b[0m \u001b[0;34m=\u001b[0m \u001b[0mcompat\u001b[0m\u001b[0;34m.\u001b[0m\u001b[0mas_text\u001b[0m\u001b[0;34m(\u001b[0m\u001b[0me\u001b[0m\u001b[0;34m.\u001b[0m\u001b[0mmessage\u001b[0m\u001b[0;34m)\u001b[0m\u001b[0;34m\u001b[0m\u001b[0;34m\u001b[0m\u001b[0m\n",
            "\u001b[0;32m/usr/local/lib/python3.6/dist-packages/tensorflow/python/client/session.py\u001b[0m in \u001b[0;36m_run_fn\u001b[0;34m(feed_dict, fetch_list, target_list, options, run_metadata)\u001b[0m\n\u001b[1;32m   1317\u001b[0m       \u001b[0mself\u001b[0m\u001b[0;34m.\u001b[0m\u001b[0m_extend_graph\u001b[0m\u001b[0;34m(\u001b[0m\u001b[0;34m)\u001b[0m\u001b[0;34m\u001b[0m\u001b[0;34m\u001b[0m\u001b[0m\n\u001b[1;32m   1318\u001b[0m       return self._call_tf_sessionrun(\n\u001b[0;32m-> 1319\u001b[0;31m           options, feed_dict, fetch_list, target_list, run_metadata)\n\u001b[0m\u001b[1;32m   1320\u001b[0m \u001b[0;34m\u001b[0m\u001b[0m\n\u001b[1;32m   1321\u001b[0m     \u001b[0;32mdef\u001b[0m \u001b[0m_prun_fn\u001b[0m\u001b[0;34m(\u001b[0m\u001b[0mhandle\u001b[0m\u001b[0;34m,\u001b[0m \u001b[0mfeed_dict\u001b[0m\u001b[0;34m,\u001b[0m \u001b[0mfetch_list\u001b[0m\u001b[0;34m)\u001b[0m\u001b[0;34m:\u001b[0m\u001b[0;34m\u001b[0m\u001b[0;34m\u001b[0m\u001b[0m\n",
            "\u001b[0;32m/usr/local/lib/python3.6/dist-packages/tensorflow/python/client/session.py\u001b[0m in \u001b[0;36m_call_tf_sessionrun\u001b[0;34m(self, options, feed_dict, fetch_list, target_list, run_metadata)\u001b[0m\n\u001b[1;32m   1405\u001b[0m     return tf_session.TF_SessionRun_wrapper(\n\u001b[1;32m   1406\u001b[0m         \u001b[0mself\u001b[0m\u001b[0;34m.\u001b[0m\u001b[0m_session\u001b[0m\u001b[0;34m,\u001b[0m \u001b[0moptions\u001b[0m\u001b[0;34m,\u001b[0m \u001b[0mfeed_dict\u001b[0m\u001b[0;34m,\u001b[0m \u001b[0mfetch_list\u001b[0m\u001b[0;34m,\u001b[0m \u001b[0mtarget_list\u001b[0m\u001b[0;34m,\u001b[0m\u001b[0;34m\u001b[0m\u001b[0;34m\u001b[0m\u001b[0m\n\u001b[0;32m-> 1407\u001b[0;31m         run_metadata)\n\u001b[0m\u001b[1;32m   1408\u001b[0m \u001b[0;34m\u001b[0m\u001b[0m\n\u001b[1;32m   1409\u001b[0m   \u001b[0;32mdef\u001b[0m \u001b[0m_call_tf_sessionprun\u001b[0m\u001b[0;34m(\u001b[0m\u001b[0mself\u001b[0m\u001b[0;34m,\u001b[0m \u001b[0mhandle\u001b[0m\u001b[0;34m,\u001b[0m \u001b[0mfeed_dict\u001b[0m\u001b[0;34m,\u001b[0m \u001b[0mfetch_list\u001b[0m\u001b[0;34m)\u001b[0m\u001b[0;34m:\u001b[0m\u001b[0;34m\u001b[0m\u001b[0;34m\u001b[0m\u001b[0m\n",
            "\u001b[0;31mKeyboardInterrupt\u001b[0m: "
          ]
        }
      ]
    },
    {
      "metadata": {
        "id": "qFJ2-zfQw1Pv",
        "colab_type": "code",
        "colab": {
          "base_uri": "https://localhost:8080/",
          "height": 86
        },
        "outputId": "807c45e7-4d5b-4b64-e0c2-bdcd5d995153"
      },
      "cell_type": "code",
      "source": [
        "! git clone https://github.com/ayush093/tensorflow.git\n",
        "  "
      ],
      "execution_count": 62,
      "outputs": [
        {
          "output_type": "stream",
          "text": [
            "Cloning into 'tensorflow'...\n",
            "remote: Enumerating objects: 13, done.\u001b[K\n",
            "remote: Total 13 (delta 0), reused 0 (delta 0), pack-reused 13\u001b[K\n",
            "Unpacking objects: 100% (13/13), done.\n"
          ],
          "name": "stdout"
        }
      ]
    },
    {
      "metadata": {
        "id": "o_-qqURnzCec",
        "colab_type": "code",
        "colab": {
          "base_uri": "https://localhost:8080/",
          "height": 34
        },
        "outputId": "b96dd426-05ef-4b99-aa2e-0e4aa4a6376f"
      },
      "cell_type": "code",
      "source": [
        "!pwd"
      ],
      "execution_count": 63,
      "outputs": [
        {
          "output_type": "stream",
          "text": [
            "/content\n"
          ],
          "name": "stdout"
        }
      ]
    },
    {
      "metadata": {
        "id": "r0vHqEQAzI8G",
        "colab_type": "code",
        "colab": {
          "base_uri": "https://localhost:8080/",
          "height": 34
        },
        "outputId": "d8b6fbba-da11-406d-9143-7f2ad1922bea"
      },
      "cell_type": "code",
      "source": [
        "!ls"
      ],
      "execution_count": 64,
      "outputs": [
        {
          "output_type": "stream",
          "text": [
            "sample_data  tensorflow  test_signs.h5\ttrain_signs.h5\n"
          ],
          "name": "stdout"
        }
      ]
    },
    {
      "metadata": {
        "id": "NZ1_6lZ5zR_n",
        "colab_type": "code",
        "colab": {}
      },
      "cell_type": "code",
      "source": [
        ""
      ],
      "execution_count": 0,
      "outputs": []
    }
  ]
}