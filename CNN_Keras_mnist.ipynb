{
 "cells": [
  {
   "cell_type": "code",
   "execution_count": 1,
   "metadata": {},
   "outputs": [
    {
     "name": "stderr",
     "output_type": "stream",
     "text": [
      "Using TensorFlow backend.\n"
     ]
    }
   ],
   "source": [
    "import numpy as np\n",
    "from keras import *\n",
    "from keras.layers import *\n",
    "import keras"
   ]
  },
  {
   "cell_type": "code",
   "execution_count": 2,
   "metadata": {},
   "outputs": [],
   "source": [
    "import h5py"
   ]
  },
  {
   "cell_type": "code",
   "execution_count": 3,
   "metadata": {},
   "outputs": [],
   "source": [
    "def load_dataset():\n",
    "    train_dataset = h5py.File('../train_signs.h5', \"r\")\n",
    "    train_set_x_orig = np.array(train_dataset[\"train_set_x\"][:]) # your train set features\n",
    "    train_set_y_orig = np.array(train_dataset[\"train_set_y\"][:]) # your train set labels\n",
    "\n",
    "    test_dataset = h5py.File('../test_signs.h5', \"r\")\n",
    "    test_set_x_orig = np.array(test_dataset[\"test_set_x\"][:]) # your test set features\n",
    "    test_set_y_orig = np.array(test_dataset[\"test_set_y\"][:]) # your test set labels\n",
    "\n",
    "    classes = np.array(test_dataset[\"list_classes\"][:]) # the list of classes\n",
    "    \n",
    "    train_set_y_orig = train_set_y_orig.reshape((1, train_set_y_orig.shape[0]))\n",
    "    test_set_y_orig = test_set_y_orig.reshape((1, test_set_y_orig.shape[0]))\n",
    "    \n",
    "    return train_set_x_orig, train_set_y_orig, test_set_x_orig, test_set_y_orig, classes"
   ]
  },
  {
   "cell_type": "code",
   "execution_count": 4,
   "metadata": {},
   "outputs": [],
   "source": [
    "X_train_orig, Y_train_orig, X_test_orig, Y_test_orig, classes = load_dataset()"
   ]
  },
  {
   "cell_type": "code",
   "execution_count": 5,
   "metadata": {},
   "outputs": [
    {
     "data": {
      "text/plain": [
       "(1080, 64, 64, 3)"
      ]
     },
     "execution_count": 5,
     "metadata": {},
     "output_type": "execute_result"
    }
   ],
   "source": [
    "X_train_orig.shape"
   ]
  },
  {
   "cell_type": "code",
   "execution_count": 6,
   "metadata": {},
   "outputs": [
    {
     "name": "stdout",
     "output_type": "stream",
     "text": [
      "(1, 1080)\n"
     ]
    }
   ],
   "source": [
    "print(Y_train_orig.shape)"
   ]
  },
  {
   "cell_type": "code",
   "execution_count": 7,
   "metadata": {},
   "outputs": [],
   "source": [
    "def convert_to_one_hot(Y, C):\n",
    "    Y = np.eye(C)[Y.reshape(-1)].T\n",
    "    return Y\n"
   ]
  },
  {
   "cell_type": "code",
   "execution_count": 8,
   "metadata": {},
   "outputs": [],
   "source": [
    "#Y_train_orig=convert_to_one_hot(Y_train_orig, 6)\n",
    "#Y_test_orig=convert_to_one_hot(Y_test_orig, 6)"
   ]
  },
  {
   "cell_type": "code",
   "execution_count": 9,
   "metadata": {},
   "outputs": [
    {
     "name": "stdout",
     "output_type": "stream",
     "text": [
      "(1080, 64, 64, 3)\n",
      "(1080, 1)\n"
     ]
    }
   ],
   "source": [
    "X_train=X_train_orig\n",
    "Y_train=Y_train_orig.T\n",
    "print (X_train.shape)\n",
    "print (Y_train.shape)"
   ]
  },
  {
   "cell_type": "code",
   "execution_count": 10,
   "metadata": {},
   "outputs": [
    {
     "name": "stdout",
     "output_type": "stream",
     "text": [
      "(120, 64, 64, 3)\n",
      "(120, 1)\n"
     ]
    }
   ],
   "source": [
    "X_test=X_test_orig\n",
    "Y_test=Y_test_orig.T\n",
    "print (X_test.shape)\n",
    "print (Y_test.shape)"
   ]
  },
  {
   "cell_type": "code",
   "execution_count": 11,
   "metadata": {},
   "outputs": [
    {
     "name": "stdout",
     "output_type": "stream",
     "text": [
      "(1080, 1)\n"
     ]
    }
   ],
   "source": [
    "print (Y_train.shape)\n",
    "X_train=X_train/255\n",
    "X_test=X_test/255\n",
    "#Y_train=Y_train/255"
   ]
  },
  {
   "cell_type": "code",
   "execution_count": 12,
   "metadata": {},
   "outputs": [],
   "source": [
    "Y_train = keras.utils.to_categorical(Y_train, 6)\n",
    "Y_test = keras.utils.to_categorical(Y_test, 6)"
   ]
  },
  {
   "cell_type": "code",
   "execution_count": 13,
   "metadata": {},
   "outputs": [
    {
     "name": "stdout",
     "output_type": "stream",
     "text": [
      "(1080, 6)\n",
      "(1080, 64, 64, 3)\n",
      "(120, 6)\n",
      "(120, 64, 64, 3)\n"
     ]
    }
   ],
   "source": [
    "print (Y_train.shape)\n",
    "print (X_train.shape)\n",
    "print (Y_test.shape)\n",
    "print (X_test.shape)"
   ]
  },
  {
   "cell_type": "code",
   "execution_count": 14,
   "metadata": {},
   "outputs": [],
   "source": [
    "x=Input(X_train.shape[1:])"
   ]
  },
  {
   "cell_type": "code",
   "execution_count": 15,
   "metadata": {},
   "outputs": [],
   "source": [
    "x_=Conv2D(8,kernel_size=[4,4],strides=[1,1],padding='SAME')(x)"
   ]
  },
  {
   "cell_type": "code",
   "execution_count": 16,
   "metadata": {},
   "outputs": [],
   "source": [
    "x_=Activation('relu')(x_)"
   ]
  },
  {
   "cell_type": "code",
   "execution_count": 17,
   "metadata": {},
   "outputs": [],
   "source": [
    "x_=MaxPool2D(pool_size=[2,2],strides=[2,2],padding='SAME')(x_)"
   ]
  },
  {
   "cell_type": "code",
   "execution_count": 18,
   "metadata": {},
   "outputs": [],
   "source": [
    "x_=Conv2D(16,kernel_size=[2,2],strides=[1,1],padding='SAME')(x_)\n",
    "x_=Activation('relu')(x_)\n",
    "x_=MaxPool2D(pool_size=[4,4],strides=[4,4],padding='SAME')(x_)"
   ]
  },
  {
   "cell_type": "code",
   "execution_count": 19,
   "metadata": {},
   "outputs": [],
   "source": [
    "x_=Flatten()(x_)"
   ]
  },
  {
   "cell_type": "code",
   "execution_count": 20,
   "metadata": {},
   "outputs": [],
   "source": [
    "x_=Dense(units=32,activation='relu')(x_)\n",
    "x_=Dense(units=6,activation='sigmoid')(x_)"
   ]
  },
  {
   "cell_type": "code",
   "execution_count": 21,
   "metadata": {},
   "outputs": [],
   "source": [
    "model=Model(inputs=x, outputs=x_)"
   ]
  },
  {
   "cell_type": "code",
   "execution_count": 22,
   "metadata": {},
   "outputs": [],
   "source": [
    "model.compile(loss=keras.losses.categorical_crossentropy,optimizer=keras.optimizers.Adadelta(),metrics=['accuracy'])"
   ]
  },
  {
   "cell_type": "code",
   "execution_count": 25,
   "metadata": {},
   "outputs": [
    {
     "name": "stdout",
     "output_type": "stream",
     "text": [
      "Epoch 1/20\n",
      "1080/1080 [==============================] - 1s 1ms/step - loss: 0.1697 - acc: 0.9509\n",
      "Epoch 2/20\n",
      "1080/1080 [==============================] - 1s 1ms/step - loss: 0.1592 - acc: 0.9491\n",
      "Epoch 3/20\n",
      "1080/1080 [==============================] - 1s 1ms/step - loss: 0.1382 - acc: 0.9602\n",
      "Epoch 4/20\n",
      "1080/1080 [==============================] - 1s 998us/step - loss: 0.1551 - acc: 0.9519\n",
      "Epoch 5/20\n",
      "1080/1080 [==============================] - 1s 1ms/step - loss: 0.1202 - acc: 0.9657\n",
      "Epoch 6/20\n",
      "1080/1080 [==============================] - 1s 1ms/step - loss: 0.1026 - acc: 0.9731\n",
      "Epoch 7/20\n",
      "1080/1080 [==============================] - 1s 1ms/step - loss: 0.0841 - acc: 0.9741\n",
      "Epoch 8/20\n",
      "1080/1080 [==============================] - 1s 1ms/step - loss: 0.0783 - acc: 0.9787\n",
      "Epoch 9/20\n",
      "1080/1080 [==============================] - 1s 1ms/step - loss: 0.0775 - acc: 0.9824\n",
      "Epoch 10/20\n",
      "1080/1080 [==============================] - 1s 1ms/step - loss: 0.0638 - acc: 0.9833\n",
      "Epoch 11/20\n",
      "1080/1080 [==============================] - 1s 1ms/step - loss: 0.0696 - acc: 0.9824\n",
      "Epoch 12/20\n",
      "1080/1080 [==============================] - 1s 1ms/step - loss: 0.0524 - acc: 0.9889\n",
      "Epoch 13/20\n",
      "1080/1080 [==============================] - 1s 1ms/step - loss: 0.0473 - acc: 0.9935\n",
      "Epoch 14/20\n",
      "1080/1080 [==============================] - 1s 1ms/step - loss: 0.0428 - acc: 0.9935\n",
      "Epoch 15/20\n",
      "1080/1080 [==============================] - 1s 1ms/step - loss: 0.0474 - acc: 0.9870\n",
      "Epoch 16/20\n",
      "1080/1080 [==============================] - 1s 1ms/step - loss: 0.0325 - acc: 0.9963\n",
      "Epoch 17/20\n",
      "1080/1080 [==============================] - 1s 1ms/step - loss: 0.0350 - acc: 0.9954\n",
      "Epoch 18/20\n",
      "1080/1080 [==============================] - 1s 1ms/step - loss: 0.0346 - acc: 0.9917\n",
      "Epoch 19/20\n",
      "1080/1080 [==============================] - 1s 1ms/step - loss: 0.0207 - acc: 0.9972\n",
      "Epoch 20/20\n",
      "1080/1080 [==============================] - 1s 1ms/step - loss: 0.0423 - acc: 0.9861\n"
     ]
    },
    {
     "data": {
      "text/plain": [
       "<keras.callbacks.History at 0x7f52b9ebeba8>"
      ]
     },
     "execution_count": 25,
     "metadata": {},
     "output_type": "execute_result"
    }
   ],
   "source": [
    "model.fit(X_train, Y_train, batch_size=32,epochs=20)"
   ]
  },
  {
   "cell_type": "code",
   "execution_count": 23,
   "metadata": {},
   "outputs": [
    {
     "name": "stdout",
     "output_type": "stream",
     "text": [
      "_________________________________________________________________\n",
      "Layer (type)                 Output Shape              Param #   \n",
      "=================================================================\n",
      "input_1 (InputLayer)         (None, 64, 64, 3)         0         \n",
      "_________________________________________________________________\n",
      "conv2d_1 (Conv2D)            (None, 64, 64, 8)         392       \n",
      "_________________________________________________________________\n",
      "activation_1 (Activation)    (None, 64, 64, 8)         0         \n",
      "_________________________________________________________________\n",
      "max_pooling2d_1 (MaxPooling2 (None, 32, 32, 8)         0         \n",
      "_________________________________________________________________\n",
      "conv2d_2 (Conv2D)            (None, 32, 32, 16)        528       \n",
      "_________________________________________________________________\n",
      "activation_2 (Activation)    (None, 32, 32, 16)        0         \n",
      "_________________________________________________________________\n",
      "max_pooling2d_2 (MaxPooling2 (None, 8, 8, 16)          0         \n",
      "_________________________________________________________________\n",
      "flatten_1 (Flatten)          (None, 1024)              0         \n",
      "_________________________________________________________________\n",
      "dense_1 (Dense)              (None, 32)                32800     \n",
      "_________________________________________________________________\n",
      "dense_2 (Dense)              (None, 6)                 198       \n",
      "=================================================================\n",
      "Total params: 33,918\n",
      "Trainable params: 33,918\n",
      "Non-trainable params: 0\n",
      "_________________________________________________________________\n"
     ]
    }
   ],
   "source": [
    "model.summary()"
   ]
  },
  {
   "cell_type": "code",
   "execution_count": 26,
   "metadata": {},
   "outputs": [
    {
     "name": "stdout",
     "output_type": "stream",
     "text": [
      "120/120 [==============================] - 0s 1ms/step\n"
     ]
    }
   ],
   "source": [
    "preds=model.evaluate(X_test, Y_test)"
   ]
  },
  {
   "cell_type": "code",
   "execution_count": 27,
   "metadata": {},
   "outputs": [
    {
     "name": "stdout",
     "output_type": "stream",
     "text": [
      "[0.17244945963223776, 0.9333333373069763]\n"
     ]
    }
   ],
   "source": [
    "print (preds)"
   ]
  },
  {
   "cell_type": "code",
   "execution_count": 28,
   "metadata": {},
   "outputs": [
    {
     "data": {
      "text/plain": [
       "<matplotlib.image.AxesImage at 0x7f5226647ac8>"
      ]
     },
     "execution_count": 28,
     "metadata": {},
     "output_type": "execute_result"
    }
   ],
   "source": [
    "import matplotlib.pyplot as plt\n",
    "index=6\n",
    "plt.imshow(X_train[index])\n",
    "#X_train.shape"
   ]
  },
  {
   "cell_type": "code",
   "execution_count": null,
   "metadata": {},
   "outputs": [],
   "source": []
  }
 ],
 "metadata": {
  "kernelspec": {
   "display_name": "Python 3",
   "language": "python",
   "name": "python3"
  },
  "language_info": {
   "codemirror_mode": {
    "name": "ipython",
    "version": 3
   },
   "file_extension": ".py",
   "mimetype": "text/x-python",
   "name": "python",
   "nbconvert_exporter": "python",
   "pygments_lexer": "ipython3",
   "version": "3.6.6"
  }
 },
 "nbformat": 4,
 "nbformat_minor": 2
}
