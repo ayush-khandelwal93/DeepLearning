{
 "cells": [
  {
   "cell_type": "code",
   "execution_count": 60,
   "metadata": {},
   "outputs": [],
   "source": [
    "import pandas as pd"
   ]
  },
  {
   "cell_type": "code",
   "execution_count": 61,
   "metadata": {},
   "outputs": [],
   "source": [
    "df=pd.read_csv('train.csv')"
   ]
  },
  {
   "cell_type": "code",
   "execution_count": 62,
   "metadata": {},
   "outputs": [
    {
     "name": "stdout",
     "output_type": "stream",
     "text": [
      "   PassengerId  Survived  Pclass  \\\n",
      "0            1         0       3   \n",
      "1            2         1       1   \n",
      "2            3         1       3   \n",
      "3            4         1       1   \n",
      "4            5         0       3   \n",
      "\n",
      "                                                Name     Sex   Age  SibSp  \\\n",
      "0                            Braund, Mr. Owen Harris    male  22.0      1   \n",
      "1  Cumings, Mrs. John Bradley (Florence Briggs Th...  female  38.0      1   \n",
      "2                             Heikkinen, Miss. Laina  female  26.0      0   \n",
      "3       Futrelle, Mrs. Jacques Heath (Lily May Peel)  female  35.0      1   \n",
      "4                           Allen, Mr. William Henry    male  35.0      0   \n",
      "\n",
      "   Parch            Ticket     Fare Cabin Embarked  \n",
      "0      0         A/5 21171   7.2500   NaN        S  \n",
      "1      0          PC 17599  71.2833   C85        C  \n",
      "2      0  STON/O2. 3101282   7.9250   NaN        S  \n",
      "3      0            113803  53.1000  C123        S  \n",
      "4      0            373450   8.0500   NaN        S  \n"
     ]
    }
   ],
   "source": [
    "print (df.head())"
   ]
  },
  {
   "cell_type": "code",
   "execution_count": 63,
   "metadata": {},
   "outputs": [
    {
     "name": "stdout",
     "output_type": "stream",
     "text": [
      "     PassengerId  Survived  Pclass  \\\n",
      "0              1         0       3   \n",
      "1              2         1       1   \n",
      "2              3         1       3   \n",
      "3              4         1       1   \n",
      "4              5         0       3   \n",
      "5              6         0       3   \n",
      "6              7         0       1   \n",
      "7              8         0       3   \n",
      "8              9         1       3   \n",
      "9             10         1       2   \n",
      "10            11         1       3   \n",
      "11            12         1       1   \n",
      "12            13         0       3   \n",
      "13            14         0       3   \n",
      "14            15         0       3   \n",
      "15            16         1       2   \n",
      "16            17         0       3   \n",
      "17            18         1       2   \n",
      "18            19         0       3   \n",
      "19            20         1       3   \n",
      "20            21         0       2   \n",
      "21            22         1       2   \n",
      "22            23         1       3   \n",
      "23            24         1       1   \n",
      "24            25         0       3   \n",
      "25            26         1       3   \n",
      "26            27         0       3   \n",
      "27            28         0       1   \n",
      "28            29         1       3   \n",
      "29            30         0       3   \n",
      "..           ...       ...     ...   \n",
      "861          862         0       2   \n",
      "862          863         1       1   \n",
      "863          864         0       3   \n",
      "864          865         0       2   \n",
      "865          866         1       2   \n",
      "866          867         1       2   \n",
      "867          868         0       1   \n",
      "868          869         0       3   \n",
      "869          870         1       3   \n",
      "870          871         0       3   \n",
      "871          872         1       1   \n",
      "872          873         0       1   \n",
      "873          874         0       3   \n",
      "874          875         1       2   \n",
      "875          876         1       3   \n",
      "876          877         0       3   \n",
      "877          878         0       3   \n",
      "878          879         0       3   \n",
      "879          880         1       1   \n",
      "880          881         1       2   \n",
      "881          882         0       3   \n",
      "882          883         0       3   \n",
      "883          884         0       2   \n",
      "884          885         0       3   \n",
      "885          886         0       3   \n",
      "886          887         0       2   \n",
      "887          888         1       1   \n",
      "888          889         0       3   \n",
      "889          890         1       1   \n",
      "890          891         0       3   \n",
      "\n",
      "                                                  Name     Sex   Age  SibSp  \\\n",
      "0                              Braund, Mr. Owen Harris    male  22.0      1   \n",
      "1    Cumings, Mrs. John Bradley (Florence Briggs Th...  female  38.0      1   \n",
      "2                               Heikkinen, Miss. Laina  female  26.0      0   \n",
      "3         Futrelle, Mrs. Jacques Heath (Lily May Peel)  female  35.0      1   \n",
      "4                             Allen, Mr. William Henry    male  35.0      0   \n",
      "5                                     Moran, Mr. James    male   NaN      0   \n",
      "6                              McCarthy, Mr. Timothy J    male  54.0      0   \n",
      "7                       Palsson, Master. Gosta Leonard    male   2.0      3   \n",
      "8    Johnson, Mrs. Oscar W (Elisabeth Vilhelmina Berg)  female  27.0      0   \n",
      "9                  Nasser, Mrs. Nicholas (Adele Achem)  female  14.0      1   \n",
      "10                     Sandstrom, Miss. Marguerite Rut  female   4.0      1   \n",
      "11                            Bonnell, Miss. Elizabeth  female  58.0      0   \n",
      "12                      Saundercock, Mr. William Henry    male  20.0      0   \n",
      "13                         Andersson, Mr. Anders Johan    male  39.0      1   \n",
      "14                Vestrom, Miss. Hulda Amanda Adolfina  female  14.0      0   \n",
      "15                    Hewlett, Mrs. (Mary D Kingcome)   female  55.0      0   \n",
      "16                                Rice, Master. Eugene    male   2.0      4   \n",
      "17                        Williams, Mr. Charles Eugene    male   NaN      0   \n",
      "18   Vander Planke, Mrs. Julius (Emelia Maria Vande...  female  31.0      1   \n",
      "19                             Masselmani, Mrs. Fatima  female   NaN      0   \n",
      "20                                Fynney, Mr. Joseph J    male  35.0      0   \n",
      "21                               Beesley, Mr. Lawrence    male  34.0      0   \n",
      "22                         McGowan, Miss. Anna \"Annie\"  female  15.0      0   \n",
      "23                        Sloper, Mr. William Thompson    male  28.0      0   \n",
      "24                       Palsson, Miss. Torborg Danira  female   8.0      3   \n",
      "25   Asplund, Mrs. Carl Oscar (Selma Augusta Emilia...  female  38.0      1   \n",
      "26                             Emir, Mr. Farred Chehab    male   NaN      0   \n",
      "27                      Fortune, Mr. Charles Alexander    male  19.0      3   \n",
      "28                       O'Dwyer, Miss. Ellen \"Nellie\"  female   NaN      0   \n",
      "29                                 Todoroff, Mr. Lalio    male   NaN      0   \n",
      "..                                                 ...     ...   ...    ...   \n",
      "861                        Giles, Mr. Frederick Edward    male  21.0      1   \n",
      "862  Swift, Mrs. Frederick Joel (Margaret Welles Ba...  female  48.0      0   \n",
      "863                  Sage, Miss. Dorothy Edith \"Dolly\"  female   NaN      8   \n",
      "864                             Gill, Mr. John William    male  24.0      0   \n",
      "865                           Bystrom, Mrs. (Karolina)  female  42.0      0   \n",
      "866                       Duran y More, Miss. Asuncion  female  27.0      1   \n",
      "867               Roebling, Mr. Washington Augustus II    male  31.0      0   \n",
      "868                        van Melkebeke, Mr. Philemon    male   NaN      0   \n",
      "869                    Johnson, Master. Harold Theodor    male   4.0      1   \n",
      "870                                  Balkic, Mr. Cerin    male  26.0      0   \n",
      "871   Beckwith, Mrs. Richard Leonard (Sallie Monypeny)  female  47.0      1   \n",
      "872                           Carlsson, Mr. Frans Olof    male  33.0      0   \n",
      "873                        Vander Cruyssen, Mr. Victor    male  47.0      0   \n",
      "874              Abelson, Mrs. Samuel (Hannah Wizosky)  female  28.0      1   \n",
      "875                   Najib, Miss. Adele Kiamie \"Jane\"  female  15.0      0   \n",
      "876                      Gustafsson, Mr. Alfred Ossian    male  20.0      0   \n",
      "877                               Petroff, Mr. Nedelio    male  19.0      0   \n",
      "878                                 Laleff, Mr. Kristo    male   NaN      0   \n",
      "879      Potter, Mrs. Thomas Jr (Lily Alexenia Wilson)  female  56.0      0   \n",
      "880       Shelley, Mrs. William (Imanita Parrish Hall)  female  25.0      0   \n",
      "881                                 Markun, Mr. Johann    male  33.0      0   \n",
      "882                       Dahlberg, Miss. Gerda Ulrika  female  22.0      0   \n",
      "883                      Banfield, Mr. Frederick James    male  28.0      0   \n",
      "884                             Sutehall, Mr. Henry Jr    male  25.0      0   \n",
      "885               Rice, Mrs. William (Margaret Norton)  female  39.0      0   \n",
      "886                              Montvila, Rev. Juozas    male  27.0      0   \n",
      "887                       Graham, Miss. Margaret Edith  female  19.0      0   \n",
      "888           Johnston, Miss. Catherine Helen \"Carrie\"  female   NaN      1   \n",
      "889                              Behr, Mr. Karl Howell    male  26.0      0   \n",
      "890                                Dooley, Mr. Patrick    male  32.0      0   \n",
      "\n",
      "     Parch            Ticket      Fare        Cabin Embarked  \n",
      "0        0         A/5 21171    7.2500          NaN        S  \n",
      "1        0          PC 17599   71.2833          C85        C  \n",
      "2        0  STON/O2. 3101282    7.9250          NaN        S  \n",
      "3        0            113803   53.1000         C123        S  \n",
      "4        0            373450    8.0500          NaN        S  \n",
      "5        0            330877    8.4583          NaN        Q  \n",
      "6        0             17463   51.8625          E46        S  \n",
      "7        1            349909   21.0750          NaN        S  \n",
      "8        2            347742   11.1333          NaN        S  \n",
      "9        0            237736   30.0708          NaN        C  \n",
      "10       1           PP 9549   16.7000           G6        S  \n",
      "11       0            113783   26.5500         C103        S  \n",
      "12       0         A/5. 2151    8.0500          NaN        S  \n",
      "13       5            347082   31.2750          NaN        S  \n",
      "14       0            350406    7.8542          NaN        S  \n",
      "15       0            248706   16.0000          NaN        S  \n",
      "16       1            382652   29.1250          NaN        Q  \n",
      "17       0            244373   13.0000          NaN        S  \n",
      "18       0            345763   18.0000          NaN        S  \n",
      "19       0              2649    7.2250          NaN        C  \n",
      "20       0            239865   26.0000          NaN        S  \n",
      "21       0            248698   13.0000          D56        S  \n",
      "22       0            330923    8.0292          NaN        Q  \n",
      "23       0            113788   35.5000           A6        S  \n",
      "24       1            349909   21.0750          NaN        S  \n",
      "25       5            347077   31.3875          NaN        S  \n",
      "26       0              2631    7.2250          NaN        C  \n",
      "27       2             19950  263.0000  C23 C25 C27        S  \n",
      "28       0            330959    7.8792          NaN        Q  \n",
      "29       0            349216    7.8958          NaN        S  \n",
      "..     ...               ...       ...          ...      ...  \n",
      "861      0             28134   11.5000          NaN        S  \n",
      "862      0             17466   25.9292          D17        S  \n",
      "863      2          CA. 2343   69.5500          NaN        S  \n",
      "864      0            233866   13.0000          NaN        S  \n",
      "865      0            236852   13.0000          NaN        S  \n",
      "866      0     SC/PARIS 2149   13.8583          NaN        C  \n",
      "867      0          PC 17590   50.4958          A24        S  \n",
      "868      0            345777    9.5000          NaN        S  \n",
      "869      1            347742   11.1333          NaN        S  \n",
      "870      0            349248    7.8958          NaN        S  \n",
      "871      1             11751   52.5542          D35        S  \n",
      "872      0               695    5.0000  B51 B53 B55        S  \n",
      "873      0            345765    9.0000          NaN        S  \n",
      "874      0         P/PP 3381   24.0000          NaN        C  \n",
      "875      0              2667    7.2250          NaN        C  \n",
      "876      0              7534    9.8458          NaN        S  \n",
      "877      0            349212    7.8958          NaN        S  \n",
      "878      0            349217    7.8958          NaN        S  \n",
      "879      1             11767   83.1583          C50        C  \n",
      "880      1            230433   26.0000          NaN        S  \n",
      "881      0            349257    7.8958          NaN        S  \n",
      "882      0              7552   10.5167          NaN        S  \n",
      "883      0  C.A./SOTON 34068   10.5000          NaN        S  \n",
      "884      0   SOTON/OQ 392076    7.0500          NaN        S  \n",
      "885      5            382652   29.1250          NaN        Q  \n",
      "886      0            211536   13.0000          NaN        S  \n",
      "887      0            112053   30.0000          B42        S  \n",
      "888      2        W./C. 6607   23.4500          NaN        S  \n",
      "889      0            111369   30.0000         C148        C  \n",
      "890      0            370376    7.7500          NaN        Q  \n",
      "\n",
      "[891 rows x 12 columns]\n"
     ]
    }
   ],
   "source": [
    "print (df)"
   ]
  },
  {
   "cell_type": "code",
   "execution_count": 64,
   "metadata": {},
   "outputs": [],
   "source": [
    "df['Sex']=df['Sex'].astype('category')\n",
    "df['Sex'] = df['Sex'].cat.codes\n",
    "df['Embarked']=df['Embarked'].astype('category')\n",
    "df['Embarked']=df['Embarked'].cat.codes"
   ]
  },
  {
   "cell_type": "code",
   "execution_count": 65,
   "metadata": {},
   "outputs": [
    {
     "name": "stdout",
     "output_type": "stream",
     "text": [
      "   PassengerId  Survived  Pclass  \\\n",
      "0            1         0       3   \n",
      "1            2         1       1   \n",
      "2            3         1       3   \n",
      "3            4         1       1   \n",
      "4            5         0       3   \n",
      "\n",
      "                                                Name  Sex   Age  SibSp  Parch  \\\n",
      "0                            Braund, Mr. Owen Harris    1  22.0      1      0   \n",
      "1  Cumings, Mrs. John Bradley (Florence Briggs Th...    0  38.0      1      0   \n",
      "2                             Heikkinen, Miss. Laina    0  26.0      0      0   \n",
      "3       Futrelle, Mrs. Jacques Heath (Lily May Peel)    0  35.0      1      0   \n",
      "4                           Allen, Mr. William Henry    1  35.0      0      0   \n",
      "\n",
      "             Ticket     Fare Cabin  Embarked  \n",
      "0         A/5 21171   7.2500   NaN         2  \n",
      "1          PC 17599  71.2833   C85         0  \n",
      "2  STON/O2. 3101282   7.9250   NaN         2  \n",
      "3            113803  53.1000  C123         2  \n",
      "4            373450   8.0500   NaN         2  \n"
     ]
    }
   ],
   "source": [
    "print (df.head())"
   ]
  },
  {
   "cell_type": "code",
   "execution_count": 66,
   "metadata": {},
   "outputs": [],
   "source": [
    "import numpy as np\n",
    "df['Cabin']=df['Cabin'].fillna(value=0)\n",
    "df['Cabin']=np.where((df['Cabin'])==0,0,1)"
   ]
  },
  {
   "cell_type": "code",
   "execution_count": null,
   "metadata": {},
   "outputs": [],
   "source": []
  },
  {
   "cell_type": "code",
   "execution_count": 67,
   "metadata": {},
   "outputs": [
    {
     "name": "stdout",
     "output_type": "stream",
     "text": [
      "   PassengerId  Survived  Pclass  \\\n",
      "0            1         0       3   \n",
      "1            2         1       1   \n",
      "2            3         1       3   \n",
      "3            4         1       1   \n",
      "4            5         0       3   \n",
      "\n",
      "                                                Name  Sex   Age  SibSp  Parch  \\\n",
      "0                            Braund, Mr. Owen Harris    1  22.0      1      0   \n",
      "1  Cumings, Mrs. John Bradley (Florence Briggs Th...    0  38.0      1      0   \n",
      "2                             Heikkinen, Miss. Laina    0  26.0      0      0   \n",
      "3       Futrelle, Mrs. Jacques Heath (Lily May Peel)    0  35.0      1      0   \n",
      "4                           Allen, Mr. William Henry    1  35.0      0      0   \n",
      "\n",
      "             Ticket     Fare  Cabin  Embarked  \n",
      "0         A/5 21171   7.2500      0         2  \n",
      "1          PC 17599  71.2833      1         0  \n",
      "2  STON/O2. 3101282   7.9250      0         2  \n",
      "3            113803  53.1000      1         2  \n",
      "4            373450   8.0500      0         2  \n"
     ]
    }
   ],
   "source": [
    "print (df.head())"
   ]
  },
  {
   "cell_type": "code",
   "execution_count": 68,
   "metadata": {},
   "outputs": [],
   "source": [
    "#df=df.drop(columns=['check'])\n",
    "df=df.drop(columns=['Name'])"
   ]
  },
  {
   "cell_type": "code",
   "execution_count": 69,
   "metadata": {},
   "outputs": [
    {
     "name": "stdout",
     "output_type": "stream",
     "text": [
      "   PassengerId  Survived  Pclass  Sex   Age  SibSp  Parch            Ticket  \\\n",
      "0            1         0       3    1  22.0      1      0         A/5 21171   \n",
      "1            2         1       1    0  38.0      1      0          PC 17599   \n",
      "2            3         1       3    0  26.0      0      0  STON/O2. 3101282   \n",
      "3            4         1       1    0  35.0      1      0            113803   \n",
      "4            5         0       3    1  35.0      0      0            373450   \n",
      "\n",
      "      Fare  Cabin  Embarked  \n",
      "0   7.2500      0         2  \n",
      "1  71.2833      1         0  \n",
      "2   7.9250      0         2  \n",
      "3  53.1000      1         2  \n",
      "4   8.0500      0         2  \n"
     ]
    }
   ],
   "source": [
    "print(df.head())"
   ]
  },
  {
   "cell_type": "code",
   "execution_count": 70,
   "metadata": {},
   "outputs": [],
   "source": [
    "#df['check']=np.where(df['Ticket'])\n",
    "df=df.drop(columns='Ticket')\n",
    "df=df.drop(columns='PassengerId')"
   ]
  },
  {
   "cell_type": "code",
   "execution_count": 71,
   "metadata": {},
   "outputs": [
    {
     "name": "stdout",
     "output_type": "stream",
     "text": [
      "   Survived  Pclass  Sex   Age  SibSp  Parch     Fare  Cabin  Embarked\n",
      "0         0       3    1  22.0      1      0   7.2500      0         2\n",
      "1         1       1    0  38.0      1      0  71.2833      1         0\n",
      "2         1       3    0  26.0      0      0   7.9250      0         2\n",
      "3         1       1    0  35.0      1      0  53.1000      1         2\n",
      "4         0       3    1  35.0      0      0   8.0500      0         2\n"
     ]
    }
   ],
   "source": [
    "print(df.head())"
   ]
  },
  {
   "cell_type": "code",
   "execution_count": null,
   "metadata": {},
   "outputs": [],
   "source": []
  },
  {
   "cell_type": "code",
   "execution_count": 72,
   "metadata": {},
   "outputs": [
    {
     "name": "stdout",
     "output_type": "stream",
     "text": [
      "80.0\n",
      "512.3292\n"
     ]
    },
    {
     "data": {
      "text/plain": [
       "Survived      0\n",
       "Pclass        0\n",
       "Sex           0\n",
       "Age         177\n",
       "SibSp         0\n",
       "Parch         0\n",
       "Fare          0\n",
       "Cabin         0\n",
       "Embarked      0\n",
       "dtype: int64"
      ]
     },
     "execution_count": 72,
     "metadata": {},
     "output_type": "execute_result"
    }
   ],
   "source": [
    "r=df['Age'].max()\n",
    "print (r)\n",
    "df['Age']=df['Age']/40\n",
    "s=df['Fare'].max()\n",
    "print (s)\n",
    "df['Fare']=df['Fare']/250\n",
    "df.isna().sum()"
   ]
  },
  {
   "cell_type": "code",
   "execution_count": 73,
   "metadata": {},
   "outputs": [
    {
     "name": "stdout",
     "output_type": "stream",
     "text": [
      "(891,)\n",
      "(891, 7)\n"
     ]
    },
    {
     "data": {
      "text/plain": [
       "Survived    0\n",
       "Pclass      0\n",
       "Sex         0\n",
       "SibSp       0\n",
       "Parch       0\n",
       "Fare        0\n",
       "Cabin       0\n",
       "Embarked    0\n",
       "dtype: int64"
      ]
     },
     "execution_count": 73,
     "metadata": {},
     "output_type": "execute_result"
    }
   ],
   "source": [
    "df=df.drop(columns='Age')\n",
    "Y_train=df['Survived']\n",
    "X_train=df.iloc[:,1:]\n",
    "print (Y_train.shape)\n",
    "print (X_train.shape)\n",
    "df.isna().sum()"
   ]
  },
  {
   "cell_type": "code",
   "execution_count": 74,
   "metadata": {},
   "outputs": [],
   "source": [
    "Y_train=Y_train.values"
   ]
  },
  {
   "cell_type": "code",
   "execution_count": 75,
   "metadata": {},
   "outputs": [],
   "source": [
    "Y_train = keras.utils.to_categorical(Y_train, 2)"
   ]
  },
  {
   "cell_type": "code",
   "execution_count": 76,
   "metadata": {},
   "outputs": [],
   "source": [
    "X_train=X_train.values"
   ]
  },
  {
   "cell_type": "code",
   "execution_count": 77,
   "metadata": {},
   "outputs": [
    {
     "name": "stdout",
     "output_type": "stream",
     "text": [
      "(891, 2)\n",
      "(891, 7)\n"
     ]
    }
   ],
   "source": [
    "print (Y_train.shape)\n",
    "print (X_train.shape)"
   ]
  },
  {
   "cell_type": "code",
   "execution_count": 78,
   "metadata": {},
   "outputs": [
    {
     "name": "stdout",
     "output_type": "stream",
     "text": [
      "<class 'numpy.ndarray'>\n",
      "[1. 0.]\n",
      "[0. 1.]\n"
     ]
    }
   ],
   "source": [
    "print (type(X_train))\n",
    "print (Y_train[0])\n",
    "print (Y_train[1])"
   ]
  },
  {
   "cell_type": "code",
   "execution_count": 79,
   "metadata": {},
   "outputs": [],
   "source": [
    "#Y_train=Y_train.reshape(891,1)"
   ]
  },
  {
   "cell_type": "code",
   "execution_count": 80,
   "metadata": {},
   "outputs": [],
   "source": [
    "import keras\n",
    "from keras.layers import *\n",
    "from keras.models import Model"
   ]
  },
  {
   "cell_type": "code",
   "execution_count": 81,
   "metadata": {},
   "outputs": [],
   "source": [
    "inp=Input(X_train.shape[1:])"
   ]
  },
  {
   "cell_type": "code",
   "execution_count": 82,
   "metadata": {},
   "outputs": [],
   "source": [
    "x=Dense(10,activation='relu')(inp)\n",
    "x = Dropout(0.5)(x)"
   ]
  },
  {
   "cell_type": "code",
   "execution_count": 83,
   "metadata": {},
   "outputs": [],
   "source": [
    "x=Dense(8,activation='relu')(x)"
   ]
  },
  {
   "cell_type": "code",
   "execution_count": 84,
   "metadata": {},
   "outputs": [],
   "source": [
    "x=Dense(2,activation='sigmoid')(x)"
   ]
  },
  {
   "cell_type": "code",
   "execution_count": 85,
   "metadata": {},
   "outputs": [],
   "source": [
    "model=Model(inputs=inp,outputs=x)"
   ]
  },
  {
   "cell_type": "code",
   "execution_count": 86,
   "metadata": {},
   "outputs": [],
   "source": [
    "model.compile(optimizer='adam', loss='categorical_crossentropy', metrics=['accuracy'])"
   ]
  },
  {
   "cell_type": "code",
   "execution_count": 90,
   "metadata": {},
   "outputs": [
    {
     "name": "stdout",
     "output_type": "stream",
     "text": [
      "Epoch 1/200\n",
      "891/891 [==============================] - 0s 154us/step - loss: 0.4818 - acc: 0.7710\n",
      "Epoch 2/200\n",
      "891/891 [==============================] - 0s 115us/step - loss: 0.4995 - acc: 0.7621\n",
      "Epoch 3/200\n",
      "891/891 [==============================] - 0s 101us/step - loss: 0.4798 - acc: 0.7767\n",
      "Epoch 4/200\n",
      "891/891 [==============================] - 0s 119us/step - loss: 0.5012 - acc: 0.7565\n",
      "Epoch 5/200\n",
      "891/891 [==============================] - 0s 107us/step - loss: 0.4903 - acc: 0.7587\n",
      "Epoch 6/200\n",
      "891/891 [==============================] - 0s 113us/step - loss: 0.4757 - acc: 0.7710\n",
      "Epoch 7/200\n",
      "891/891 [==============================] - 0s 101us/step - loss: 0.4716 - acc: 0.7744\n",
      "Epoch 8/200\n",
      "891/891 [==============================] - 0s 138us/step - loss: 0.4964 - acc: 0.7452\n",
      "Epoch 9/200\n",
      "891/891 [==============================] - 0s 101us/step - loss: 0.4873 - acc: 0.7811\n",
      "Epoch 10/200\n",
      "891/891 [==============================] - 0s 119us/step - loss: 0.4885 - acc: 0.7733\n",
      "Epoch 11/200\n",
      "891/891 [==============================] - 0s 107us/step - loss: 0.4612 - acc: 0.7800\n",
      "Epoch 12/200\n",
      "891/891 [==============================] - 0s 112us/step - loss: 0.4855 - acc: 0.7755\n",
      "Epoch 13/200\n",
      "891/891 [==============================] - 0s 106us/step - loss: 0.4779 - acc: 0.7699\n",
      "Epoch 14/200\n",
      "891/891 [==============================] - 0s 120us/step - loss: 0.4934 - acc: 0.7654\n",
      "Epoch 15/200\n",
      "891/891 [==============================] - 0s 98us/step - loss: 0.4854 - acc: 0.7654\n",
      "Epoch 16/200\n",
      "891/891 [==============================] - 0s 122us/step - loss: 0.4790 - acc: 0.7744\n",
      "Epoch 17/200\n",
      "891/891 [==============================] - 0s 102us/step - loss: 0.4790 - acc: 0.7576\n",
      "Epoch 18/200\n",
      "891/891 [==============================] - 0s 110us/step - loss: 0.4831 - acc: 0.7789\n",
      "Epoch 19/200\n",
      "891/891 [==============================] - 0s 98us/step - loss: 0.4887 - acc: 0.7654\n",
      "Epoch 20/200\n",
      "891/891 [==============================] - 0s 113us/step - loss: 0.4835 - acc: 0.7598\n",
      "Epoch 21/200\n",
      "891/891 [==============================] - 0s 91us/step - loss: 0.4898 - acc: 0.7542\n",
      "Epoch 22/200\n",
      "891/891 [==============================] - 0s 113us/step - loss: 0.4859 - acc: 0.7643\n",
      "Epoch 23/200\n",
      "891/891 [==============================] - 0s 107us/step - loss: 0.4839 - acc: 0.7677\n",
      "Epoch 24/200\n",
      "891/891 [==============================] - 0s 104us/step - loss: 0.4862 - acc: 0.7699\n",
      "Epoch 25/200\n",
      "891/891 [==============================] - 0s 156us/step - loss: 0.4702 - acc: 0.7879\n",
      "Epoch 26/200\n",
      "891/891 [==============================] - 0s 181us/step - loss: 0.4681 - acc: 0.7800\n",
      "Epoch 27/200\n",
      "891/891 [==============================] - 0s 170us/step - loss: 0.4929 - acc: 0.7654\n",
      "Epoch 28/200\n",
      "891/891 [==============================] - 0s 154us/step - loss: 0.4832 - acc: 0.7632\n",
      "Epoch 29/200\n",
      "891/891 [==============================] - 0s 106us/step - loss: 0.4978 - acc: 0.7643\n",
      "Epoch 30/200\n",
      "891/891 [==============================] - 0s 110us/step - loss: 0.4733 - acc: 0.7778\n",
      "Epoch 31/200\n",
      "891/891 [==============================] - 0s 190us/step - loss: 0.4757 - acc: 0.7688\n",
      "Epoch 32/200\n",
      "891/891 [==============================] - 0s 149us/step - loss: 0.4952 - acc: 0.7598\n",
      "Epoch 33/200\n",
      "891/891 [==============================] - 0s 168us/step - loss: 0.4765 - acc: 0.7688\n",
      "Epoch 34/200\n",
      "891/891 [==============================] - 0s 104us/step - loss: 0.4679 - acc: 0.7811\n",
      "Epoch 35/200\n",
      "891/891 [==============================] - 0s 105us/step - loss: 0.4869 - acc: 0.7609\n",
      "Epoch 36/200\n",
      "891/891 [==============================] - 0s 103us/step - loss: 0.4796 - acc: 0.7531\n",
      "Epoch 37/200\n",
      "891/891 [==============================] - 0s 118us/step - loss: 0.4803 - acc: 0.7767\n",
      "Epoch 38/200\n",
      "891/891 [==============================] - 0s 100us/step - loss: 0.4669 - acc: 0.7890\n",
      "Epoch 39/200\n",
      "891/891 [==============================] - 0s 158us/step - loss: 0.4830 - acc: 0.7767\n",
      "Epoch 40/200\n",
      "891/891 [==============================] - 0s 166us/step - loss: 0.4888 - acc: 0.7621\n",
      "Epoch 41/200\n",
      "891/891 [==============================] - 0s 153us/step - loss: 0.4807 - acc: 0.7890\n",
      "Epoch 42/200\n",
      "891/891 [==============================] - 0s 113us/step - loss: 0.4795 - acc: 0.7811\n",
      "Epoch 43/200\n",
      "891/891 [==============================] - 0s 109us/step - loss: 0.4672 - acc: 0.7710\n",
      "Epoch 44/200\n",
      "891/891 [==============================] - 0s 109us/step - loss: 0.4685 - acc: 0.7901\n",
      "Epoch 45/200\n",
      "891/891 [==============================] - 0s 109us/step - loss: 0.4601 - acc: 0.7845\n",
      "Epoch 46/200\n",
      "891/891 [==============================] - 0s 112us/step - loss: 0.4868 - acc: 0.7699\n",
      "Epoch 47/200\n",
      "891/891 [==============================] - 0s 102us/step - loss: 0.4740 - acc: 0.7733\n",
      "Epoch 48/200\n",
      "891/891 [==============================] - 0s 103us/step - loss: 0.4694 - acc: 0.7654\n",
      "Epoch 49/200\n",
      "891/891 [==============================] - 0s 103us/step - loss: 0.4653 - acc: 0.7811\n",
      "Epoch 50/200\n",
      "891/891 [==============================] - 0s 99us/step - loss: 0.4797 - acc: 0.7699\n",
      "Epoch 51/200\n",
      "891/891 [==============================] - 0s 102us/step - loss: 0.4788 - acc: 0.7733\n",
      "Epoch 52/200\n",
      "891/891 [==============================] - 0s 109us/step - loss: 0.4810 - acc: 0.7744\n",
      "Epoch 53/200\n",
      "891/891 [==============================] - 0s 122us/step - loss: 0.4763 - acc: 0.7632\n",
      "Epoch 54/200\n",
      "891/891 [==============================] - 0s 99us/step - loss: 0.4816 - acc: 0.7654\n",
      "Epoch 55/200\n",
      "891/891 [==============================] - 0s 104us/step - loss: 0.4856 - acc: 0.7710\n",
      "Epoch 56/200\n",
      "891/891 [==============================] - 0s 109us/step - loss: 0.4643 - acc: 0.7912\n",
      "Epoch 57/200\n",
      "891/891 [==============================] - 0s 110us/step - loss: 0.4783 - acc: 0.7879\n",
      "Epoch 58/200\n",
      "891/891 [==============================] - 0s 104us/step - loss: 0.4655 - acc: 0.7699\n",
      "Epoch 59/200\n",
      "891/891 [==============================] - 0s 100us/step - loss: 0.4785 - acc: 0.7722\n",
      "Epoch 60/200\n",
      "891/891 [==============================] - 0s 105us/step - loss: 0.4657 - acc: 0.7890\n",
      "Epoch 61/200\n",
      "891/891 [==============================] - 0s 99us/step - loss: 0.4763 - acc: 0.7778\n",
      "Epoch 62/200\n",
      "891/891 [==============================] - 0s 113us/step - loss: 0.4602 - acc: 0.7733\n",
      "Epoch 63/200\n",
      "891/891 [==============================] - 0s 102us/step - loss: 0.4771 - acc: 0.7654\n",
      "Epoch 64/200\n",
      "891/891 [==============================] - 0s 100us/step - loss: 0.4710 - acc: 0.7778\n",
      "Epoch 65/200\n",
      "891/891 [==============================] - 0s 103us/step - loss: 0.4714 - acc: 0.7868\n",
      "Epoch 66/200\n",
      "891/891 [==============================] - 0s 106us/step - loss: 0.4680 - acc: 0.7811\n",
      "Epoch 67/200\n",
      "891/891 [==============================] - 0s 97us/step - loss: 0.4637 - acc: 0.7935\n",
      "Epoch 68/200\n",
      "891/891 [==============================] - 0s 97us/step - loss: 0.4595 - acc: 0.7789\n",
      "Epoch 69/200\n",
      "891/891 [==============================] - 0s 84us/step - loss: 0.4665 - acc: 0.7980\n",
      "Epoch 70/200\n",
      "891/891 [==============================] - 0s 108us/step - loss: 0.4803 - acc: 0.7890\n",
      "Epoch 71/200\n",
      "891/891 [==============================] - 0s 111us/step - loss: 0.4691 - acc: 0.7868\n",
      "Epoch 72/200\n",
      "891/891 [==============================] - 0s 112us/step - loss: 0.4635 - acc: 0.7834\n",
      "Epoch 73/200\n",
      "891/891 [==============================] - 0s 111us/step - loss: 0.4692 - acc: 0.7778\n",
      "Epoch 74/200\n",
      "891/891 [==============================] - 0s 107us/step - loss: 0.4632 - acc: 0.7800\n",
      "Epoch 75/200\n",
      "891/891 [==============================] - 0s 87us/step - loss: 0.4853 - acc: 0.7744\n",
      "Epoch 76/200\n",
      "891/891 [==============================] - 0s 155us/step - loss: 0.4704 - acc: 0.7811\n",
      "Epoch 77/200\n",
      "891/891 [==============================] - 0s 128us/step - loss: 0.4860 - acc: 0.7643\n",
      "Epoch 78/200\n",
      "891/891 [==============================] - 0s 128us/step - loss: 0.4779 - acc: 0.7710\n",
      "Epoch 79/200\n",
      "891/891 [==============================] - 0s 128us/step - loss: 0.4806 - acc: 0.7744\n",
      "Epoch 80/200\n",
      "891/891 [==============================] - 0s 109us/step - loss: 0.4794 - acc: 0.7755\n",
      "Epoch 81/200\n",
      "891/891 [==============================] - 0s 109us/step - loss: 0.4757 - acc: 0.7890\n",
      "Epoch 82/200\n",
      "891/891 [==============================] - 0s 91us/step - loss: 0.4627 - acc: 0.7935\n",
      "Epoch 83/200\n",
      "891/891 [==============================] - 0s 99us/step - loss: 0.4706 - acc: 0.7811\n"
     ]
    },
    {
     "name": "stdout",
     "output_type": "stream",
     "text": [
      "Epoch 84/200\n",
      "891/891 [==============================] - 0s 138us/step - loss: 0.4763 - acc: 0.7677\n",
      "Epoch 85/200\n",
      "891/891 [==============================] - 0s 125us/step - loss: 0.4767 - acc: 0.7767\n",
      "Epoch 86/200\n",
      "891/891 [==============================] - 0s 121us/step - loss: 0.4723 - acc: 0.7868\n",
      "Epoch 87/200\n",
      "891/891 [==============================] - 0s 111us/step - loss: 0.4623 - acc: 0.7811\n",
      "Epoch 88/200\n",
      "891/891 [==============================] - 0s 92us/step - loss: 0.4704 - acc: 0.7767\n",
      "Epoch 89/200\n",
      "891/891 [==============================] - 0s 86us/step - loss: 0.4605 - acc: 0.7845\n",
      "Epoch 90/200\n",
      "891/891 [==============================] - 0s 94us/step - loss: 0.4532 - acc: 0.7890\n",
      "Epoch 91/200\n",
      "891/891 [==============================] - 0s 100us/step - loss: 0.4618 - acc: 0.7733\n",
      "Epoch 92/200\n",
      "891/891 [==============================] - 0s 91us/step - loss: 0.4640 - acc: 0.7767\n",
      "Epoch 93/200\n",
      "891/891 [==============================] - 0s 113us/step - loss: 0.4473 - acc: 0.7969\n",
      "Epoch 94/200\n",
      "891/891 [==============================] - 0s 131us/step - loss: 0.4701 - acc: 0.7845\n",
      "Epoch 95/200\n",
      "891/891 [==============================] - 0s 124us/step - loss: 0.4777 - acc: 0.7811\n",
      "Epoch 96/200\n",
      "891/891 [==============================] - 0s 109us/step - loss: 0.4799 - acc: 0.7699\n",
      "Epoch 97/200\n",
      "891/891 [==============================] - 0s 100us/step - loss: 0.4664 - acc: 0.7677\n",
      "Epoch 98/200\n",
      "891/891 [==============================] - 0s 85us/step - loss: 0.4628 - acc: 0.7946\n",
      "Epoch 99/200\n",
      "891/891 [==============================] - 0s 101us/step - loss: 0.4599 - acc: 0.7800\n",
      "Epoch 100/200\n",
      "891/891 [==============================] - 0s 103us/step - loss: 0.4632 - acc: 0.7868\n",
      "Epoch 101/200\n",
      "891/891 [==============================] - 0s 98us/step - loss: 0.4650 - acc: 0.7800\n",
      "Epoch 102/200\n",
      "891/891 [==============================] - 0s 112us/step - loss: 0.4744 - acc: 0.7800\n",
      "Epoch 103/200\n",
      "891/891 [==============================] - 0s 117us/step - loss: 0.4624 - acc: 0.7879\n",
      "Epoch 104/200\n",
      "891/891 [==============================] - 0s 110us/step - loss: 0.4568 - acc: 0.7823\n",
      "Epoch 105/200\n",
      "891/891 [==============================] - 0s 99us/step - loss: 0.4578 - acc: 0.8013\n",
      "Epoch 106/200\n",
      "891/891 [==============================] - 0s 97us/step - loss: 0.4690 - acc: 0.7767\n",
      "Epoch 107/200\n",
      "891/891 [==============================] - 0s 91us/step - loss: 0.4777 - acc: 0.7789\n",
      "Epoch 108/200\n",
      "891/891 [==============================] - 0s 88us/step - loss: 0.4660 - acc: 0.7879\n",
      "Epoch 109/200\n",
      "891/891 [==============================] - 0s 99us/step - loss: 0.4648 - acc: 0.7912\n",
      "Epoch 110/200\n",
      "891/891 [==============================] - 0s 113us/step - loss: 0.4748 - acc: 0.7912\n",
      "Epoch 111/200\n",
      "891/891 [==============================] - 0s 127us/step - loss: 0.4769 - acc: 0.7755\n",
      "Epoch 112/200\n",
      "891/891 [==============================] - 0s 112us/step - loss: 0.4573 - acc: 0.7856\n",
      "Epoch 113/200\n",
      "891/891 [==============================] - 0s 116us/step - loss: 0.4686 - acc: 0.7868\n",
      "Epoch 114/200\n",
      "891/891 [==============================] - 0s 93us/step - loss: 0.4725 - acc: 0.7688\n",
      "Epoch 115/200\n",
      "891/891 [==============================] - 0s 92us/step - loss: 0.4724 - acc: 0.7767\n",
      "Epoch 116/200\n",
      "891/891 [==============================] - 0s 98us/step - loss: 0.4644 - acc: 0.7935\n",
      "Epoch 117/200\n",
      "891/891 [==============================] - 0s 95us/step - loss: 0.4515 - acc: 0.8002\n",
      "Epoch 118/200\n",
      "891/891 [==============================] - 0s 157us/step - loss: 0.4614 - acc: 0.7856\n",
      "Epoch 119/200\n",
      "891/891 [==============================] - 0s 125us/step - loss: 0.4490 - acc: 0.7823\n",
      "Epoch 120/200\n",
      "891/891 [==============================] - 0s 113us/step - loss: 0.4578 - acc: 0.7890\n",
      "Epoch 121/200\n",
      "891/891 [==============================] - 0s 96us/step - loss: 0.4671 - acc: 0.7823\n",
      "Epoch 122/200\n",
      "891/891 [==============================] - 0s 95us/step - loss: 0.4614 - acc: 0.7935\n",
      "Epoch 123/200\n",
      "891/891 [==============================] - 0s 94us/step - loss: 0.4663 - acc: 0.7811\n",
      "Epoch 124/200\n",
      "891/891 [==============================] - 0s 91us/step - loss: 0.4713 - acc: 0.7767\n",
      "Epoch 125/200\n",
      "891/891 [==============================] - 0s 91us/step - loss: 0.4673 - acc: 0.7946\n",
      "Epoch 126/200\n",
      "891/891 [==============================] - 0s 113us/step - loss: 0.4592 - acc: 0.7789\n",
      "Epoch 127/200\n",
      "891/891 [==============================] - 0s 117us/step - loss: 0.4763 - acc: 0.7722\n",
      "Epoch 128/200\n",
      "891/891 [==============================] - 0s 118us/step - loss: 0.4577 - acc: 0.7800\n",
      "Epoch 129/200\n",
      "891/891 [==============================] - 0s 101us/step - loss: 0.4701 - acc: 0.7845\n",
      "Epoch 130/200\n",
      "891/891 [==============================] - 0s 81us/step - loss: 0.4698 - acc: 0.7879\n",
      "Epoch 131/200\n",
      "891/891 [==============================] - 0s 108us/step - loss: 0.4714 - acc: 0.7823\n",
      "Epoch 132/200\n",
      "891/891 [==============================] - 0s 119us/step - loss: 0.4637 - acc: 0.7856\n",
      "Epoch 133/200\n",
      "891/891 [==============================] - 0s 123us/step - loss: 0.4531 - acc: 0.7901\n",
      "Epoch 134/200\n",
      "891/891 [==============================] - 0s 118us/step - loss: 0.4692 - acc: 0.7957\n",
      "Epoch 135/200\n",
      "891/891 [==============================] - 0s 118us/step - loss: 0.4664 - acc: 0.7744\n",
      "Epoch 136/200\n",
      "891/891 [==============================] - 0s 117us/step - loss: 0.4571 - acc: 0.7912\n",
      "Epoch 137/200\n",
      "891/891 [==============================] - 0s 115us/step - loss: 0.4585 - acc: 0.7755\n",
      "Epoch 138/200\n",
      "891/891 [==============================] - 0s 104us/step - loss: 0.4564 - acc: 0.8058\n",
      "Epoch 139/200\n",
      "891/891 [==============================] - 0s 105us/step - loss: 0.4662 - acc: 0.7879\n",
      "Epoch 140/200\n",
      "891/891 [==============================] - 0s 104us/step - loss: 0.4532 - acc: 0.7722\n",
      "Epoch 141/200\n",
      "891/891 [==============================] - 0s 113us/step - loss: 0.4525 - acc: 0.7890\n",
      "Epoch 142/200\n",
      "891/891 [==============================] - 0s 126us/step - loss: 0.4678 - acc: 0.7879\n",
      "Epoch 143/200\n",
      "891/891 [==============================] - 0s 145us/step - loss: 0.4602 - acc: 0.7778\n",
      "Epoch 144/200\n",
      "891/891 [==============================] - 0s 111us/step - loss: 0.4587 - acc: 0.7879\n",
      "Epoch 145/200\n",
      "891/891 [==============================] - 0s 106us/step - loss: 0.4516 - acc: 0.7868\n",
      "Epoch 146/200\n",
      "891/891 [==============================] - 0s 100us/step - loss: 0.4515 - acc: 0.7935\n",
      "Epoch 147/200\n",
      "891/891 [==============================] - 0s 106us/step - loss: 0.4647 - acc: 0.7767\n",
      "Epoch 148/200\n",
      "891/891 [==============================] - 0s 113us/step - loss: 0.4591 - acc: 0.7879\n",
      "Epoch 149/200\n",
      "891/891 [==============================] - 0s 117us/step - loss: 0.4653 - acc: 0.7901\n",
      "Epoch 150/200\n",
      "891/891 [==============================] - 0s 126us/step - loss: 0.4681 - acc: 0.7778\n",
      "Epoch 151/200\n",
      "891/891 [==============================] - 0s 122us/step - loss: 0.4625 - acc: 0.7733\n",
      "Epoch 152/200\n",
      "891/891 [==============================] - 0s 120us/step - loss: 0.4645 - acc: 0.7767\n",
      "Epoch 153/200\n",
      "891/891 [==============================] - 0s 110us/step - loss: 0.4661 - acc: 0.7890\n",
      "Epoch 154/200\n",
      "891/891 [==============================] - 0s 129us/step - loss: 0.4548 - acc: 0.7912\n",
      "Epoch 155/200\n",
      "891/891 [==============================] - 0s 132us/step - loss: 0.4628 - acc: 0.7845\n",
      "Epoch 156/200\n",
      "891/891 [==============================] - 0s 138us/step - loss: 0.4566 - acc: 0.7957\n",
      "Epoch 157/200\n",
      "891/891 [==============================] - 0s 113us/step - loss: 0.4608 - acc: 0.7811\n",
      "Epoch 158/200\n",
      "891/891 [==============================] - 0s 110us/step - loss: 0.4674 - acc: 0.7767\n",
      "Epoch 159/200\n",
      "891/891 [==============================] - 0s 98us/step - loss: 0.4727 - acc: 0.7868\n",
      "Epoch 160/200\n",
      "891/891 [==============================] - 0s 104us/step - loss: 0.4611 - acc: 0.7912\n",
      "Epoch 161/200\n",
      "891/891 [==============================] - 0s 104us/step - loss: 0.4520 - acc: 0.7901\n",
      "Epoch 162/200\n",
      "891/891 [==============================] - 0s 113us/step - loss: 0.4573 - acc: 0.7957\n",
      "Epoch 163/200\n",
      "891/891 [==============================] - 0s 139us/step - loss: 0.4615 - acc: 0.7811\n",
      "Epoch 164/200\n",
      "891/891 [==============================] - 0s 142us/step - loss: 0.4564 - acc: 0.7879\n",
      "Epoch 165/200\n",
      "891/891 [==============================] - 0s 96us/step - loss: 0.4512 - acc: 0.7957\n",
      "Epoch 166/200\n"
     ]
    },
    {
     "name": "stdout",
     "output_type": "stream",
     "text": [
      "891/891 [==============================] - 0s 109us/step - loss: 0.4535 - acc: 0.7946\n",
      "Epoch 167/200\n",
      "891/891 [==============================] - 0s 110us/step - loss: 0.4577 - acc: 0.7912\n",
      "Epoch 168/200\n",
      "891/891 [==============================] - 0s 118us/step - loss: 0.4537 - acc: 0.7755\n",
      "Epoch 169/200\n",
      "891/891 [==============================] - 0s 121us/step - loss: 0.4611 - acc: 0.7845\n",
      "Epoch 170/200\n",
      "891/891 [==============================] - 0s 94us/step - loss: 0.4701 - acc: 0.7744\n",
      "Epoch 171/200\n",
      "891/891 [==============================] - 0s 97us/step - loss: 0.4629 - acc: 0.7935\n",
      "Epoch 172/200\n",
      "891/891 [==============================] - 0s 98us/step - loss: 0.4603 - acc: 0.7879\n",
      "Epoch 173/200\n",
      "891/891 [==============================] - 0s 101us/step - loss: 0.4509 - acc: 0.7868\n",
      "Epoch 174/200\n",
      "891/891 [==============================] - 0s 134us/step - loss: 0.4527 - acc: 0.7823\n",
      "Epoch 175/200\n",
      "891/891 [==============================] - 0s 111us/step - loss: 0.4479 - acc: 0.7980\n",
      "Epoch 176/200\n",
      "891/891 [==============================] - 0s 127us/step - loss: 0.4606 - acc: 0.8002\n",
      "Epoch 177/200\n",
      "891/891 [==============================] - 0s 113us/step - loss: 0.4650 - acc: 0.7834\n",
      "Epoch 178/200\n",
      "891/891 [==============================] - 0s 101us/step - loss: 0.4678 - acc: 0.7845\n",
      "Epoch 179/200\n",
      "891/891 [==============================] - 0s 92us/step - loss: 0.4526 - acc: 0.7924\n",
      "Epoch 180/200\n",
      "891/891 [==============================] - 0s 92us/step - loss: 0.4490 - acc: 0.8114\n",
      "Epoch 181/200\n",
      "891/891 [==============================] - 0s 93us/step - loss: 0.4607 - acc: 0.7856\n",
      "Epoch 182/200\n",
      "891/891 [==============================] - 0s 115us/step - loss: 0.4403 - acc: 0.7912\n",
      "Epoch 183/200\n",
      "891/891 [==============================] - 0s 119us/step - loss: 0.4520 - acc: 0.7991\n",
      "Epoch 184/200\n",
      "891/891 [==============================] - 0s 123us/step - loss: 0.4535 - acc: 0.7890\n",
      "Epoch 185/200\n",
      "891/891 [==============================] - 0s 108us/step - loss: 0.4505 - acc: 0.7957\n",
      "Epoch 186/200\n",
      "891/891 [==============================] - 0s 91us/step - loss: 0.4677 - acc: 0.7868\n",
      "Epoch 187/200\n",
      "891/891 [==============================] - 0s 86us/step - loss: 0.4596 - acc: 0.7957\n",
      "Epoch 188/200\n",
      "891/891 [==============================] - 0s 83us/step - loss: 0.4526 - acc: 0.7834\n",
      "Epoch 189/200\n",
      "891/891 [==============================] - 0s 110us/step - loss: 0.4594 - acc: 0.7969\n",
      "Epoch 190/200\n",
      "891/891 [==============================] - 0s 99us/step - loss: 0.4669 - acc: 0.7868\n",
      "Epoch 191/200\n",
      "891/891 [==============================] - 0s 97us/step - loss: 0.4577 - acc: 0.7868\n",
      "Epoch 192/200\n",
      "891/891 [==============================] - 0s 103us/step - loss: 0.4746 - acc: 0.7879\n",
      "Epoch 193/200\n",
      "891/891 [==============================] - 0s 110us/step - loss: 0.4503 - acc: 0.8002\n",
      "Epoch 194/200\n",
      "891/891 [==============================] - 0s 108us/step - loss: 0.4489 - acc: 0.8036\n",
      "Epoch 195/200\n",
      "891/891 [==============================] - 0s 113us/step - loss: 0.4589 - acc: 0.7879\n",
      "Epoch 196/200\n",
      "891/891 [==============================] - 0s 99us/step - loss: 0.4572 - acc: 0.7890\n",
      "Epoch 197/200\n",
      "891/891 [==============================] - 0s 101us/step - loss: 0.4563 - acc: 0.7845\n",
      "Epoch 198/200\n",
      "891/891 [==============================] - 0s 85us/step - loss: 0.4571 - acc: 0.7924\n",
      "Epoch 199/200\n",
      "891/891 [==============================] - 0s 109us/step - loss: 0.4601 - acc: 0.7991\n",
      "Epoch 200/200\n",
      "891/891 [==============================] - 0s 92us/step - loss: 0.4588 - acc: 0.7946\n"
     ]
    },
    {
     "data": {
      "text/plain": [
       "<keras.callbacks.History at 0x7fbf440d9ac8>"
      ]
     },
     "execution_count": 90,
     "metadata": {},
     "output_type": "execute_result"
    }
   ],
   "source": [
    "model.fit(x=X_train, y=Y_train, epochs=200)"
   ]
  },
  {
   "cell_type": "code",
   "execution_count": 115,
   "metadata": {},
   "outputs": [
    {
     "name": "stdout",
     "output_type": "stream",
     "text": [
      "   Survived  Pclass  Sex       Age  SibSp  Parch      Fare  Cabin  Embarked\n",
      "0         0       3    1  0.000009      1      0  0.029000      0         2\n",
      "1         1       1    0  0.000015      1      0  0.285133      1         0\n",
      "2         1       3    0  0.000010      0      0  0.031700      0         2\n",
      "3         1       1    0  0.000014      1      0  0.212400      1         2\n",
      "4         0       3    1  0.000014      0      0  0.032200      0         2\n"
     ]
    }
   ],
   "source": [
    "print (df.head())"
   ]
  },
  {
   "cell_type": "code",
   "execution_count": null,
   "metadata": {},
   "outputs": [],
   "source": []
  }
 ],
 "metadata": {
  "kernelspec": {
   "display_name": "Python 3",
   "language": "python",
   "name": "python3"
  },
  "language_info": {
   "codemirror_mode": {
    "name": "ipython",
    "version": 3
   },
   "file_extension": ".py",
   "mimetype": "text/x-python",
   "name": "python",
   "nbconvert_exporter": "python",
   "pygments_lexer": "ipython3",
   "version": "3.6.6"
  }
 },
 "nbformat": 4,
 "nbformat_minor": 2
}
