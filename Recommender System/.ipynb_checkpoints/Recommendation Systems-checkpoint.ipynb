{
 "cells": [
  {
   "cell_type": "code",
   "execution_count": 1,
   "metadata": {},
   "outputs": [],
   "source": [
    "import pandas as pd\n",
    "import numpy as np"
   ]
  },
  {
   "cell_type": "code",
   "execution_count": 2,
   "metadata": {},
   "outputs": [],
   "source": [
    "df=pd.read_csv('movie_ratings_data_set.csv')"
   ]
  },
  {
   "cell_type": "code",
   "execution_count": 4,
   "metadata": {},
   "outputs": [
    {
     "data": {
      "text/html": [
       "<div>\n",
       "<style scoped>\n",
       "    .dataframe tbody tr th:only-of-type {\n",
       "        vertical-align: middle;\n",
       "    }\n",
       "\n",
       "    .dataframe tbody tr th {\n",
       "        vertical-align: top;\n",
       "    }\n",
       "\n",
       "    .dataframe thead th {\n",
       "        text-align: right;\n",
       "    }\n",
       "</style>\n",
       "<table border=\"1\" class=\"dataframe\">\n",
       "  <thead>\n",
       "    <tr style=\"text-align: right;\">\n",
       "      <th></th>\n",
       "      <th>user_id</th>\n",
       "      <th>movie_id</th>\n",
       "      <th>value</th>\n",
       "    </tr>\n",
       "  </thead>\n",
       "  <tbody>\n",
       "    <tr>\n",
       "      <th>0</th>\n",
       "      <td>1</td>\n",
       "      <td>28</td>\n",
       "      <td>4</td>\n",
       "    </tr>\n",
       "    <tr>\n",
       "      <th>1</th>\n",
       "      <td>1</td>\n",
       "      <td>26</td>\n",
       "      <td>4</td>\n",
       "    </tr>\n",
       "    <tr>\n",
       "      <th>2</th>\n",
       "      <td>1</td>\n",
       "      <td>9</td>\n",
       "      <td>4</td>\n",
       "    </tr>\n",
       "    <tr>\n",
       "      <th>3</th>\n",
       "      <td>1</td>\n",
       "      <td>1</td>\n",
       "      <td>4</td>\n",
       "    </tr>\n",
       "    <tr>\n",
       "      <th>4</th>\n",
       "      <td>1</td>\n",
       "      <td>14</td>\n",
       "      <td>4</td>\n",
       "    </tr>\n",
       "    <tr>\n",
       "      <th>5</th>\n",
       "      <td>1</td>\n",
       "      <td>13</td>\n",
       "      <td>5</td>\n",
       "    </tr>\n",
       "    <tr>\n",
       "      <th>6</th>\n",
       "      <td>2</td>\n",
       "      <td>2</td>\n",
       "      <td>5</td>\n",
       "    </tr>\n",
       "    <tr>\n",
       "      <th>7</th>\n",
       "      <td>2</td>\n",
       "      <td>15</td>\n",
       "      <td>4</td>\n",
       "    </tr>\n",
       "    <tr>\n",
       "      <th>8</th>\n",
       "      <td>2</td>\n",
       "      <td>1</td>\n",
       "      <td>5</td>\n",
       "    </tr>\n",
       "    <tr>\n",
       "      <th>9</th>\n",
       "      <td>2</td>\n",
       "      <td>21</td>\n",
       "      <td>5</td>\n",
       "    </tr>\n",
       "  </tbody>\n",
       "</table>\n",
       "</div>"
      ],
      "text/plain": [
       "   user_id  movie_id  value\n",
       "0        1        28      4\n",
       "1        1        26      4\n",
       "2        1         9      4\n",
       "3        1         1      4\n",
       "4        1        14      4\n",
       "5        1        13      5\n",
       "6        2         2      5\n",
       "7        2        15      4\n",
       "8        2         1      5\n",
       "9        2        21      5"
      ]
     },
     "execution_count": 4,
     "metadata": {},
     "output_type": "execute_result"
    }
   ],
   "source": [
    "df.head(10)"
   ]
  },
  {
   "cell_type": "markdown",
   "metadata": {},
   "source": [
    "##  Converting the Table into a format to be used by the algorithm"
   ]
  },
  {
   "cell_type": "code",
   "execution_count": 15,
   "metadata": {},
   "outputs": [],
   "source": [
    "ratings_df=df.pivot_table(df,index='user_id',columns='movie_id',aggfunc='max')"
   ]
  },
  {
   "cell_type": "code",
   "execution_count": 16,
   "metadata": {},
   "outputs": [
    {
     "data": {
      "text/html": [
       "<div>\n",
       "<style scoped>\n",
       "    .dataframe tbody tr th:only-of-type {\n",
       "        vertical-align: middle;\n",
       "    }\n",
       "\n",
       "    .dataframe tbody tr th {\n",
       "        vertical-align: top;\n",
       "    }\n",
       "\n",
       "    .dataframe thead tr th {\n",
       "        text-align: left;\n",
       "    }\n",
       "\n",
       "    .dataframe thead tr:last-of-type th {\n",
       "        text-align: right;\n",
       "    }\n",
       "</style>\n",
       "<table border=\"1\" class=\"dataframe\">\n",
       "  <thead>\n",
       "    <tr>\n",
       "      <th></th>\n",
       "      <th colspan=\"21\" halign=\"left\">value</th>\n",
       "    </tr>\n",
       "    <tr>\n",
       "      <th>movie_id</th>\n",
       "      <th>1</th>\n",
       "      <th>2</th>\n",
       "      <th>3</th>\n",
       "      <th>4</th>\n",
       "      <th>5</th>\n",
       "      <th>6</th>\n",
       "      <th>7</th>\n",
       "      <th>8</th>\n",
       "      <th>9</th>\n",
       "      <th>10</th>\n",
       "      <th>...</th>\n",
       "      <th>25</th>\n",
       "      <th>26</th>\n",
       "      <th>27</th>\n",
       "      <th>28</th>\n",
       "      <th>29</th>\n",
       "      <th>30</th>\n",
       "      <th>31</th>\n",
       "      <th>32</th>\n",
       "      <th>33</th>\n",
       "      <th>34</th>\n",
       "    </tr>\n",
       "    <tr>\n",
       "      <th>user_id</th>\n",
       "      <th></th>\n",
       "      <th></th>\n",
       "      <th></th>\n",
       "      <th></th>\n",
       "      <th></th>\n",
       "      <th></th>\n",
       "      <th></th>\n",
       "      <th></th>\n",
       "      <th></th>\n",
       "      <th></th>\n",
       "      <th></th>\n",
       "      <th></th>\n",
       "      <th></th>\n",
       "      <th></th>\n",
       "      <th></th>\n",
       "      <th></th>\n",
       "      <th></th>\n",
       "      <th></th>\n",
       "      <th></th>\n",
       "      <th></th>\n",
       "      <th></th>\n",
       "    </tr>\n",
       "  </thead>\n",
       "  <tbody>\n",
       "    <tr>\n",
       "      <th>1</th>\n",
       "      <td>4.0</td>\n",
       "      <td>NaN</td>\n",
       "      <td>NaN</td>\n",
       "      <td>NaN</td>\n",
       "      <td>NaN</td>\n",
       "      <td>NaN</td>\n",
       "      <td>NaN</td>\n",
       "      <td>NaN</td>\n",
       "      <td>4.0</td>\n",
       "      <td>NaN</td>\n",
       "      <td>...</td>\n",
       "      <td>NaN</td>\n",
       "      <td>4.0</td>\n",
       "      <td>NaN</td>\n",
       "      <td>4.0</td>\n",
       "      <td>NaN</td>\n",
       "      <td>NaN</td>\n",
       "      <td>NaN</td>\n",
       "      <td>NaN</td>\n",
       "      <td>NaN</td>\n",
       "      <td>NaN</td>\n",
       "    </tr>\n",
       "    <tr>\n",
       "      <th>2</th>\n",
       "      <td>5.0</td>\n",
       "      <td>5.0</td>\n",
       "      <td>NaN</td>\n",
       "      <td>NaN</td>\n",
       "      <td>NaN</td>\n",
       "      <td>NaN</td>\n",
       "      <td>NaN</td>\n",
       "      <td>NaN</td>\n",
       "      <td>NaN</td>\n",
       "      <td>NaN</td>\n",
       "      <td>...</td>\n",
       "      <td>NaN</td>\n",
       "      <td>NaN</td>\n",
       "      <td>NaN</td>\n",
       "      <td>NaN</td>\n",
       "      <td>NaN</td>\n",
       "      <td>NaN</td>\n",
       "      <td>3.0</td>\n",
       "      <td>NaN</td>\n",
       "      <td>NaN</td>\n",
       "      <td>4.0</td>\n",
       "    </tr>\n",
       "    <tr>\n",
       "      <th>3</th>\n",
       "      <td>4.0</td>\n",
       "      <td>4.0</td>\n",
       "      <td>5.0</td>\n",
       "      <td>NaN</td>\n",
       "      <td>NaN</td>\n",
       "      <td>NaN</td>\n",
       "      <td>NaN</td>\n",
       "      <td>NaN</td>\n",
       "      <td>NaN</td>\n",
       "      <td>NaN</td>\n",
       "      <td>...</td>\n",
       "      <td>NaN</td>\n",
       "      <td>NaN</td>\n",
       "      <td>NaN</td>\n",
       "      <td>NaN</td>\n",
       "      <td>NaN</td>\n",
       "      <td>NaN</td>\n",
       "      <td>NaN</td>\n",
       "      <td>NaN</td>\n",
       "      <td>NaN</td>\n",
       "      <td>NaN</td>\n",
       "    </tr>\n",
       "    <tr>\n",
       "      <th>4</th>\n",
       "      <td>5.0</td>\n",
       "      <td>5.0</td>\n",
       "      <td>NaN</td>\n",
       "      <td>5.0</td>\n",
       "      <td>5.0</td>\n",
       "      <td>NaN</td>\n",
       "      <td>NaN</td>\n",
       "      <td>NaN</td>\n",
       "      <td>NaN</td>\n",
       "      <td>NaN</td>\n",
       "      <td>...</td>\n",
       "      <td>NaN</td>\n",
       "      <td>NaN</td>\n",
       "      <td>NaN</td>\n",
       "      <td>NaN</td>\n",
       "      <td>NaN</td>\n",
       "      <td>NaN</td>\n",
       "      <td>NaN</td>\n",
       "      <td>NaN</td>\n",
       "      <td>NaN</td>\n",
       "      <td>NaN</td>\n",
       "    </tr>\n",
       "    <tr>\n",
       "      <th>5</th>\n",
       "      <td>5.0</td>\n",
       "      <td>NaN</td>\n",
       "      <td>NaN</td>\n",
       "      <td>NaN</td>\n",
       "      <td>NaN</td>\n",
       "      <td>NaN</td>\n",
       "      <td>NaN</td>\n",
       "      <td>NaN</td>\n",
       "      <td>5.0</td>\n",
       "      <td>NaN</td>\n",
       "      <td>...</td>\n",
       "      <td>NaN</td>\n",
       "      <td>NaN</td>\n",
       "      <td>NaN</td>\n",
       "      <td>NaN</td>\n",
       "      <td>3.0</td>\n",
       "      <td>NaN</td>\n",
       "      <td>3.0</td>\n",
       "      <td>2.0</td>\n",
       "      <td>5.0</td>\n",
       "      <td>5.0</td>\n",
       "    </tr>\n",
       "    <tr>\n",
       "      <th>6</th>\n",
       "      <td>5.0</td>\n",
       "      <td>5.0</td>\n",
       "      <td>NaN</td>\n",
       "      <td>NaN</td>\n",
       "      <td>NaN</td>\n",
       "      <td>NaN</td>\n",
       "      <td>NaN</td>\n",
       "      <td>NaN</td>\n",
       "      <td>NaN</td>\n",
       "      <td>NaN</td>\n",
       "      <td>...</td>\n",
       "      <td>NaN</td>\n",
       "      <td>NaN</td>\n",
       "      <td>NaN</td>\n",
       "      <td>NaN</td>\n",
       "      <td>NaN</td>\n",
       "      <td>NaN</td>\n",
       "      <td>2.0</td>\n",
       "      <td>5.0</td>\n",
       "      <td>4.0</td>\n",
       "      <td>3.0</td>\n",
       "    </tr>\n",
       "    <tr>\n",
       "      <th>7</th>\n",
       "      <td>5.0</td>\n",
       "      <td>NaN</td>\n",
       "      <td>NaN</td>\n",
       "      <td>2.0</td>\n",
       "      <td>NaN</td>\n",
       "      <td>NaN</td>\n",
       "      <td>NaN</td>\n",
       "      <td>NaN</td>\n",
       "      <td>NaN</td>\n",
       "      <td>NaN</td>\n",
       "      <td>...</td>\n",
       "      <td>NaN</td>\n",
       "      <td>NaN</td>\n",
       "      <td>NaN</td>\n",
       "      <td>NaN</td>\n",
       "      <td>NaN</td>\n",
       "      <td>NaN</td>\n",
       "      <td>NaN</td>\n",
       "      <td>NaN</td>\n",
       "      <td>NaN</td>\n",
       "      <td>4.0</td>\n",
       "    </tr>\n",
       "    <tr>\n",
       "      <th>8</th>\n",
       "      <td>4.0</td>\n",
       "      <td>NaN</td>\n",
       "      <td>5.0</td>\n",
       "      <td>NaN</td>\n",
       "      <td>NaN</td>\n",
       "      <td>NaN</td>\n",
       "      <td>NaN</td>\n",
       "      <td>NaN</td>\n",
       "      <td>NaN</td>\n",
       "      <td>5.0</td>\n",
       "      <td>...</td>\n",
       "      <td>NaN</td>\n",
       "      <td>NaN</td>\n",
       "      <td>5.0</td>\n",
       "      <td>5.0</td>\n",
       "      <td>NaN</td>\n",
       "      <td>NaN</td>\n",
       "      <td>NaN</td>\n",
       "      <td>NaN</td>\n",
       "      <td>NaN</td>\n",
       "      <td>NaN</td>\n",
       "    </tr>\n",
       "    <tr>\n",
       "      <th>9</th>\n",
       "      <td>5.0</td>\n",
       "      <td>NaN</td>\n",
       "      <td>5.0</td>\n",
       "      <td>NaN</td>\n",
       "      <td>NaN</td>\n",
       "      <td>NaN</td>\n",
       "      <td>NaN</td>\n",
       "      <td>NaN</td>\n",
       "      <td>NaN</td>\n",
       "      <td>NaN</td>\n",
       "      <td>...</td>\n",
       "      <td>NaN</td>\n",
       "      <td>NaN</td>\n",
       "      <td>NaN</td>\n",
       "      <td>5.0</td>\n",
       "      <td>4.0</td>\n",
       "      <td>NaN</td>\n",
       "      <td>NaN</td>\n",
       "      <td>NaN</td>\n",
       "      <td>NaN</td>\n",
       "      <td>NaN</td>\n",
       "    </tr>\n",
       "    <tr>\n",
       "      <th>10</th>\n",
       "      <td>4.0</td>\n",
       "      <td>NaN</td>\n",
       "      <td>4.0</td>\n",
       "      <td>NaN</td>\n",
       "      <td>NaN</td>\n",
       "      <td>NaN</td>\n",
       "      <td>NaN</td>\n",
       "      <td>4.0</td>\n",
       "      <td>NaN</td>\n",
       "      <td>NaN</td>\n",
       "      <td>...</td>\n",
       "      <td>NaN</td>\n",
       "      <td>NaN</td>\n",
       "      <td>NaN</td>\n",
       "      <td>NaN</td>\n",
       "      <td>5.0</td>\n",
       "      <td>NaN</td>\n",
       "      <td>NaN</td>\n",
       "      <td>NaN</td>\n",
       "      <td>NaN</td>\n",
       "      <td>NaN</td>\n",
       "    </tr>\n",
       "  </tbody>\n",
       "</table>\n",
       "<p>10 rows × 34 columns</p>\n",
       "</div>"
      ],
      "text/plain": [
       "         value                                            ...                 \\\n",
       "movie_id    1    2    3    4    5   6   7    8    9    10 ...   25   26   27   \n",
       "user_id                                                   ...                  \n",
       "1          4.0  NaN  NaN  NaN  NaN NaN NaN  NaN  4.0  NaN ...  NaN  4.0  NaN   \n",
       "2          5.0  5.0  NaN  NaN  NaN NaN NaN  NaN  NaN  NaN ...  NaN  NaN  NaN   \n",
       "3          4.0  4.0  5.0  NaN  NaN NaN NaN  NaN  NaN  NaN ...  NaN  NaN  NaN   \n",
       "4          5.0  5.0  NaN  5.0  5.0 NaN NaN  NaN  NaN  NaN ...  NaN  NaN  NaN   \n",
       "5          5.0  NaN  NaN  NaN  NaN NaN NaN  NaN  5.0  NaN ...  NaN  NaN  NaN   \n",
       "6          5.0  5.0  NaN  NaN  NaN NaN NaN  NaN  NaN  NaN ...  NaN  NaN  NaN   \n",
       "7          5.0  NaN  NaN  2.0  NaN NaN NaN  NaN  NaN  NaN ...  NaN  NaN  NaN   \n",
       "8          4.0  NaN  5.0  NaN  NaN NaN NaN  NaN  NaN  5.0 ...  NaN  NaN  5.0   \n",
       "9          5.0  NaN  5.0  NaN  NaN NaN NaN  NaN  NaN  NaN ...  NaN  NaN  NaN   \n",
       "10         4.0  NaN  4.0  NaN  NaN NaN NaN  4.0  NaN  NaN ...  NaN  NaN  NaN   \n",
       "\n",
       "                                            \n",
       "movie_id   28   29  30   31   32   33   34  \n",
       "user_id                                     \n",
       "1         4.0  NaN NaN  NaN  NaN  NaN  NaN  \n",
       "2         NaN  NaN NaN  3.0  NaN  NaN  4.0  \n",
       "3         NaN  NaN NaN  NaN  NaN  NaN  NaN  \n",
       "4         NaN  NaN NaN  NaN  NaN  NaN  NaN  \n",
       "5         NaN  3.0 NaN  3.0  2.0  5.0  5.0  \n",
       "6         NaN  NaN NaN  2.0  5.0  4.0  3.0  \n",
       "7         NaN  NaN NaN  NaN  NaN  NaN  4.0  \n",
       "8         5.0  NaN NaN  NaN  NaN  NaN  NaN  \n",
       "9         5.0  4.0 NaN  NaN  NaN  NaN  NaN  \n",
       "10        NaN  5.0 NaN  NaN  NaN  NaN  NaN  \n",
       "\n",
       "[10 rows x 34 columns]"
      ]
     },
     "execution_count": 16,
     "metadata": {},
     "output_type": "execute_result"
    }
   ],
   "source": [
    "ratings_df.head(10)"
   ]
  },
  {
   "cell_type": "code",
   "execution_count": 7,
   "metadata": {},
   "outputs": [],
   "source": [
    "import matrix_factorization_utilities"
   ]
  },
  {
   "cell_type": "markdown",
   "metadata": {},
   "source": [
    "## Decomposing the final prediction matrix into User and Movie Matrix\n",
    "Do not use SVD here to decompose the matrix into U & M, since the matrix is too sparse.\n",
    "Hence we use an iterative algorithm,which can be easily implemented by the following function implementation.\n",
    "In this randomize the U & M matrix and then find the cost if this U & M matrix would have been multiplied to \n",
    "generate the prediction matrix that we already have i.e ratings_df as shown above."
   ]
  },
  {
   "cell_type": "code",
   "execution_count": 8,
   "metadata": {},
   "outputs": [
    {
     "name": "stderr",
     "output_type": "stream",
     "text": [
      "/home/ayush/anaconda3/lib/python3.6/site-packages/ipykernel_launcher.py:1: FutureWarning: Method .as_matrix will be removed in a future version. Use .values instead.\n",
      "  \"\"\"Entry point for launching an IPython kernel.\n"
     ]
    },
    {
     "name": "stdout",
     "output_type": "stream",
     "text": [
      "Warning: Maximum number of iterations has been exceeded.\n",
      "         Current function value: 32.504356\n",
      "         Iterations: 3000\n",
      "         Function evaluations: 4451\n",
      "         Gradient evaluations: 4451\n"
     ]
    }
   ],
   "source": [
    "U,M= matrix_factorization_utilities.low_rank_matrix_factorization(ratings_df.as_matrix(),num_features=15, regularization_amount=0.1)"
   ]
  },
  {
   "cell_type": "code",
   "execution_count": 9,
   "metadata": {},
   "outputs": [],
   "source": [
    "predicted_ratings=np.matmul(U ,M)"
   ]
  },
  {
   "cell_type": "code",
   "execution_count": 12,
   "metadata": {},
   "outputs": [
    {
     "data": {
      "text/plain": [
       "array([[4.00323662, 3.92104262, 4.15563388, 3.52782373, 3.92025904,\n",
       "        4.14219913, 2.65573097, 4.06580584, 4.01044775, 3.80475851,\n",
       "        3.53593204, 3.5608204 , 4.96007835, 3.99934811, 3.26586951,\n",
       "        3.88543904, 2.39561015, 3.15737814, 4.12556789, 3.40805724,\n",
       "        4.01187062, 3.60848854, 3.48172569, 3.79830866, 3.79696101,\n",
       "        3.98455635, 3.3296513 , 3.99053474, 3.4575321 , 3.11174367,\n",
       "        2.72509167, 3.35988971, 3.03786988, 4.57353097],\n",
       "       [4.97069119, 4.96796807, 4.44503854, 3.9040812 , 4.83099633,\n",
       "        4.70677499, 3.39453227, 4.69886383, 4.53083461, 4.83713713,\n",
       "        3.96356758, 4.06507065, 4.77803396, 4.01290325, 3.99850862,\n",
       "        4.21782186, 2.52965485, 3.54291421, 4.19974558, 4.39910046,\n",
       "        4.9939367 , 4.57382853, 3.82207034, 4.73219429, 4.31473477,\n",
       "        4.49419071, 4.41444106, 4.16247185, 3.46145841, 4.38832835,\n",
       "        2.99430967, 4.34723503, 4.01331871, 3.99940781]])"
      ]
     },
     "execution_count": 12,
     "metadata": {},
     "output_type": "execute_result"
    }
   ],
   "source": [
    "predicted_ratings[:2]"
   ]
  },
  {
   "cell_type": "code",
   "execution_count": 13,
   "metadata": {},
   "outputs": [],
   "source": [
    "predicted_ratings_df=pd.DataFrame(data=predicted_ratings,index=ratings_df.index,columns=ratings_df.columns)"
   ]
  },
  {
   "cell_type": "code",
   "execution_count": 14,
   "metadata": {},
   "outputs": [
    {
     "data": {
      "text/html": [
       "<div>\n",
       "<style scoped>\n",
       "    .dataframe tbody tr th:only-of-type {\n",
       "        vertical-align: middle;\n",
       "    }\n",
       "\n",
       "    .dataframe tbody tr th {\n",
       "        vertical-align: top;\n",
       "    }\n",
       "\n",
       "    .dataframe thead tr th {\n",
       "        text-align: left;\n",
       "    }\n",
       "\n",
       "    .dataframe thead tr:last-of-type th {\n",
       "        text-align: right;\n",
       "    }\n",
       "</style>\n",
       "<table border=\"1\" class=\"dataframe\">\n",
       "  <thead>\n",
       "    <tr>\n",
       "      <th></th>\n",
       "      <th colspan=\"21\" halign=\"left\">value</th>\n",
       "    </tr>\n",
       "    <tr>\n",
       "      <th>movie_id</th>\n",
       "      <th>1</th>\n",
       "      <th>2</th>\n",
       "      <th>3</th>\n",
       "      <th>4</th>\n",
       "      <th>5</th>\n",
       "      <th>6</th>\n",
       "      <th>7</th>\n",
       "      <th>8</th>\n",
       "      <th>9</th>\n",
       "      <th>10</th>\n",
       "      <th>...</th>\n",
       "      <th>25</th>\n",
       "      <th>26</th>\n",
       "      <th>27</th>\n",
       "      <th>28</th>\n",
       "      <th>29</th>\n",
       "      <th>30</th>\n",
       "      <th>31</th>\n",
       "      <th>32</th>\n",
       "      <th>33</th>\n",
       "      <th>34</th>\n",
       "    </tr>\n",
       "    <tr>\n",
       "      <th>user_id</th>\n",
       "      <th></th>\n",
       "      <th></th>\n",
       "      <th></th>\n",
       "      <th></th>\n",
       "      <th></th>\n",
       "      <th></th>\n",
       "      <th></th>\n",
       "      <th></th>\n",
       "      <th></th>\n",
       "      <th></th>\n",
       "      <th></th>\n",
       "      <th></th>\n",
       "      <th></th>\n",
       "      <th></th>\n",
       "      <th></th>\n",
       "      <th></th>\n",
       "      <th></th>\n",
       "      <th></th>\n",
       "      <th></th>\n",
       "      <th></th>\n",
       "      <th></th>\n",
       "    </tr>\n",
       "  </thead>\n",
       "  <tbody>\n",
       "    <tr>\n",
       "      <th>1</th>\n",
       "      <td>4.003237</td>\n",
       "      <td>3.921043</td>\n",
       "      <td>4.155634</td>\n",
       "      <td>3.527824</td>\n",
       "      <td>3.920259</td>\n",
       "      <td>4.142199</td>\n",
       "      <td>2.655731</td>\n",
       "      <td>4.065806</td>\n",
       "      <td>4.010448</td>\n",
       "      <td>3.804759</td>\n",
       "      <td>...</td>\n",
       "      <td>3.796961</td>\n",
       "      <td>3.984556</td>\n",
       "      <td>3.329651</td>\n",
       "      <td>3.990535</td>\n",
       "      <td>3.457532</td>\n",
       "      <td>3.111744</td>\n",
       "      <td>2.725092</td>\n",
       "      <td>3.359890</td>\n",
       "      <td>3.037870</td>\n",
       "      <td>4.573531</td>\n",
       "    </tr>\n",
       "    <tr>\n",
       "      <th>2</th>\n",
       "      <td>4.970691</td>\n",
       "      <td>4.967968</td>\n",
       "      <td>4.445039</td>\n",
       "      <td>3.904081</td>\n",
       "      <td>4.830996</td>\n",
       "      <td>4.706775</td>\n",
       "      <td>3.394532</td>\n",
       "      <td>4.698864</td>\n",
       "      <td>4.530835</td>\n",
       "      <td>4.837137</td>\n",
       "      <td>...</td>\n",
       "      <td>4.314735</td>\n",
       "      <td>4.494191</td>\n",
       "      <td>4.414441</td>\n",
       "      <td>4.162472</td>\n",
       "      <td>3.461458</td>\n",
       "      <td>4.388328</td>\n",
       "      <td>2.994310</td>\n",
       "      <td>4.347235</td>\n",
       "      <td>4.013319</td>\n",
       "      <td>3.999408</td>\n",
       "    </tr>\n",
       "    <tr>\n",
       "      <th>3</th>\n",
       "      <td>4.017224</td>\n",
       "      <td>3.985712</td>\n",
       "      <td>4.955690</td>\n",
       "      <td>4.088505</td>\n",
       "      <td>4.529069</td>\n",
       "      <td>4.271091</td>\n",
       "      <td>2.818734</td>\n",
       "      <td>4.337572</td>\n",
       "      <td>4.491458</td>\n",
       "      <td>4.367531</td>\n",
       "      <td>...</td>\n",
       "      <td>4.079995</td>\n",
       "      <td>4.316607</td>\n",
       "      <td>3.878744</td>\n",
       "      <td>4.474893</td>\n",
       "      <td>3.205670</td>\n",
       "      <td>3.241080</td>\n",
       "      <td>2.235999</td>\n",
       "      <td>2.594690</td>\n",
       "      <td>3.442448</td>\n",
       "      <td>4.602355</td>\n",
       "    </tr>\n",
       "    <tr>\n",
       "      <th>4</th>\n",
       "      <td>4.991067</td>\n",
       "      <td>4.987241</td>\n",
       "      <td>4.928631</td>\n",
       "      <td>4.961948</td>\n",
       "      <td>5.010589</td>\n",
       "      <td>4.961787</td>\n",
       "      <td>3.945088</td>\n",
       "      <td>5.075985</td>\n",
       "      <td>4.951430</td>\n",
       "      <td>5.017262</td>\n",
       "      <td>...</td>\n",
       "      <td>4.062884</td>\n",
       "      <td>4.741804</td>\n",
       "      <td>4.502675</td>\n",
       "      <td>4.906579</td>\n",
       "      <td>3.116583</td>\n",
       "      <td>3.413015</td>\n",
       "      <td>2.009426</td>\n",
       "      <td>4.223589</td>\n",
       "      <td>4.170307</td>\n",
       "      <td>4.644414</td>\n",
       "    </tr>\n",
       "    <tr>\n",
       "      <th>5</th>\n",
       "      <td>4.980639</td>\n",
       "      <td>4.240250</td>\n",
       "      <td>5.459805</td>\n",
       "      <td>4.372391</td>\n",
       "      <td>5.161551</td>\n",
       "      <td>4.556619</td>\n",
       "      <td>3.146865</td>\n",
       "      <td>4.639152</td>\n",
       "      <td>4.982049</td>\n",
       "      <td>4.918003</td>\n",
       "      <td>...</td>\n",
       "      <td>4.509593</td>\n",
       "      <td>4.723648</td>\n",
       "      <td>3.738377</td>\n",
       "      <td>5.070483</td>\n",
       "      <td>3.017240</td>\n",
       "      <td>3.611853</td>\n",
       "      <td>2.996262</td>\n",
       "      <td>2.031797</td>\n",
       "      <td>4.980758</td>\n",
       "      <td>4.987315</td>\n",
       "    </tr>\n",
       "    <tr>\n",
       "      <th>6</th>\n",
       "      <td>4.970687</td>\n",
       "      <td>4.964521</td>\n",
       "      <td>4.167467</td>\n",
       "      <td>3.876496</td>\n",
       "      <td>4.507341</td>\n",
       "      <td>4.541916</td>\n",
       "      <td>3.556757</td>\n",
       "      <td>4.707428</td>\n",
       "      <td>4.286035</td>\n",
       "      <td>4.623628</td>\n",
       "      <td>...</td>\n",
       "      <td>4.017686</td>\n",
       "      <td>4.217825</td>\n",
       "      <td>4.734133</td>\n",
       "      <td>3.836264</td>\n",
       "      <td>3.474632</td>\n",
       "      <td>3.810260</td>\n",
       "      <td>2.010721</td>\n",
       "      <td>4.979284</td>\n",
       "      <td>4.001678</td>\n",
       "      <td>3.016651</td>\n",
       "    </tr>\n",
       "    <tr>\n",
       "      <th>7</th>\n",
       "      <td>4.978867</td>\n",
       "      <td>4.184221</td>\n",
       "      <td>4.220230</td>\n",
       "      <td>2.041102</td>\n",
       "      <td>4.145081</td>\n",
       "      <td>4.237771</td>\n",
       "      <td>2.827231</td>\n",
       "      <td>4.040972</td>\n",
       "      <td>4.000473</td>\n",
       "      <td>4.115017</td>\n",
       "      <td>...</td>\n",
       "      <td>4.548218</td>\n",
       "      <td>3.988066</td>\n",
       "      <td>3.797987</td>\n",
       "      <td>3.666256</td>\n",
       "      <td>5.166064</td>\n",
       "      <td>4.449343</td>\n",
       "      <td>4.278607</td>\n",
       "      <td>4.519862</td>\n",
       "      <td>4.582051</td>\n",
       "      <td>4.002961</td>\n",
       "    </tr>\n",
       "    <tr>\n",
       "      <th>8</th>\n",
       "      <td>4.033159</td>\n",
       "      <td>4.610126</td>\n",
       "      <td>4.988350</td>\n",
       "      <td>4.092991</td>\n",
       "      <td>4.812459</td>\n",
       "      <td>4.380045</td>\n",
       "      <td>3.455243</td>\n",
       "      <td>4.456625</td>\n",
       "      <td>4.892289</td>\n",
       "      <td>5.002080</td>\n",
       "      <td>...</td>\n",
       "      <td>4.267237</td>\n",
       "      <td>4.697232</td>\n",
       "      <td>4.961235</td>\n",
       "      <td>4.964619</td>\n",
       "      <td>3.399973</td>\n",
       "      <td>3.471287</td>\n",
       "      <td>2.099025</td>\n",
       "      <td>3.152368</td>\n",
       "      <td>3.793989</td>\n",
       "      <td>4.453268</td>\n",
       "    </tr>\n",
       "    <tr>\n",
       "      <th>9</th>\n",
       "      <td>4.985846</td>\n",
       "      <td>4.639419</td>\n",
       "      <td>4.999145</td>\n",
       "      <td>4.143679</td>\n",
       "      <td>4.872684</td>\n",
       "      <td>4.668315</td>\n",
       "      <td>3.408344</td>\n",
       "      <td>4.796900</td>\n",
       "      <td>4.768782</td>\n",
       "      <td>4.763807</td>\n",
       "      <td>...</td>\n",
       "      <td>4.421358</td>\n",
       "      <td>4.743488</td>\n",
       "      <td>4.053985</td>\n",
       "      <td>4.974988</td>\n",
       "      <td>3.998280</td>\n",
       "      <td>3.444981</td>\n",
       "      <td>2.611287</td>\n",
       "      <td>3.732533</td>\n",
       "      <td>4.461201</td>\n",
       "      <td>4.888791</td>\n",
       "    </tr>\n",
       "    <tr>\n",
       "      <th>10</th>\n",
       "      <td>4.009622</td>\n",
       "      <td>3.985667</td>\n",
       "      <td>4.000591</td>\n",
       "      <td>2.525179</td>\n",
       "      <td>3.924276</td>\n",
       "      <td>4.250625</td>\n",
       "      <td>2.778123</td>\n",
       "      <td>4.018306</td>\n",
       "      <td>4.007196</td>\n",
       "      <td>3.902716</td>\n",
       "      <td>...</td>\n",
       "      <td>3.646314</td>\n",
       "      <td>3.572015</td>\n",
       "      <td>3.898605</td>\n",
       "      <td>3.205559</td>\n",
       "      <td>4.997885</td>\n",
       "      <td>5.332185</td>\n",
       "      <td>2.966323</td>\n",
       "      <td>4.665901</td>\n",
       "      <td>3.298289</td>\n",
       "      <td>4.024097</td>\n",
       "    </tr>\n",
       "  </tbody>\n",
       "</table>\n",
       "<p>10 rows × 34 columns</p>\n",
       "</div>"
      ],
      "text/plain": [
       "             value                                                    \\\n",
       "movie_id        1         2         3         4         5         6    \n",
       "user_id                                                                \n",
       "1         4.003237  3.921043  4.155634  3.527824  3.920259  4.142199   \n",
       "2         4.970691  4.967968  4.445039  3.904081  4.830996  4.706775   \n",
       "3         4.017224  3.985712  4.955690  4.088505  4.529069  4.271091   \n",
       "4         4.991067  4.987241  4.928631  4.961948  5.010589  4.961787   \n",
       "5         4.980639  4.240250  5.459805  4.372391  5.161551  4.556619   \n",
       "6         4.970687  4.964521  4.167467  3.876496  4.507341  4.541916   \n",
       "7         4.978867  4.184221  4.220230  2.041102  4.145081  4.237771   \n",
       "8         4.033159  4.610126  4.988350  4.092991  4.812459  4.380045   \n",
       "9         4.985846  4.639419  4.999145  4.143679  4.872684  4.668315   \n",
       "10        4.009622  3.985667  4.000591  2.525179  3.924276  4.250625   \n",
       "\n",
       "                                                    ...               \\\n",
       "movie_id        7         8         9         10    ...           25   \n",
       "user_id                                             ...                \n",
       "1         2.655731  4.065806  4.010448  3.804759    ...     3.796961   \n",
       "2         3.394532  4.698864  4.530835  4.837137    ...     4.314735   \n",
       "3         2.818734  4.337572  4.491458  4.367531    ...     4.079995   \n",
       "4         3.945088  5.075985  4.951430  5.017262    ...     4.062884   \n",
       "5         3.146865  4.639152  4.982049  4.918003    ...     4.509593   \n",
       "6         3.556757  4.707428  4.286035  4.623628    ...     4.017686   \n",
       "7         2.827231  4.040972  4.000473  4.115017    ...     4.548218   \n",
       "8         3.455243  4.456625  4.892289  5.002080    ...     4.267237   \n",
       "9         3.408344  4.796900  4.768782  4.763807    ...     4.421358   \n",
       "10        2.778123  4.018306  4.007196  3.902716    ...     3.646314   \n",
       "\n",
       "                                                                      \\\n",
       "movie_id        26        27        28        29        30        31   \n",
       "user_id                                                                \n",
       "1         3.984556  3.329651  3.990535  3.457532  3.111744  2.725092   \n",
       "2         4.494191  4.414441  4.162472  3.461458  4.388328  2.994310   \n",
       "3         4.316607  3.878744  4.474893  3.205670  3.241080  2.235999   \n",
       "4         4.741804  4.502675  4.906579  3.116583  3.413015  2.009426   \n",
       "5         4.723648  3.738377  5.070483  3.017240  3.611853  2.996262   \n",
       "6         4.217825  4.734133  3.836264  3.474632  3.810260  2.010721   \n",
       "7         3.988066  3.797987  3.666256  5.166064  4.449343  4.278607   \n",
       "8         4.697232  4.961235  4.964619  3.399973  3.471287  2.099025   \n",
       "9         4.743488  4.053985  4.974988  3.998280  3.444981  2.611287   \n",
       "10        3.572015  3.898605  3.205559  4.997885  5.332185  2.966323   \n",
       "\n",
       "                                        \n",
       "movie_id        32        33        34  \n",
       "user_id                                 \n",
       "1         3.359890  3.037870  4.573531  \n",
       "2         4.347235  4.013319  3.999408  \n",
       "3         2.594690  3.442448  4.602355  \n",
       "4         4.223589  4.170307  4.644414  \n",
       "5         2.031797  4.980758  4.987315  \n",
       "6         4.979284  4.001678  3.016651  \n",
       "7         4.519862  4.582051  4.002961  \n",
       "8         3.152368  3.793989  4.453268  \n",
       "9         3.732533  4.461201  4.888791  \n",
       "10        4.665901  3.298289  4.024097  \n",
       "\n",
       "[10 rows x 34 columns]"
      ]
     },
     "execution_count": 14,
     "metadata": {},
     "output_type": "execute_result"
    }
   ],
   "source": [
    "predicted_ratings_df.head(10)"
   ]
  },
  {
   "cell_type": "markdown",
   "metadata": {},
   "source": [
    "## If the user is new and have not given any recommendations yet, we can show him products using 3 types:"
   ]
  },
  {
   "cell_type": "markdown",
   "metadata": {},
   "source": [
    "1.Dont show any recommendation\n",
    "2.Show the most similar product to what the user is seeing right now\n",
    "3.Use the average ratings of the product we already have to show him the product with the highest avg rating"
   ]
  },
  {
   "cell_type": "markdown",
   "metadata": {},
   "source": [
    "## Similar Products"
   ]
  },
  {
   "cell_type": "code",
   "execution_count": 17,
   "metadata": {},
   "outputs": [
    {
     "name": "stdout",
     "output_type": "stream",
     "text": [
      "(15, 34)\n",
      "(100, 15)\n"
     ]
    }
   ],
   "source": [
    "print(M.shape)\n",
    "print (U.shape)"
   ]
  },
  {
   "cell_type": "code",
   "execution_count": 18,
   "metadata": {},
   "outputs": [],
   "source": [
    "M=np.transpose(M)"
   ]
  },
  {
   "cell_type": "code",
   "execution_count": 19,
   "metadata": {},
   "outputs": [],
   "source": [
    "## Choose a movie to find similar movies to. Let's find movies similar to movie #5:\n",
    "movie_id = 5"
   ]
  },
  {
   "cell_type": "code",
   "execution_count": 23,
   "metadata": {},
   "outputs": [
    {
     "data": {
      "text/plain": [
       "(15,)"
      ]
     },
     "execution_count": 23,
     "metadata": {},
     "output_type": "execute_result"
    }
   ],
   "source": [
    "M[0].shape"
   ]
  },
  {
   "cell_type": "code",
   "execution_count": 24,
   "metadata": {},
   "outputs": [],
   "source": [
    "movies_df=pd.read_csv('movies.csv',index_col='movie_id')"
   ]
  },
  {
   "cell_type": "code",
   "execution_count": 25,
   "metadata": {},
   "outputs": [
    {
     "data": {
      "text/html": [
       "<div>\n",
       "<style scoped>\n",
       "    .dataframe tbody tr th:only-of-type {\n",
       "        vertical-align: middle;\n",
       "    }\n",
       "\n",
       "    .dataframe tbody tr th {\n",
       "        vertical-align: top;\n",
       "    }\n",
       "\n",
       "    .dataframe thead th {\n",
       "        text-align: right;\n",
       "    }\n",
       "</style>\n",
       "<table border=\"1\" class=\"dataframe\">\n",
       "  <thead>\n",
       "    <tr style=\"text-align: right;\">\n",
       "      <th></th>\n",
       "      <th>title</th>\n",
       "      <th>genre</th>\n",
       "    </tr>\n",
       "    <tr>\n",
       "      <th>movie_id</th>\n",
       "      <th></th>\n",
       "      <th></th>\n",
       "    </tr>\n",
       "  </thead>\n",
       "  <tbody>\n",
       "    <tr>\n",
       "      <th>1</th>\n",
       "      <td>The Sheriff 1</td>\n",
       "      <td>crime drama, western</td>\n",
       "    </tr>\n",
       "    <tr>\n",
       "      <th>2</th>\n",
       "      <td>The Big City Judge 1</td>\n",
       "      <td>legal drama</td>\n",
       "    </tr>\n",
       "    <tr>\n",
       "      <th>3</th>\n",
       "      <td>The Sheriff 2</td>\n",
       "      <td>crime drama, western</td>\n",
       "    </tr>\n",
       "    <tr>\n",
       "      <th>4</th>\n",
       "      <td>Just a Regular Family</td>\n",
       "      <td>reality</td>\n",
       "    </tr>\n",
       "    <tr>\n",
       "      <th>5</th>\n",
       "      <td>The Big City Judge 2</td>\n",
       "      <td>legal drama</td>\n",
       "    </tr>\n",
       "  </tbody>\n",
       "</table>\n",
       "</div>"
      ],
      "text/plain": [
       "                          title                 genre\n",
       "movie_id                                             \n",
       "1                 The Sheriff 1  crime drama, western\n",
       "2          The Big City Judge 1           legal drama\n",
       "3                 The Sheriff 2  crime drama, western\n",
       "4         Just a Regular Family               reality\n",
       "5          The Big City Judge 2           legal drama"
      ]
     },
     "execution_count": 25,
     "metadata": {},
     "output_type": "execute_result"
    }
   ],
   "source": [
    "movies_df.head()"
   ]
  },
  {
   "cell_type": "code",
   "execution_count": 28,
   "metadata": {},
   "outputs": [
    {
     "data": {
      "text/plain": [
       "title    The Big City Judge 2\n",
       "genre             legal drama\n",
       "Name: 5, dtype: object"
      ]
     },
     "execution_count": 28,
     "metadata": {},
     "output_type": "execute_result"
    }
   ],
   "source": [
    "#movie_info=movies_df.iloc[4,:]\n",
    "movie_info=movies_df.loc[movie_id]\n",
    "movie_info"
   ]
  },
  {
   "cell_type": "code",
   "execution_count": 29,
   "metadata": {},
   "outputs": [],
   "source": [
    "current_movie_features=M[movie_id-1]"
   ]
  },
  {
   "cell_type": "code",
   "execution_count": 30,
   "metadata": {},
   "outputs": [],
   "source": [
    "difference=M-current_movie_features"
   ]
  },
  {
   "cell_type": "code",
   "execution_count": 31,
   "metadata": {},
   "outputs": [],
   "source": [
    "absolute_difference=np.abs(difference)"
   ]
  },
  {
   "cell_type": "code",
   "execution_count": 32,
   "metadata": {},
   "outputs": [],
   "source": [
    "total_difference=np.sum(absolute_difference, axis=1)"
   ]
  },
  {
   "cell_type": "code",
   "execution_count": 34,
   "metadata": {},
   "outputs": [
    {
     "data": {
      "text/plain": [
       "(34,)"
      ]
     },
     "execution_count": 34,
     "metadata": {},
     "output_type": "execute_result"
    }
   ],
   "source": [
    "total_difference.shape"
   ]
  },
  {
   "cell_type": "code",
   "execution_count": 35,
   "metadata": {},
   "outputs": [
    {
     "data": {
      "text/plain": [
       "4.553066191450949"
      ]
     },
     "execution_count": 35,
     "metadata": {},
     "output_type": "execute_result"
    }
   ],
   "source": [
    "total_difference[0]"
   ]
  },
  {
   "cell_type": "code",
   "execution_count": 36,
   "metadata": {},
   "outputs": [],
   "source": [
    "movies_df['difference_score']=total_difference"
   ]
  },
  {
   "cell_type": "code",
   "execution_count": 37,
   "metadata": {},
   "outputs": [
    {
     "data": {
      "text/html": [
       "<div>\n",
       "<style scoped>\n",
       "    .dataframe tbody tr th:only-of-type {\n",
       "        vertical-align: middle;\n",
       "    }\n",
       "\n",
       "    .dataframe tbody tr th {\n",
       "        vertical-align: top;\n",
       "    }\n",
       "\n",
       "    .dataframe thead th {\n",
       "        text-align: right;\n",
       "    }\n",
       "</style>\n",
       "<table border=\"1\" class=\"dataframe\">\n",
       "  <thead>\n",
       "    <tr style=\"text-align: right;\">\n",
       "      <th></th>\n",
       "      <th>title</th>\n",
       "      <th>genre</th>\n",
       "      <th>difference_score</th>\n",
       "    </tr>\n",
       "    <tr>\n",
       "      <th>movie_id</th>\n",
       "      <th></th>\n",
       "      <th></th>\n",
       "      <th></th>\n",
       "    </tr>\n",
       "  </thead>\n",
       "  <tbody>\n",
       "    <tr>\n",
       "      <th>1</th>\n",
       "      <td>The Sheriff 1</td>\n",
       "      <td>crime drama, western</td>\n",
       "      <td>4.553066</td>\n",
       "    </tr>\n",
       "    <tr>\n",
       "      <th>2</th>\n",
       "      <td>The Big City Judge 1</td>\n",
       "      <td>legal drama</td>\n",
       "      <td>5.101510</td>\n",
       "    </tr>\n",
       "    <tr>\n",
       "      <th>3</th>\n",
       "      <td>The Sheriff 2</td>\n",
       "      <td>crime drama, western</td>\n",
       "      <td>4.038071</td>\n",
       "    </tr>\n",
       "    <tr>\n",
       "      <th>4</th>\n",
       "      <td>Just a Regular Family</td>\n",
       "      <td>reality</td>\n",
       "      <td>5.468456</td>\n",
       "    </tr>\n",
       "    <tr>\n",
       "      <th>5</th>\n",
       "      <td>The Big City Judge 2</td>\n",
       "      <td>legal drama</td>\n",
       "      <td>0.000000</td>\n",
       "    </tr>\n",
       "    <tr>\n",
       "      <th>6</th>\n",
       "      <td>Attack on Earth 1</td>\n",
       "      <td>sci-fi, action</td>\n",
       "      <td>4.147495</td>\n",
       "    </tr>\n",
       "    <tr>\n",
       "      <th>7</th>\n",
       "      <td>The Secret Box</td>\n",
       "      <td>sci-fi, mystery, fantasy</td>\n",
       "      <td>6.706390</td>\n",
       "    </tr>\n",
       "    <tr>\n",
       "      <th>8</th>\n",
       "      <td>Sci-Fi Murder Detectives</td>\n",
       "      <td>supernatural, mystery</td>\n",
       "      <td>3.502227</td>\n",
       "    </tr>\n",
       "    <tr>\n",
       "      <th>9</th>\n",
       "      <td>Biker Gangs</td>\n",
       "      <td>crime drama, action</td>\n",
       "      <td>3.521571</td>\n",
       "    </tr>\n",
       "    <tr>\n",
       "      <th>10</th>\n",
       "      <td>Surrounded by Zombies 1</td>\n",
       "      <td>horror, zombie fiction</td>\n",
       "      <td>2.775105</td>\n",
       "    </tr>\n",
       "  </tbody>\n",
       "</table>\n",
       "</div>"
      ],
      "text/plain": [
       "                             title                     genre  difference_score\n",
       "movie_id                                                                      \n",
       "1                    The Sheriff 1      crime drama, western          4.553066\n",
       "2             The Big City Judge 1               legal drama          5.101510\n",
       "3                    The Sheriff 2      crime drama, western          4.038071\n",
       "4            Just a Regular Family                   reality          5.468456\n",
       "5             The Big City Judge 2               legal drama          0.000000\n",
       "6                Attack on Earth 1            sci-fi, action          4.147495\n",
       "7                   The Secret Box  sci-fi, mystery, fantasy          6.706390\n",
       "8         Sci-Fi Murder Detectives     supernatural, mystery          3.502227\n",
       "9                      Biker Gangs       crime drama, action          3.521571\n",
       "10         Surrounded by Zombies 1    horror, zombie fiction          2.775105"
      ]
     },
     "execution_count": 37,
     "metadata": {},
     "output_type": "execute_result"
    }
   ],
   "source": [
    "movies_df.head(10)"
   ]
  },
  {
   "cell_type": "code",
   "execution_count": 38,
   "metadata": {},
   "outputs": [],
   "source": [
    "sorted_movie_list=movies_df.sort_values('difference_score')"
   ]
  },
  {
   "cell_type": "code",
   "execution_count": 39,
   "metadata": {},
   "outputs": [],
   "source": [
    "#Five most similar movies"
   ]
  },
  {
   "cell_type": "code",
   "execution_count": 40,
   "metadata": {},
   "outputs": [
    {
     "data": {
      "text/html": [
       "<div>\n",
       "<style scoped>\n",
       "    .dataframe tbody tr th:only-of-type {\n",
       "        vertical-align: middle;\n",
       "    }\n",
       "\n",
       "    .dataframe tbody tr th {\n",
       "        vertical-align: top;\n",
       "    }\n",
       "\n",
       "    .dataframe thead th {\n",
       "        text-align: right;\n",
       "    }\n",
       "</style>\n",
       "<table border=\"1\" class=\"dataframe\">\n",
       "  <thead>\n",
       "    <tr style=\"text-align: right;\">\n",
       "      <th></th>\n",
       "      <th>title</th>\n",
       "      <th>genre</th>\n",
       "      <th>difference_score</th>\n",
       "    </tr>\n",
       "    <tr>\n",
       "      <th>movie_id</th>\n",
       "      <th></th>\n",
       "      <th></th>\n",
       "      <th></th>\n",
       "    </tr>\n",
       "  </thead>\n",
       "  <tbody>\n",
       "    <tr>\n",
       "      <th>5</th>\n",
       "      <td>The Big City Judge 2</td>\n",
       "      <td>legal drama</td>\n",
       "      <td>0.000000</td>\n",
       "    </tr>\n",
       "    <tr>\n",
       "      <th>10</th>\n",
       "      <td>Surrounded by Zombies 1</td>\n",
       "      <td>horror, zombie fiction</td>\n",
       "      <td>2.775105</td>\n",
       "    </tr>\n",
       "    <tr>\n",
       "      <th>8</th>\n",
       "      <td>Sci-Fi Murder Detectives</td>\n",
       "      <td>supernatural, mystery</td>\n",
       "      <td>3.502227</td>\n",
       "    </tr>\n",
       "    <tr>\n",
       "      <th>9</th>\n",
       "      <td>Biker Gangs</td>\n",
       "      <td>crime drama, action</td>\n",
       "      <td>3.521571</td>\n",
       "    </tr>\n",
       "    <tr>\n",
       "      <th>3</th>\n",
       "      <td>The Sheriff 2</td>\n",
       "      <td>crime drama, western</td>\n",
       "      <td>4.038071</td>\n",
       "    </tr>\n",
       "  </tbody>\n",
       "</table>\n",
       "</div>"
      ],
      "text/plain": [
       "                             title                   genre  difference_score\n",
       "movie_id                                                                    \n",
       "5             The Big City Judge 2             legal drama          0.000000\n",
       "10         Surrounded by Zombies 1  horror, zombie fiction          2.775105\n",
       "8         Sci-Fi Murder Detectives   supernatural, mystery          3.502227\n",
       "9                      Biker Gangs     crime drama, action          3.521571\n",
       "3                    The Sheriff 2    crime drama, western          4.038071"
      ]
     },
     "execution_count": 40,
     "metadata": {},
     "output_type": "execute_result"
    }
   ],
   "source": [
    "sorted_movie_list.iloc[:5,]"
   ]
  },
  {
   "cell_type": "markdown",
   "metadata": {},
   "source": [
    "## Making recommendations"
   ]
  },
  {
   "cell_type": "code",
   "execution_count": 41,
   "metadata": {},
   "outputs": [
    {
     "name": "stdout",
     "output_type": "stream",
     "text": [
      "10\n"
     ]
    }
   ],
   "source": [
    "#Enter a user id to get recommendations\n",
    "user_id_to_search=int(input())"
   ]
  },
  {
   "cell_type": "code",
   "execution_count": 42,
   "metadata": {},
   "outputs": [],
   "source": [
    "#movies previously reviewed by the user\n",
    "#so that we don't recommend the same movie back\n",
    "reviewd_movies_df=df[df['user_id']==user_id_to_search]"
   ]
  },
  {
   "cell_type": "code",
   "execution_count": 43,
   "metadata": {},
   "outputs": [
    {
     "data": {
      "text/html": [
       "<div>\n",
       "<style scoped>\n",
       "    .dataframe tbody tr th:only-of-type {\n",
       "        vertical-align: middle;\n",
       "    }\n",
       "\n",
       "    .dataframe tbody tr th {\n",
       "        vertical-align: top;\n",
       "    }\n",
       "\n",
       "    .dataframe thead th {\n",
       "        text-align: right;\n",
       "    }\n",
       "</style>\n",
       "<table border=\"1\" class=\"dataframe\">\n",
       "  <thead>\n",
       "    <tr style=\"text-align: right;\">\n",
       "      <th></th>\n",
       "      <th>user_id</th>\n",
       "      <th>movie_id</th>\n",
       "      <th>value</th>\n",
       "    </tr>\n",
       "  </thead>\n",
       "  <tbody>\n",
       "    <tr>\n",
       "      <th>61</th>\n",
       "      <td>10</td>\n",
       "      <td>8</td>\n",
       "      <td>4</td>\n",
       "    </tr>\n",
       "    <tr>\n",
       "      <th>62</th>\n",
       "      <td>10</td>\n",
       "      <td>29</td>\n",
       "      <td>5</td>\n",
       "    </tr>\n",
       "    <tr>\n",
       "      <th>63</th>\n",
       "      <td>10</td>\n",
       "      <td>23</td>\n",
       "      <td>5</td>\n",
       "    </tr>\n",
       "    <tr>\n",
       "      <th>64</th>\n",
       "      <td>10</td>\n",
       "      <td>3</td>\n",
       "      <td>4</td>\n",
       "    </tr>\n",
       "    <tr>\n",
       "      <th>65</th>\n",
       "      <td>10</td>\n",
       "      <td>1</td>\n",
       "      <td>4</td>\n",
       "    </tr>\n",
       "    <tr>\n",
       "      <th>66</th>\n",
       "      <td>10</td>\n",
       "      <td>15</td>\n",
       "      <td>5</td>\n",
       "    </tr>\n",
       "    <tr>\n",
       "      <th>67</th>\n",
       "      <td>10</td>\n",
       "      <td>22</td>\n",
       "      <td>4</td>\n",
       "    </tr>\n",
       "    <tr>\n",
       "      <th>68</th>\n",
       "      <td>10</td>\n",
       "      <td>13</td>\n",
       "      <td>5</td>\n",
       "    </tr>\n",
       "  </tbody>\n",
       "</table>\n",
       "</div>"
      ],
      "text/plain": [
       "    user_id  movie_id  value\n",
       "61       10         8      4\n",
       "62       10        29      5\n",
       "63       10        23      5\n",
       "64       10         3      4\n",
       "65       10         1      4\n",
       "66       10        15      5\n",
       "67       10        22      4\n",
       "68       10        13      5"
      ]
     },
     "execution_count": 43,
     "metadata": {},
     "output_type": "execute_result"
    }
   ],
   "source": [
    "reviewd_movies_df"
   ]
  },
  {
   "cell_type": "code",
   "execution_count": 44,
   "metadata": {},
   "outputs": [
    {
     "data": {
      "text/html": [
       "<div>\n",
       "<style scoped>\n",
       "    .dataframe tbody tr th:only-of-type {\n",
       "        vertical-align: middle;\n",
       "    }\n",
       "\n",
       "    .dataframe tbody tr th {\n",
       "        vertical-align: top;\n",
       "    }\n",
       "\n",
       "    .dataframe thead th {\n",
       "        text-align: right;\n",
       "    }\n",
       "</style>\n",
       "<table border=\"1\" class=\"dataframe\">\n",
       "  <thead>\n",
       "    <tr style=\"text-align: right;\">\n",
       "      <th></th>\n",
       "      <th>user_id</th>\n",
       "      <th>movie_id</th>\n",
       "      <th>value</th>\n",
       "      <th>title</th>\n",
       "      <th>genre</th>\n",
       "      <th>difference_score</th>\n",
       "    </tr>\n",
       "  </thead>\n",
       "  <tbody>\n",
       "    <tr>\n",
       "      <th>61</th>\n",
       "      <td>10</td>\n",
       "      <td>8</td>\n",
       "      <td>4</td>\n",
       "      <td>Sci-Fi Murder Detectives</td>\n",
       "      <td>supernatural, mystery</td>\n",
       "      <td>3.502227</td>\n",
       "    </tr>\n",
       "    <tr>\n",
       "      <th>62</th>\n",
       "      <td>10</td>\n",
       "      <td>29</td>\n",
       "      <td>5</td>\n",
       "      <td>Post-Apocalyptia 1</td>\n",
       "      <td>sci-fi, thriller, mystery</td>\n",
       "      <td>8.914661</td>\n",
       "    </tr>\n",
       "    <tr>\n",
       "      <th>63</th>\n",
       "      <td>10</td>\n",
       "      <td>23</td>\n",
       "      <td>5</td>\n",
       "      <td>Trapped in Space</td>\n",
       "      <td>sci-fi, mystery</td>\n",
       "      <td>9.166727</td>\n",
       "    </tr>\n",
       "    <tr>\n",
       "      <th>64</th>\n",
       "      <td>10</td>\n",
       "      <td>3</td>\n",
       "      <td>4</td>\n",
       "      <td>The Sheriff 2</td>\n",
       "      <td>crime drama, western</td>\n",
       "      <td>4.038071</td>\n",
       "    </tr>\n",
       "    <tr>\n",
       "      <th>65</th>\n",
       "      <td>10</td>\n",
       "      <td>1</td>\n",
       "      <td>4</td>\n",
       "      <td>The Sheriff 1</td>\n",
       "      <td>crime drama, western</td>\n",
       "      <td>4.553066</td>\n",
       "    </tr>\n",
       "    <tr>\n",
       "      <th>66</th>\n",
       "      <td>10</td>\n",
       "      <td>15</td>\n",
       "      <td>5</td>\n",
       "      <td>We Will Fight Those Aliens</td>\n",
       "      <td>sci-fi, action</td>\n",
       "      <td>6.373393</td>\n",
       "    </tr>\n",
       "    <tr>\n",
       "      <th>67</th>\n",
       "      <td>10</td>\n",
       "      <td>22</td>\n",
       "      <td>4</td>\n",
       "      <td>Attack on Earth 2</td>\n",
       "      <td>sci-fi, action</td>\n",
       "      <td>6.480031</td>\n",
       "    </tr>\n",
       "    <tr>\n",
       "      <th>68</th>\n",
       "      <td>10</td>\n",
       "      <td>13</td>\n",
       "      <td>5</td>\n",
       "      <td>The Sheriff 3</td>\n",
       "      <td>crime drama, western</td>\n",
       "      <td>6.983040</td>\n",
       "    </tr>\n",
       "  </tbody>\n",
       "</table>\n",
       "</div>"
      ],
      "text/plain": [
       "    user_id  movie_id  value                       title  \\\n",
       "61       10         8      4    Sci-Fi Murder Detectives   \n",
       "62       10        29      5          Post-Apocalyptia 1   \n",
       "63       10        23      5            Trapped in Space   \n",
       "64       10         3      4               The Sheriff 2   \n",
       "65       10         1      4               The Sheriff 1   \n",
       "66       10        15      5  We Will Fight Those Aliens   \n",
       "67       10        22      4           Attack on Earth 2   \n",
       "68       10        13      5               The Sheriff 3   \n",
       "\n",
       "                        genre  difference_score  \n",
       "61      supernatural, mystery          3.502227  \n",
       "62  sci-fi, thriller, mystery          8.914661  \n",
       "63            sci-fi, mystery          9.166727  \n",
       "64       crime drama, western          4.038071  \n",
       "65       crime drama, western          4.553066  \n",
       "66             sci-fi, action          6.373393  \n",
       "67             sci-fi, action          6.480031  \n",
       "68       crime drama, western          6.983040  "
      ]
     },
     "execution_count": 44,
     "metadata": {},
     "output_type": "execute_result"
    }
   ],
   "source": [
    "reviewd_movies_df=reviewd_movies_df.join(movies_df,on='movie_id')\n",
    "reviewd_movies_df"
   ]
  },
  {
   "cell_type": "code",
   "execution_count": 45,
   "metadata": {},
   "outputs": [],
   "source": [
    "user_ratings=predicted_ratings[user_id_to_search-1]"
   ]
  },
  {
   "cell_type": "code",
   "execution_count": 47,
   "metadata": {},
   "outputs": [
    {
     "data": {
      "text/html": [
       "<div>\n",
       "<style scoped>\n",
       "    .dataframe tbody tr th:only-of-type {\n",
       "        vertical-align: middle;\n",
       "    }\n",
       "\n",
       "    .dataframe tbody tr th {\n",
       "        vertical-align: top;\n",
       "    }\n",
       "\n",
       "    .dataframe thead th {\n",
       "        text-align: right;\n",
       "    }\n",
       "</style>\n",
       "<table border=\"1\" class=\"dataframe\">\n",
       "  <thead>\n",
       "    <tr style=\"text-align: right;\">\n",
       "      <th></th>\n",
       "      <th>title</th>\n",
       "      <th>genre</th>\n",
       "      <th>difference_score</th>\n",
       "    </tr>\n",
       "    <tr>\n",
       "      <th>movie_id</th>\n",
       "      <th></th>\n",
       "      <th></th>\n",
       "      <th></th>\n",
       "    </tr>\n",
       "  </thead>\n",
       "  <tbody>\n",
       "    <tr>\n",
       "      <th>1</th>\n",
       "      <td>The Sheriff 1</td>\n",
       "      <td>crime drama, western</td>\n",
       "      <td>4.553066</td>\n",
       "    </tr>\n",
       "    <tr>\n",
       "      <th>2</th>\n",
       "      <td>The Big City Judge 1</td>\n",
       "      <td>legal drama</td>\n",
       "      <td>5.101510</td>\n",
       "    </tr>\n",
       "    <tr>\n",
       "      <th>3</th>\n",
       "      <td>The Sheriff 2</td>\n",
       "      <td>crime drama, western</td>\n",
       "      <td>4.038071</td>\n",
       "    </tr>\n",
       "    <tr>\n",
       "      <th>4</th>\n",
       "      <td>Just a Regular Family</td>\n",
       "      <td>reality</td>\n",
       "      <td>5.468456</td>\n",
       "    </tr>\n",
       "    <tr>\n",
       "      <th>5</th>\n",
       "      <td>The Big City Judge 2</td>\n",
       "      <td>legal drama</td>\n",
       "      <td>0.000000</td>\n",
       "    </tr>\n",
       "  </tbody>\n",
       "</table>\n",
       "</div>"
      ],
      "text/plain": [
       "                          title                 genre  difference_score\n",
       "movie_id                                                               \n",
       "1                 The Sheriff 1  crime drama, western          4.553066\n",
       "2          The Big City Judge 1           legal drama          5.101510\n",
       "3                 The Sheriff 2  crime drama, western          4.038071\n",
       "4         Just a Regular Family               reality          5.468456\n",
       "5          The Big City Judge 2           legal drama          0.000000"
      ]
     },
     "execution_count": 47,
     "metadata": {},
     "output_type": "execute_result"
    }
   ],
   "source": [
    "movies_df.head()"
   ]
  },
  {
   "cell_type": "code",
   "execution_count": 48,
   "metadata": {},
   "outputs": [],
   "source": [
    "movies_df['rating']=user_ratings"
   ]
  },
  {
   "cell_type": "code",
   "execution_count": 49,
   "metadata": {},
   "outputs": [
    {
     "data": {
      "text/html": [
       "<div>\n",
       "<style scoped>\n",
       "    .dataframe tbody tr th:only-of-type {\n",
       "        vertical-align: middle;\n",
       "    }\n",
       "\n",
       "    .dataframe tbody tr th {\n",
       "        vertical-align: top;\n",
       "    }\n",
       "\n",
       "    .dataframe thead th {\n",
       "        text-align: right;\n",
       "    }\n",
       "</style>\n",
       "<table border=\"1\" class=\"dataframe\">\n",
       "  <thead>\n",
       "    <tr style=\"text-align: right;\">\n",
       "      <th></th>\n",
       "      <th>title</th>\n",
       "      <th>genre</th>\n",
       "      <th>difference_score</th>\n",
       "      <th>rating</th>\n",
       "    </tr>\n",
       "    <tr>\n",
       "      <th>movie_id</th>\n",
       "      <th></th>\n",
       "      <th></th>\n",
       "      <th></th>\n",
       "      <th></th>\n",
       "    </tr>\n",
       "  </thead>\n",
       "  <tbody>\n",
       "    <tr>\n",
       "      <th>1</th>\n",
       "      <td>The Sheriff 1</td>\n",
       "      <td>crime drama, western</td>\n",
       "      <td>4.553066</td>\n",
       "      <td>4.009622</td>\n",
       "    </tr>\n",
       "    <tr>\n",
       "      <th>2</th>\n",
       "      <td>The Big City Judge 1</td>\n",
       "      <td>legal drama</td>\n",
       "      <td>5.101510</td>\n",
       "      <td>3.985667</td>\n",
       "    </tr>\n",
       "    <tr>\n",
       "      <th>3</th>\n",
       "      <td>The Sheriff 2</td>\n",
       "      <td>crime drama, western</td>\n",
       "      <td>4.038071</td>\n",
       "      <td>4.000591</td>\n",
       "    </tr>\n",
       "    <tr>\n",
       "      <th>4</th>\n",
       "      <td>Just a Regular Family</td>\n",
       "      <td>reality</td>\n",
       "      <td>5.468456</td>\n",
       "      <td>2.525179</td>\n",
       "    </tr>\n",
       "    <tr>\n",
       "      <th>5</th>\n",
       "      <td>The Big City Judge 2</td>\n",
       "      <td>legal drama</td>\n",
       "      <td>0.000000</td>\n",
       "      <td>3.924276</td>\n",
       "    </tr>\n",
       "  </tbody>\n",
       "</table>\n",
       "</div>"
      ],
      "text/plain": [
       "                          title                 genre  difference_score  \\\n",
       "movie_id                                                                  \n",
       "1                 The Sheriff 1  crime drama, western          4.553066   \n",
       "2          The Big City Judge 1           legal drama          5.101510   \n",
       "3                 The Sheriff 2  crime drama, western          4.038071   \n",
       "4         Just a Regular Family               reality          5.468456   \n",
       "5          The Big City Judge 2           legal drama          0.000000   \n",
       "\n",
       "            rating  \n",
       "movie_id            \n",
       "1         4.009622  \n",
       "2         3.985667  \n",
       "3         4.000591  \n",
       "4         2.525179  \n",
       "5         3.924276  "
      ]
     },
     "execution_count": 49,
     "metadata": {},
     "output_type": "execute_result"
    }
   ],
   "source": [
    "movies_df.head()"
   ]
  },
  {
   "cell_type": "code",
   "execution_count": 50,
   "metadata": {},
   "outputs": [],
   "source": [
    "already_reviewed=reviewd_movies_df['movie_id']"
   ]
  },
  {
   "cell_type": "code",
   "execution_count": 51,
   "metadata": {},
   "outputs": [],
   "source": [
    "recommended_df=movies_df[movies_df.index.isin(already_reviewed)==False]"
   ]
  },
  {
   "cell_type": "code",
   "execution_count": 52,
   "metadata": {},
   "outputs": [],
   "source": [
    "recommended_df=recommended_df.sort_values(by=['rating'],ascending=False)"
   ]
  },
  {
   "cell_type": "code",
   "execution_count": 54,
   "metadata": {},
   "outputs": [
    {
     "data": {
      "text/html": [
       "<div>\n",
       "<style scoped>\n",
       "    .dataframe tbody tr th:only-of-type {\n",
       "        vertical-align: middle;\n",
       "    }\n",
       "\n",
       "    .dataframe tbody tr th {\n",
       "        vertical-align: top;\n",
       "    }\n",
       "\n",
       "    .dataframe thead th {\n",
       "        text-align: right;\n",
       "    }\n",
       "</style>\n",
       "<table border=\"1\" class=\"dataframe\">\n",
       "  <thead>\n",
       "    <tr style=\"text-align: right;\">\n",
       "      <th></th>\n",
       "      <th>title</th>\n",
       "      <th>genre</th>\n",
       "      <th>difference_score</th>\n",
       "      <th>rating</th>\n",
       "    </tr>\n",
       "    <tr>\n",
       "      <th>movie_id</th>\n",
       "      <th></th>\n",
       "      <th></th>\n",
       "      <th></th>\n",
       "      <th></th>\n",
       "    </tr>\n",
       "  </thead>\n",
       "  <tbody>\n",
       "    <tr>\n",
       "      <th>30</th>\n",
       "      <td>Post-Apocalyptia 2</td>\n",
       "      <td>sci-fi, thriller, mystery</td>\n",
       "      <td>8.243759</td>\n",
       "      <td>5.332185</td>\n",
       "    </tr>\n",
       "    <tr>\n",
       "      <th>20</th>\n",
       "      <td>Buy My App</td>\n",
       "      <td>comedy</td>\n",
       "      <td>9.024649</td>\n",
       "      <td>5.091326</td>\n",
       "    </tr>\n",
       "    <tr>\n",
       "      <th>32</th>\n",
       "      <td>Behind the Scenes</td>\n",
       "      <td>comedy-drama</td>\n",
       "      <td>10.484943</td>\n",
       "      <td>4.665901</td>\n",
       "    </tr>\n",
       "    <tr>\n",
       "      <th>19</th>\n",
       "      <td>Fake News about Fake News</td>\n",
       "      <td>satire, comedy</td>\n",
       "      <td>7.454871</td>\n",
       "      <td>4.530127</td>\n",
       "    </tr>\n",
       "    <tr>\n",
       "      <th>6</th>\n",
       "      <td>Attack on Earth 1</td>\n",
       "      <td>sci-fi, action</td>\n",
       "      <td>4.147495</td>\n",
       "      <td>4.250625</td>\n",
       "    </tr>\n",
       "  </tbody>\n",
       "</table>\n",
       "</div>"
      ],
      "text/plain": [
       "                              title                      genre  \\\n",
       "movie_id                                                         \n",
       "30               Post-Apocalyptia 2  sci-fi, thriller, mystery   \n",
       "20                       Buy My App                     comedy   \n",
       "32                Behind the Scenes               comedy-drama   \n",
       "19        Fake News about Fake News             satire, comedy   \n",
       "6                 Attack on Earth 1             sci-fi, action   \n",
       "\n",
       "          difference_score    rating  \n",
       "movie_id                              \n",
       "30                8.243759  5.332185  \n",
       "20                9.024649  5.091326  \n",
       "32               10.484943  4.665901  \n",
       "19                7.454871  4.530127  \n",
       "6                 4.147495  4.250625  "
      ]
     },
     "execution_count": 54,
     "metadata": {},
     "output_type": "execute_result"
    }
   ],
   "source": [
    "recommended_df.head()"
   ]
  },
  {
   "cell_type": "markdown",
   "metadata": {},
   "source": [
    "##  Measuring Accuracy of Recommender System"
   ]
  },
  {
   "cell_type": "markdown",
   "metadata": {},
   "source": [
    "Divide the data into training & testing. Use only the training part to create U & M matrix.\n",
    "Use the final predicted values thus got to test on the remainder testing set"
   ]
  },
  {
   "cell_type": "code",
   "execution_count": 55,
   "metadata": {},
   "outputs": [],
   "source": [
    "raw_training_dataset_df=pd.read_csv('movie_ratings_data_set_training.csv')\n",
    "raw_testing_dataset_df=pd.read_csv('movie_ratings_data_set_testing.csv')"
   ]
  },
  {
   "cell_type": "code",
   "execution_count": 56,
   "metadata": {},
   "outputs": [],
   "source": [
    "ratings_training_df = pd.pivot_table(raw_training_dataset_df, index='user_id', columns='movie_id', aggfunc=np.max)\n",
    "ratings_testing_df = pd.pivot_table(raw_testing_dataset_df, index='user_id', columns='movie_id', aggfunc=np.max)"
   ]
  },
  {
   "cell_type": "code",
   "execution_count": 57,
   "metadata": {},
   "outputs": [
    {
     "name": "stderr",
     "output_type": "stream",
     "text": [
      "/home/ayush/anaconda3/lib/python3.6/site-packages/ipykernel_launcher.py:1: FutureWarning: Method .as_matrix will be removed in a future version. Use .values instead.\n",
      "  \"\"\"Entry point for launching an IPython kernel.\n"
     ]
    },
    {
     "name": "stdout",
     "output_type": "stream",
     "text": [
      "Optimization terminated successfully.\n",
      "         Current function value: 315.538580\n",
      "         Iterations: 1057\n",
      "         Function evaluations: 1597\n",
      "         Gradient evaluations: 1597\n"
     ]
    }
   ],
   "source": [
    "U, M = matrix_factorization_utilities.low_rank_matrix_factorization(ratings_training_df.as_matrix(),\n",
    "                                                                    num_features=11,\n",
    "                                                                    regularization_amount=1.1)"
   ]
  },
  {
   "cell_type": "code",
   "execution_count": 58,
   "metadata": {},
   "outputs": [],
   "source": [
    "predicted_ratings =np.matmul(U,M)"
   ]
  },
  {
   "cell_type": "code",
   "execution_count": 59,
   "metadata": {},
   "outputs": [
    {
     "name": "stderr",
     "output_type": "stream",
     "text": [
      "/home/ayush/anaconda3/lib/python3.6/site-packages/ipykernel_launcher.py:1: FutureWarning: Method .as_matrix will be removed in a future version. Use .values instead.\n",
      "  \"\"\"Entry point for launching an IPython kernel.\n"
     ]
    }
   ],
   "source": [
    "rmse_training=matrix_factorization_utilities.RMSE(ratings_training_df.as_matrix(), predicted_ratings)"
   ]
  },
  {
   "cell_type": "code",
   "execution_count": 60,
   "metadata": {},
   "outputs": [
    {
     "name": "stderr",
     "output_type": "stream",
     "text": [
      "/home/ayush/anaconda3/lib/python3.6/site-packages/ipykernel_launcher.py:1: FutureWarning: Method .as_matrix will be removed in a future version. Use .values instead.\n",
      "  \"\"\"Entry point for launching an IPython kernel.\n"
     ]
    }
   ],
   "source": [
    "rmse_testing = matrix_factorization_utilities.RMSE(ratings_testing_df.as_matrix(),\n",
    "                                                   predicted_ratings)"
   ]
  },
  {
   "cell_type": "code",
   "execution_count": 61,
   "metadata": {},
   "outputs": [
    {
     "name": "stdout",
     "output_type": "stream",
     "text": [
      "Training RMSE: 0.24952555813214913\n",
      "Testing RMSE: 1.209650257094134\n"
     ]
    }
   ],
   "source": [
    "print(\"Training RMSE: {}\".format(rmse_training))\n",
    "print(\"Testing RMSE: {}\".format(rmse_testing))"
   ]
  },
  {
   "cell_type": "markdown",
   "metadata": {},
   "source": [
    "## Using average rating method to show products for new user(Type 3 mentioned above)"
   ]
  },
  {
   "cell_type": "code",
   "execution_count": 62,
   "metadata": {},
   "outputs": [],
   "source": [
    "raw_dataset_df = pd.read_csv('movie_ratings_data_set.csv')\n",
    "ratings_df = pd.pivot_table(raw_dataset_df, index='user_id', columns='movie_id', aggfunc=np.max)\n"
   ]
  },
  {
   "cell_type": "code",
   "execution_count": 63,
   "metadata": {},
   "outputs": [
    {
     "name": "stderr",
     "output_type": "stream",
     "text": [
      "/home/ayush/anaconda3/lib/python3.6/site-packages/ipykernel_launcher.py:1: FutureWarning: Method .as_matrix will be removed in a future version. Use .values instead.\n",
      "  \"\"\"Entry point for launching an IPython kernel.\n"
     ]
    }
   ],
   "source": [
    "normalized_ratings, means = matrix_factorization_utilities.normalize_ratings(ratings_df.as_matrix())"
   ]
  },
  {
   "cell_type": "code",
   "execution_count": 64,
   "metadata": {},
   "outputs": [
    {
     "name": "stdout",
     "output_type": "stream",
     "text": [
      "Optimization terminated successfully.\n",
      "         Current function value: 105.620378\n",
      "         Iterations: 457\n",
      "         Function evaluations: 681\n",
      "         Gradient evaluations: 681\n"
     ]
    }
   ],
   "source": [
    "U, M = matrix_factorization_utilities.low_rank_matrix_factorization(normalized_ratings,\n",
    "                                                                    num_features=11,\n",
    "                                                                    regularization_amount=1.1)"
   ]
  },
  {
   "cell_type": "code",
   "execution_count": 65,
   "metadata": {},
   "outputs": [],
   "source": [
    "predicted_ratings = np.matmul(U, M)"
   ]
  },
  {
   "cell_type": "code",
   "execution_count": 66,
   "metadata": {},
   "outputs": [],
   "source": [
    "predicted_ratings = predicted_ratings + means"
   ]
  },
  {
   "cell_type": "markdown",
   "metadata": {},
   "source": [
    "#### Since the matrix decompostion process is time-consuming, pickle the matrix we have found so to use later"
   ]
  },
  {
   "cell_type": "code",
   "execution_count": 68,
   "metadata": {},
   "outputs": [],
   "source": [
    "import pickle\n",
    "pickle.dump(U, open(\"user_features.dat\", \"wb\"))\n",
    "pickle.dump(M, open(\"product_features.dat\", \"wb\"))\n",
    "pickle.dump(predicted_ratings, open(\"predicted_ratings.dat\", \"wb\" ))\n",
    "pickle.dump(means, open(\"means.dat\", \"wb\" ))"
   ]
  },
  {
   "cell_type": "code",
   "execution_count": 69,
   "metadata": {},
   "outputs": [
    {
     "data": {
      "text/plain": [
       "(34,)"
      ]
     },
     "execution_count": 69,
     "metadata": {},
     "output_type": "execute_result"
    }
   ],
   "source": [
    "means.shape"
   ]
  },
  {
   "cell_type": "code",
   "execution_count": 70,
   "metadata": {},
   "outputs": [
    {
     "data": {
      "text/plain": [
       "4.611111111111111"
      ]
     },
     "execution_count": 70,
     "metadata": {},
     "output_type": "execute_result"
    }
   ],
   "source": [
    "means[0]"
   ]
  },
  {
   "cell_type": "markdown",
   "metadata": {},
   "source": [
    "## Recomm for a new user based on above average rating"
   ]
  },
  {
   "cell_type": "code",
   "execution_count": 71,
   "metadata": {},
   "outputs": [],
   "source": [
    "means=pickle.load(open('means.dat','rb'))"
   ]
  },
  {
   "cell_type": "code",
   "execution_count": 72,
   "metadata": {},
   "outputs": [],
   "source": [
    "movies_df = pd.read_csv('movies.csv', index_col='movie_id')"
   ]
  },
  {
   "cell_type": "code",
   "execution_count": 73,
   "metadata": {},
   "outputs": [],
   "source": [
    "movies_df['rating']=means"
   ]
  },
  {
   "cell_type": "code",
   "execution_count": 74,
   "metadata": {},
   "outputs": [],
   "source": [
    "movies_df = movies_df.sort_values(by=['rating'], ascending=False)"
   ]
  },
  {
   "cell_type": "code",
   "execution_count": 75,
   "metadata": {},
   "outputs": [
    {
     "data": {
      "text/html": [
       "<div>\n",
       "<style scoped>\n",
       "    .dataframe tbody tr th:only-of-type {\n",
       "        vertical-align: middle;\n",
       "    }\n",
       "\n",
       "    .dataframe tbody tr th {\n",
       "        vertical-align: top;\n",
       "    }\n",
       "\n",
       "    .dataframe thead th {\n",
       "        text-align: right;\n",
       "    }\n",
       "</style>\n",
       "<table border=\"1\" class=\"dataframe\">\n",
       "  <thead>\n",
       "    <tr style=\"text-align: right;\">\n",
       "      <th></th>\n",
       "      <th>title</th>\n",
       "      <th>genre</th>\n",
       "      <th>rating</th>\n",
       "    </tr>\n",
       "    <tr>\n",
       "      <th>movie_id</th>\n",
       "      <th></th>\n",
       "      <th></th>\n",
       "      <th></th>\n",
       "    </tr>\n",
       "  </thead>\n",
       "  <tbody>\n",
       "    <tr>\n",
       "      <th>6</th>\n",
       "      <td>Attack on Earth 1</td>\n",
       "      <td>sci-fi, action</td>\n",
       "      <td>4.900000</td>\n",
       "    </tr>\n",
       "    <tr>\n",
       "      <th>10</th>\n",
       "      <td>Surrounded by Zombies 1</td>\n",
       "      <td>horror, zombie fiction</td>\n",
       "      <td>4.882353</td>\n",
       "    </tr>\n",
       "    <tr>\n",
       "      <th>3</th>\n",
       "      <td>The Sheriff 2</td>\n",
       "      <td>crime drama, western</td>\n",
       "      <td>4.818182</td>\n",
       "    </tr>\n",
       "    <tr>\n",
       "      <th>12</th>\n",
       "      <td>Horrorfest</td>\n",
       "      <td>horror</td>\n",
       "      <td>4.800000</td>\n",
       "    </tr>\n",
       "    <tr>\n",
       "      <th>5</th>\n",
       "      <td>The Big City Judge 2</td>\n",
       "      <td>legal drama</td>\n",
       "      <td>4.785714</td>\n",
       "    </tr>\n",
       "  </tbody>\n",
       "</table>\n",
       "</div>"
      ],
      "text/plain": [
       "                            title                   genre    rating\n",
       "movie_id                                                           \n",
       "6               Attack on Earth 1          sci-fi, action  4.900000\n",
       "10        Surrounded by Zombies 1  horror, zombie fiction  4.882353\n",
       "3                   The Sheriff 2    crime drama, western  4.818182\n",
       "12                     Horrorfest                  horror  4.800000\n",
       "5            The Big City Judge 2             legal drama  4.785714"
      ]
     },
     "execution_count": 75,
     "metadata": {},
     "output_type": "execute_result"
    }
   ],
   "source": [
    "movies_df.head()"
   ]
  },
  {
   "cell_type": "code",
   "execution_count": null,
   "metadata": {},
   "outputs": [],
   "source": []
  }
 ],
 "metadata": {
  "kernelspec": {
   "display_name": "Python 3",
   "language": "python",
   "name": "python3"
  },
  "language_info": {
   "codemirror_mode": {
    "name": "ipython",
    "version": 3
   },
   "file_extension": ".py",
   "mimetype": "text/x-python",
   "name": "python",
   "nbconvert_exporter": "python",
   "pygments_lexer": "ipython3",
   "version": "3.6.6"
  }
 },
 "nbformat": 4,
 "nbformat_minor": 2
}
