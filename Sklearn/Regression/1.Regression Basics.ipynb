{
 "cells": [
  {
   "cell_type": "code",
   "execution_count": 6,
   "metadata": {},
   "outputs": [],
   "source": [
    "from sklearn.datasets import make_regression\n",
    "from sklearn.model_selection import train_test_split\n",
    "X_R1, y_R1 = make_regression(n_samples = 100, n_features=1,\n",
    "                            n_informative=1, bias = 150.0,\n",
    "                            noise = 30, random_state=0)"
   ]
  },
  {
   "cell_type": "code",
   "execution_count": 7,
   "metadata": {},
   "outputs": [],
   "source": [
    "X_train, X_test, y_train, y_test = train_test_split(X_R1, y_R1, random_state = 0)"
   ]
  },
  {
   "cell_type": "markdown",
   "metadata": {},
   "source": [
    "## K neighbour regressor"
   ]
  },
  {
   "cell_type": "code",
   "execution_count": 10,
   "metadata": {},
   "outputs": [
    {
     "name": "stdout",
     "output_type": "stream",
     "text": [
      "R-squared test score: 0.425\n"
     ]
    }
   ],
   "source": [
    "from sklearn.neighbors import KNeighborsRegressor #knn can also be used as a regressor\n",
    "knnreg=KNeighborsRegressor(n_neighbors=5)\n",
    "knnreg.fit(X_train,y_train)\n",
    "print('R-squared test score: {:.3f}'\n",
    "     .format(knnreg.score(X_test, y_test)))"
   ]
  },
  {
   "cell_type": "markdown",
   "metadata": {},
   "source": [
    "##  Linear Regression"
   ]
  },
  {
   "cell_type": "code",
   "execution_count": 11,
   "metadata": {},
   "outputs": [],
   "source": [
    "from sklearn.linear_model import LinearRegression\n",
    "X_train, X_test, y_train, y_test = train_test_split(X_R1, y_R1,\n",
    "                                                   random_state = 0)\n",
    "linreg = LinearRegression().fit(X_train, y_train)"
   ]
  },
  {
   "cell_type": "code",
   "execution_count": 12,
   "metadata": {},
   "outputs": [
    {
     "name": "stdout",
     "output_type": "stream",
     "text": [
      "linear model coeff (w): [45.70870465]\n",
      "linear model intercept (b): 148.446\n",
      "R-squared score (training): 0.679\n",
      "R-squared score (test): 0.492\n"
     ]
    }
   ],
   "source": [
    "print('linear model coeff (w): {}'\n",
    "     .format(linreg.coef_))\n",
    "print('linear model intercept (b): {:.3f}'\n",
    "     .format(linreg.intercept_))\n",
    "print('R-squared score (training): {:.3f}'\n",
    "     .format(linreg.score(X_train, y_train)))\n",
    "print('R-squared score (test): {:.3f}'\n",
    "     .format(linreg.score(X_test, y_test)))"
   ]
  },
  {
   "cell_type": "code",
   "execution_count": 13,
   "metadata": {},
   "outputs": [],
   "source": [
    "import matplotlib.pyplot as plt"
   ]
  },
  {
   "cell_type": "code",
   "execution_count": 18,
   "metadata": {},
   "outputs": [
    {
     "data": {
      "text/plain": [
       "Text(0, 0.5, 'Target value (y)')"
      ]
     },
     "execution_count": 18,
     "metadata": {},
     "output_type": "execute_result"
    },
    {
     "data": {
      "image/png": "[encoded data removed]",
      "text/plain": [
       "<Figure size 432x288 with 1 Axes>"
      ]
     },
     "metadata": {
      "needs_background": "light"
     },
     "output_type": "display_data"
    }
   ],
   "source": [
    "plt.scatter(X_R1, y_R1, marker='o')\n",
    "plt.plot(X_R1, linreg.coef_ * X_R1+ linreg.intercept_,color='r')\n",
    "plt.title('Least-squares linear regression')\n",
    "plt.xlabel('Feature value (x)')\n",
    "plt.ylabel('Target value (y)')"
   ]
  },
  {
   "cell_type": "code",
   "execution_count": 32,
   "metadata": {},
   "outputs": [],
   "source": [
    "import pandas as pd\n",
    "def load_crime_dataset():\n",
    "    # Communities and Crime dataset for regression\n",
    "    # https://archive.ics.uci.edu/ml/datasets/Communities+and+Crime+Unnormalized\n",
    "\n",
    "    crime = pd.read_table('CommViolPredUnnormalizedData.txt', sep=',', na_values='?')\n",
    "    # remove features with poor coverage or lower relevance, and keep ViolentCrimesPerPop target column\n",
    "    columns_to_keep = [5, 6] + list(range(11,26)) + list(range(32, 103)) + [145]  \n",
    "    crime = crime.ix[:,columns_to_keep].dropna()\n",
    "\n",
    "    X_crime = crime.ix[:,range(0,88)]\n",
    "    y_crime = crime['ViolentCrimesPerPop']\n",
    "\n",
    "    return (X_crime, y_crime)"
   ]
  },
  {
   "cell_type": "code",
   "execution_count": 34,
   "metadata": {},
   "outputs": [
    {
     "name": "stderr",
     "output_type": "stream",
     "text": [
      "/home/ayush/anaconda3/lib/python3.6/site-packages/ipykernel_launcher.py:9: DeprecationWarning: \n",
      ".ix is deprecated. Please use\n",
      ".loc for label based indexing or\n",
      ".iloc for positional indexing\n",
      "\n",
      "See the documentation here:\n",
      "http://pandas.pydata.org/pandas-docs/stable/indexing.html#ix-indexer-is-deprecated\n",
      "  if __name__ == '__main__':\n",
      "/home/ayush/anaconda3/lib/python3.6/site-packages/ipykernel_launcher.py:11: DeprecationWarning: \n",
      ".ix is deprecated. Please use\n",
      ".loc for label based indexing or\n",
      ".iloc for positional indexing\n",
      "\n",
      "See the documentation here:\n",
      "http://pandas.pydata.org/pandas-docs/stable/indexing.html#ix-indexer-is-deprecated\n",
      "  # This is added back by InteractiveShellApp.init_path()\n"
     ]
    }
   ],
   "source": [
    "(X_crime, y_crime) = load_crime_dataset()"
   ]
  },
  {
   "cell_type": "code",
   "execution_count": 35,
   "metadata": {},
   "outputs": [
    {
     "name": "stdout",
     "output_type": "stream",
     "text": [
      "Crime dataset\n",
      "linear model intercept: -1728.1306725712798\n",
      "linear model coeff:\n",
      "[ 1.61892346e-03 -9.43009110e+01  1.36067510e+01 -3.13380670e+01\n",
      " -8.15482713e-02 -1.69455128e+01 -2.42730375e-03  1.53013232e+00\n",
      " -1.39193248e-02 -7.72112833e+00  2.28112354e+01 -5.65708295e+00\n",
      "  9.34751364e+00  2.06969566e-01 -7.43413626e+00  9.65856476e-03\n",
      "  4.38030290e-03  4.79754625e-03 -4.46469212e+00 -1.60907140e+01\n",
      "  8.82778012e+00 -5.06734503e-01 -1.42198055e+00  8.17551991e+00\n",
      " -3.87048268e+00 -3.54209213e+00  4.48758304e+00  9.30645715e+00\n",
      "  1.73644996e+02  1.18220766e+01  1.51120836e+02 -3.29613007e+02\n",
      " -1.35343395e+02  6.95380108e-01 -2.38369008e+01  2.77038981e+00\n",
      "  3.82248925e-01  4.38813358e+00 -1.06410851e+01 -4.92294176e-03\n",
      "  4.14031827e+01 -1.16206866e-03  1.18568968e+00  1.75418465e+00\n",
      " -3.68283678e+00  1.59679443e+00 -8.42180230e+00 -3.79703897e+01\n",
      "  4.74076990e+01 -2.50768374e+01 -2.88246410e-01 -3.65633234e+01\n",
      "  1.89516080e+01 -4.53336736e+01  6.82698598e+02  1.04478671e+02\n",
      " -3.28575414e+02 -3.14364068e+01  2.74053494e+01  5.12336432e+00\n",
      "  6.91580764e+01  1.98267157e-02 -6.12133638e-01  2.65335065e+01\n",
      "  1.00704633e+01 -1.58621594e+00  2.24025322e+00  7.38288450e+00\n",
      " -3.13915504e+01 -9.77857270e-05  5.01970945e-05 -3.48059432e-04\n",
      " -2.50225917e-04 -5.26610456e-01 -5.16564774e-01 -4.10464090e-01\n",
      "  1.16146366e-01  1.46167357e+00 -3.04019816e-01  2.43792841e+00\n",
      " -3.65615457e+01  1.41488917e-01  2.88800603e-01  1.77464865e+01\n",
      "  5.96587698e-01  1.98257510e+00 -1.36380442e-01 -1.85303461e+00]\n",
      "R-squared score (training): 0.673\n",
      "R-squared score (test): 0.496\n"
     ]
    }
   ],
   "source": [
    "X_train, X_test, y_train, y_test = train_test_split(X_crime, y_crime,\n",
    "                                                   random_state = 0)\n",
    "linreg = LinearRegression().fit(X_train, y_train)\n",
    "\n",
    "print('Crime dataset')\n",
    "print('linear model intercept: {}'\n",
    "     .format(linreg.intercept_))\n",
    "print('linear model coeff:\\n{}'\n",
    "     .format(linreg.coef_))\n",
    "print('R-squared score (training): {:.3f}'\n",
    "     .format(linreg.score(X_train, y_train)))\n",
    "print('R-squared score (test): {:.3f}'\n",
    "     .format(linreg.score(X_test, y_test)))"
   ]
  },
  {
   "cell_type": "markdown",
   "metadata": {},
   "source": [
    "##  Ridge Regression( Linear regression + l2 regularization)"
   ]
  },
  {
   "cell_type": "code",
   "execution_count": 40,
   "metadata": {},
   "outputs": [],
   "source": [
    "from sklearn.linear_model import Ridge\n",
    "import numpy as np"
   ]
  },
  {
   "cell_type": "code",
   "execution_count": 41,
   "metadata": {},
   "outputs": [],
   "source": [
    "X_train, X_test, y_train, y_test = train_test_split(X_crime, y_crime,\n",
    "                                                   random_state = 0)"
   ]
  },
  {
   "cell_type": "code",
   "execution_count": 42,
   "metadata": {},
   "outputs": [
    {
     "name": "stdout",
     "output_type": "stream",
     "text": [
      "Crime dataset\n",
      "ridge regression linear model intercept: -3352.4230358464065\n",
      "ridge regression linear model coeff:\n",
      "[ 1.95091438e-03  2.19322667e+01  9.56286607e+00 -3.59178973e+01\n",
      "  6.36465325e+00 -1.96885471e+01 -2.80715856e-03  1.66254486e+00\n",
      " -6.61426604e-03 -6.95450680e+00  1.71944731e+01 -5.62819154e+00\n",
      "  8.83525114e+00  6.79085746e-01 -7.33614221e+00  6.70389803e-03\n",
      "  9.78505502e-04  5.01202169e-03 -4.89870524e+00 -1.79270062e+01\n",
      "  9.17572382e+00 -1.24454193e+00  1.21845360e+00  1.03233089e+01\n",
      " -3.78037278e+00 -3.73428973e+00  4.74595305e+00  8.42696855e+00\n",
      "  3.09250005e+01  1.18644167e+01 -2.05183675e+00 -3.82210450e+01\n",
      "  1.85081589e+01  1.52510829e+00 -2.20086608e+01  2.46283912e+00\n",
      "  3.29328703e-01  4.02228467e+00 -1.12903533e+01 -4.69567413e-03\n",
      "  4.27046505e+01 -1.22507167e-03  1.40795790e+00  9.35041855e-01\n",
      " -3.00464253e+00  1.12390514e+00 -1.82487653e+01 -1.54653407e+01\n",
      "  2.41917002e+01 -1.32497562e+01 -4.20113118e-01 -3.59710660e+01\n",
      "  1.29786751e+01 -2.80765995e+01  4.38513476e+01  3.86590044e+01\n",
      " -6.46024046e+01 -1.63714023e+01  2.90397330e+01  4.15472907e+00\n",
      "  5.34033563e+01  1.98773191e-02 -5.47413979e-01  1.23883518e+01\n",
      "  1.03526583e+01 -1.57238894e+00  3.15887097e+00  8.77757987e+00\n",
      " -2.94724962e+01 -2.33072370e-04  3.13528914e-04 -4.13551441e-04\n",
      " -1.79928030e-04 -5.74054526e-01 -5.17742507e-01 -4.20670932e-01\n",
      "  1.53383595e-01  1.32725423e+00  3.84863158e+00  3.03024594e+00\n",
      " -3.77692644e+01  1.37933464e-01  3.07676522e-01  1.57128807e+01\n",
      "  3.31418306e-01  3.35994414e+00  1.61265911e-01 -2.67619878e+00]\n",
      "R-squared score (training): 0.671\n",
      "R-squared score (test): 0.494\n",
      "Number of non-zero features: 88\n"
     ]
    }
   ],
   "source": [
    "linridge=Ridge(alpha=20).fit(X_train, y_train) #more alpha, higher regularization\n",
    "print('Crime dataset')\n",
    "print('ridge regression linear model intercept: {}'\n",
    "     .format(linridge.intercept_))\n",
    "print('ridge regression linear model coeff:\\n{}'\n",
    "     .format(linridge.coef_))\n",
    "print('R-squared score (training): {:.3f}'\n",
    "     .format(linridge.score(X_train, y_train)))\n",
    "print('R-squared score (test): {:.3f}'\n",
    "     .format(linridge.score(X_test, y_test)))\n",
    "print('Number of non-zero features: {}'\n",
    "     .format(np.sum(linridge.coef_ != 0)))"
   ]
  },
  {
   "cell_type": "markdown",
   "metadata": {},
   "source": [
    "## Ridge with feature normalization (Feature normaztn improves ridge regression)"
   ]
  },
  {
   "cell_type": "code",
   "execution_count": 43,
   "metadata": {},
   "outputs": [],
   "source": [
    "from sklearn.preprocessing import MinMaxScaler\n",
    "scaler=MinMaxScaler()"
   ]
  },
  {
   "cell_type": "code",
   "execution_count": 44,
   "metadata": {},
   "outputs": [],
   "source": [
    "from sklearn.linear_model import Ridge\n",
    "X_train, X_test, y_train, y_test = train_test_split(X_crime, y_crime,\n",
    "                                                   random_state = 0)\n",
    "\n",
    "X_train_scaled = scaler.fit_transform(X_train) #fit the scalar using the training set only & then apply the same scalar\n",
    "X_test_scaled = scaler.transform(X_test)  # to transform the test set"
   ]
  },
  {
   "cell_type": "code",
   "execution_count": 45,
   "metadata": {},
   "outputs": [
    {
     "name": "stdout",
     "output_type": "stream",
     "text": [
      "Crime dataset\n",
      "ridge regression linear model intercept: 933.3906385044163\n",
      "ridge regression linear model coeff:\n",
      "[  88.68827454   16.48947987  -50.30285445  -82.90507574  -65.89507244\n",
      "   -2.27674244   87.74108514  150.94862182   18.8802613   -31.05554992\n",
      "  -43.13536109 -189.44266328   -4.52658099  107.97866804  -76.53358414\n",
      "    2.86032762   34.95230077   90.13523036   52.46428263  -62.10898424\n",
      "  115.01780357    2.66942023    6.94331369   -5.66646499 -101.55269144\n",
      "  -36.9087526    -8.7053343    29.11999068  171.25963057   99.36919476\n",
      "   75.06611841  123.63522539   95.24316483 -330.61044265 -442.30179004\n",
      " -284.49744001 -258.37150609   17.66431072 -101.70717151  110.64762887\n",
      "  523.13611718   24.8208959     4.86533322  -30.46775619   -3.51753937\n",
      "   50.57947231   10.84840601   18.27680946   44.11189865   58.33588176\n",
      "   67.08698975  -57.93524659  116.1446052    53.81163718   49.01607711\n",
      "   -7.62262031   55.14288543  -52.08878272  123.39291017   77.12562171\n",
      "   45.49795317  184.91229771  -91.35721203    1.07975971  234.09267451\n",
      "   10.3887921    94.7171829   167.91856631  -25.14025088   -1.18242839\n",
      "   14.60362467   36.77122659   53.19878339  -78.86365997   -5.89858411\n",
      "   26.04790298  115.1534917    68.74143311   68.28588166   16.5260514\n",
      "  -97.90513652  205.20448474   75.97304123   61.3791085   -79.83157049\n",
      "   67.26700741   95.67094538  -11.88380569]\n",
      "R-squared score (training): 0.615\n",
      "R-squared score (test): 0.599\n",
      "Number of non-zero features: 88\n"
     ]
    }
   ],
   "source": [
    "linridge = Ridge(alpha=20.0).fit(X_train_scaled, y_train)\n",
    "\n",
    "print('Crime dataset')\n",
    "print('ridge regression linear model intercept: {}'\n",
    "     .format(linridge.intercept_))\n",
    "print('ridge regression linear model coeff:\\n{}'\n",
    "     .format(linridge.coef_))\n",
    "print('R-squared score (training): {:.3f}'\n",
    "     .format(linridge.score(X_train_scaled, y_train)))\n",
    "print('R-squared score (test): {:.3f}'\n",
    "     .format(linridge.score(X_test_scaled, y_test)))\n",
    "print('Number of non-zero features: {}'\n",
    "     .format(np.sum(linridge.coef_ != 0)))"
   ]
  },
  {
   "cell_type": "code",
   "execution_count": 51,
   "metadata": {},
   "outputs": [
    {
     "name": "stdout",
     "output_type": "stream",
     "text": [
      "Ridge regression: effect of alpha regularization parameter\n",
      "\n",
      "Alpha = 0.00\n",
      "num abs(coeff) > 1.0: 88, r-squared training: 0.67, r-squared test: 0.50\n",
      "\n",
      "Alpha = 1.00\n",
      "num abs(coeff) > 1.0: 87, r-squared training: 0.66, r-squared test: 0.56\n",
      "\n",
      "Alpha = 10.00\n",
      "num abs(coeff) > 1.0: 87, r-squared training: 0.63, r-squared test: 0.59\n",
      "\n",
      "Alpha = 20.00\n",
      "num abs(coeff) > 1.0: 88, r-squared training: 0.61, r-squared test: 0.60\n",
      "\n",
      "Alpha = 50.00\n",
      "num abs(coeff) > 1.0: 86, r-squared training: 0.58, r-squared test: 0.58\n",
      "\n",
      "Alpha = 100.00\n",
      "num abs(coeff) > 1.0: 87, r-squared training: 0.55, r-squared test: 0.55\n",
      "\n",
      "Alpha = 1000.00\n",
      "num abs(coeff) > 1.0: 84, r-squared training: 0.31, r-squared test: 0.30\n",
      "\n"
     ]
    }
   ],
   "source": [
    "print('Ridge regression: effect of alpha regularization parameter\\n')\n",
    "for this_alpha in [0, 1, 10, 20, 50, 100, 1000]:\n",
    "    linridge = Ridge(alpha = this_alpha).fit(X_train_scaled, y_train)\n",
    "    r2_train = linridge.score(X_train_scaled, y_train)\n",
    "    r2_test = linridge.score(X_test_scaled, y_test)\n",
    "    num_coeff_bigger = np.sum(abs(linridge.coef_) > 1.0)\n",
    "    print('Alpha = {:.2f}\\nnum abs(coeff) > 1.0: {}, \\\n",
    "r-squared training: {:.2f}, r-squared test: {:.2f}\\n'\n",
    "         .format(this_alpha, num_coeff_bigger, r2_train, r2_test))"
   ]
  },
  {
   "cell_type": "markdown",
   "metadata": {},
   "source": [
    "##  Lasso Regression (Regression with L1 regularization)"
   ]
  },
  {
   "cell_type": "code",
   "execution_count": 52,
   "metadata": {},
   "outputs": [
    {
     "name": "stdout",
     "output_type": "stream",
     "text": [
      "Crime dataset\n",
      "lasso regression linear model intercept: 1186.612061998579\n",
      "lasso regression linear model coeff:\n",
      "[    0.             0.            -0.          -168.18346054\n",
      "    -0.            -0.             0.           119.6938194\n",
      "     0.            -0.             0.          -169.67564456\n",
      "    -0.             0.            -0.             0.\n",
      "     0.             0.            -0.            -0.\n",
      "     0.            -0.             0.             0.\n",
      "   -57.52991966    -0.            -0.             0.\n",
      "   259.32889226    -0.             0.             0.\n",
      "     0.            -0.         -1188.7396867     -0.\n",
      "    -0.            -0.          -231.42347299     0.\n",
      "  1488.36512229     0.            -0.            -0.\n",
      "    -0.             0.             0.             0.\n",
      "     0.             0.            -0.             0.\n",
      "    20.14419415     0.             0.             0.\n",
      "     0.             0.           339.04468804     0.\n",
      "     0.           459.53799903    -0.             0.\n",
      "   122.69221826    -0.            91.41202242     0.\n",
      "    -0.             0.             0.            73.14365856\n",
      "     0.            -0.             0.             0.\n",
      "    86.35600042     0.             0.             0.\n",
      "  -104.57143405   264.93206555     0.            23.4488645\n",
      "   -49.39355188     0.             5.19775369     0.        ]\n",
      "Non-zero features: 20\n",
      "R-squared score (training): 0.631\n",
      "R-squared score (test): 0.624\n",
      "\n",
      "Features with non-zero weight (sorted by absolute magnitude):\n"
     ]
    }
   ],
   "source": [
    "from sklearn.linear_model import Lasso\n",
    "from sklearn.preprocessing import MinMaxScaler\n",
    "scaler = MinMaxScaler()\n",
    "\n",
    "X_train, X_test, y_train, y_test = train_test_split(X_crime, y_crime,\n",
    "                                                   random_state = 0)\n",
    "\n",
    "X_train_scaled = scaler.fit_transform(X_train)\n",
    "X_test_scaled = scaler.transform(X_test)\n",
    "\n",
    "linlasso = Lasso(alpha=2.0, max_iter = 10000).fit(X_train_scaled, y_train)\n",
    "\n",
    "print('Crime dataset')\n",
    "print('lasso regression linear model intercept: {}'\n",
    "     .format(linlasso.intercept_))\n",
    "print('lasso regression linear model coeff:\\n{}'\n",
    "     .format(linlasso.coef_))\n",
    "print('Non-zero features: {}'\n",
    "     .format(np.sum(linlasso.coef_ != 0)))\n",
    "print('R-squared score (training): {:.3f}'\n",
    "     .format(linlasso.score(X_train_scaled, y_train)))\n",
    "print('R-squared score (test): {:.3f}\\n'\n",
    "     .format(linlasso.score(X_test_scaled, y_test)))\n",
    "print('Features with non-zero weight (sorted by absolute magnitude):')"
   ]
  },
  {
   "cell_type": "markdown",
   "metadata": {},
   "source": [
    "## Polynomial Regression with Regularization using Ridge\n",
    "### Here only the features are changed to polynomaial degrees and then the linear model itself is only applied\n",
    "### Linear model can be linear regression or ridge regression to lessen overfitting"
   ]
  },
  {
   "cell_type": "code",
   "execution_count": 54,
   "metadata": {},
   "outputs": [],
   "source": [
    "from sklearn.datasets import make_friedman1\n",
    "X_F1, y_F1 = make_friedman1(n_samples = 100,\n",
    "                           n_features = 7, random_state=0)"
   ]
  },
  {
   "cell_type": "code",
   "execution_count": 55,
   "metadata": {},
   "outputs": [
    {
     "name": "stdout",
     "output_type": "stream",
     "text": [
      "linear model coeff (w): [ 4.42036739  5.99661447  0.52894712 10.23751345  6.5507973  -2.02082636\n",
      " -0.32378811]\n",
      "linear model intercept (b): 1.543\n",
      "R-squared score (training): 0.722\n",
      "R-squared score (test): 0.722\n",
      "\n",
      "Now we transform the original input data to add\n",
      "polynomial features up to degree 2 (quadratic)\n",
      "\n",
      "(poly deg 2) linear model coeff (w):\n",
      "[ 3.40951018e-12  1.66452443e+01  2.67285381e+01 -2.21348316e+01\n",
      "  1.24359227e+01  6.93086826e+00  1.04772675e+00  3.71352773e+00\n",
      " -1.33785505e+01 -5.73177185e+00  1.61813184e+00  3.66399592e+00\n",
      "  5.04513181e+00 -1.45835979e+00  1.95156872e+00 -1.51297378e+01\n",
      "  4.86762224e+00 -2.97084269e+00 -7.78370522e+00  5.14696078e+00\n",
      " -4.65479361e+00  1.84147395e+01 -2.22040650e+00  2.16572630e+00\n",
      " -1.27989481e+00  1.87946559e+00  1.52962716e-01  5.62073813e-01\n",
      " -8.91697516e-01 -2.18481128e+00  1.37595426e+00 -4.90336041e+00\n",
      " -2.23535458e+00  1.38268439e+00 -5.51908208e-01 -1.08795007e+00]\n",
      "(poly deg 2) linear model intercept (b): -3.206\n",
      "(poly deg 2) R-squared score (training): 0.969\n",
      "(poly deg 2) R-squared score (test): 0.805\n",
      "\n",
      "\n",
      "Addition of many polynomial features often leads to\n",
      "overfitting, so we often use polynomial features in combination\n",
      "with regression that has a regularization penalty, like ridge\n",
      "regression.\n",
      "\n",
      "(poly deg 2 + ridge) linear model coeff (w):\n",
      "[ 0.          2.229281    4.73349734 -3.15432089  3.8585194   1.60970912\n",
      " -0.76967054 -0.14956002 -1.75215371  1.5970487   1.37080607  2.51598244\n",
      "  2.71746523  0.48531538 -1.9356048  -1.62914955  1.51474518  0.88674141\n",
      "  0.26141199  2.04931775 -1.93025705  3.61850966 -0.71788143  0.63173956\n",
      " -3.16429847  1.29161448  3.545085    1.73422041  0.94347654 -0.51207219\n",
      "  1.70114448 -1.97949067  1.80687548 -0.2173863   2.87585898 -0.89423157]\n",
      "(poly deg 2 + ridge) linear model intercept (b): 5.418\n",
      "(poly deg 2 + ridge) R-squared score (training): 0.826\n",
      "(poly deg 2 + ridge) R-squared score (test): 0.825\n"
     ]
    }
   ],
   "source": [
    "from sklearn.linear_model import LinearRegression\n",
    "from sklearn.linear_model import Ridge\n",
    "from sklearn.preprocessing import PolynomialFeatures\n",
    "\n",
    "\n",
    "X_train, X_test, y_train, y_test = train_test_split(X_F1, y_F1,\n",
    "                                                   random_state = 0)\n",
    "linreg = LinearRegression().fit(X_train, y_train)\n",
    "\n",
    "print('linear model coeff (w): {}'\n",
    "     .format(linreg.coef_))\n",
    "print('linear model intercept (b): {:.3f}'\n",
    "     .format(linreg.intercept_))\n",
    "print('R-squared score (training): {:.3f}'\n",
    "     .format(linreg.score(X_train, y_train)))\n",
    "print('R-squared score (test): {:.3f}'\n",
    "     .format(linreg.score(X_test, y_test)))\n",
    "\n",
    "print('\\nNow we transform the original input data to add\\n\\\n",
    "polynomial features up to degree 2 (quadratic)\\n')\n",
    "poly = PolynomialFeatures(degree=2)\n",
    "X_F1_poly = poly.fit_transform(X_F1)\n",
    "\n",
    "X_train, X_test, y_train, y_test = train_test_split(X_F1_poly, y_F1,\n",
    "                                                   random_state = 0)\n",
    "linreg = LinearRegression().fit(X_train, y_train)\n",
    "\n",
    "print('(poly deg 2) linear model coeff (w):\\n{}'\n",
    "     .format(linreg.coef_))\n",
    "print('(poly deg 2) linear model intercept (b): {:.3f}'\n",
    "     .format(linreg.intercept_))\n",
    "print('(poly deg 2) R-squared score (training): {:.3f}'\n",
    "     .format(linreg.score(X_train, y_train)))\n",
    "print('(poly deg 2) R-squared score (test): {:.3f}\\n'\n",
    "     .format(linreg.score(X_test, y_test)))\n",
    "\n",
    "print('\\nAddition of many polynomial features often leads to\\n\\\n",
    "overfitting, so we often use polynomial features in combination\\n\\\n",
    "with regression that has a regularization penalty, like ridge\\n\\\n",
    "regression.\\n')\n",
    "\n",
    "X_train, X_test, y_train, y_test = train_test_split(X_F1_poly, y_F1,\n",
    "                                                   random_state = 0)\n",
    "linreg = Ridge().fit(X_train, y_train)\n",
    "\n",
    "print('(poly deg 2 + ridge) linear model coeff (w):\\n{}'\n",
    "     .format(linreg.coef_))\n",
    "print('(poly deg 2 + ridge) linear model intercept (b): {:.3f}'\n",
    "     .format(linreg.intercept_))\n",
    "print('(poly deg 2 + ridge) R-squared score (training): {:.3f}'\n",
    "     .format(linreg.score(X_train, y_train)))\n",
    "print('(poly deg 2 + ridge) R-squared score (test): {:.3f}'\n",
    "     .format(linreg.score(X_test, y_test)))"
   ]
  },
  {
   "cell_type": "code",
   "execution_count": null,
   "metadata": {},
   "outputs": [],
   "source": []
  }
 ],
 "metadata": {
  "kernelspec": {
   "display_name": "Python 3",
   "language": "python",
   "name": "python3"
  },
  "language_info": {
   "codemirror_mode": {
    "name": "ipython",
    "version": 3
   },
   "file_extension": ".py",
   "mimetype": "text/x-python",
   "name": "python",
   "nbconvert_exporter": "python",
   "pygments_lexer": "ipython3",
   "version": "3.6.6"
  }
 },
 "nbformat": 4,
 "nbformat_minor": 2
}
